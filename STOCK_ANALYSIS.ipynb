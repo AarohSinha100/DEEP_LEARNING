{
  "nbformat": 4,
  "nbformat_minor": 0,
  "metadata": {
    "colab": {
      "provenance": [],
      "authorship_tag": "ABX9TyNb82ONg/HNAf+jARtNIF2f",
      "include_colab_link": true
    },
    "kernelspec": {
      "name": "python3",
      "display_name": "Python 3"
    },
    "language_info": {
      "name": "python"
    }
  },
  "cells": [
    {
      "cell_type": "markdown",
      "metadata": {
        "id": "view-in-github",
        "colab_type": "text"
      },
      "source": [
        "<a href=\"https://colab.research.google.com/github/AarohSinha100/DEEP_LEARNING/blob/main/STOCK_ANALYSIS.ipynb\" target=\"_parent\"><img src=\"https://colab.research.google.com/assets/colab-badge.svg\" alt=\"Open In Colab\"/></a>"
      ]
    },
    {
      "cell_type": "code",
      "source": [
        "import pandas as pd\n",
        "import numpy as np\n",
        "import matplotlib.pyplot as plt\n",
        "import seaborn as sns\n",
        "import tensorflow\n",
        "import datetime as dt\n",
        "import math\n",
        "from sklearn.preprocessing import MinMaxScaler\n",
        "from keras.models import Sequential\n",
        "from keras.layers import Dense, LSTM\n",
        "plt.style.use(\"fivethirtyeight\")"
      ],
      "metadata": {
        "id": "h3uAHQsH2-8E"
      },
      "execution_count": 57,
      "outputs": []
    },
    {
      "cell_type": "code",
      "execution_count": 7,
      "metadata": {
        "colab": {
          "base_uri": "https://localhost:8080/",
          "height": 424
        },
        "id": "huyVMazv1yOZ",
        "outputId": "5b409dc2-105f-46ff-edf0-8880750e3dd6"
      },
      "outputs": [
        {
          "output_type": "execute_result",
          "data": {
            "text/plain": [
              "            Date      Symbol Series  Prev Close    Open     High      Low  \\\n",
              "0     2000-01-03  ASIANPAINT     EQ      361.20   370.0   390.00   370.00   \n",
              "1     2000-01-04  ASIANPAINT     EQ      381.65   380.0   392.00   375.00   \n",
              "2     2000-01-05  ASIANPAINT     EQ      385.55   371.5   390.00   371.50   \n",
              "3     2000-01-06  ASIANPAINT     EQ      383.00   384.9   384.90   374.50   \n",
              "4     2000-01-07  ASIANPAINT     EQ      377.50   376.0   390.00   370.00   \n",
              "...          ...         ...    ...         ...     ...      ...      ...   \n",
              "5301  2021-04-26  ASIANPAINT     EQ     2517.95  2530.0  2575.00  2530.00   \n",
              "5302  2021-04-27  ASIANPAINT     EQ     2557.90  2545.0  2579.90  2534.00   \n",
              "5303  2021-04-28  ASIANPAINT     EQ     2574.35  2588.0  2620.25  2575.00   \n",
              "5304  2021-04-29  ASIANPAINT     EQ     2614.55  2630.0  2642.00  2570.00   \n",
              "5305  2021-04-30  ASIANPAINT     EQ     2613.45  2595.0  2605.80  2524.05   \n",
              "\n",
              "        Last    Close     VWAP   Volume      Turnover   Trades  \\\n",
              "0      385.0   381.65   380.54     3318  1.262617e+11      NaN   \n",
              "1      390.0   385.55   383.50     4818  1.847699e+11      NaN   \n",
              "2      383.0   383.00   379.81     2628  9.981384e+10      NaN   \n",
              "3      375.1   377.50   379.88     3354  1.274114e+11      NaN   \n",
              "4      389.0   385.70   383.38     9589  3.676275e+11      NaN   \n",
              "...      ...      ...      ...      ...           ...      ...   \n",
              "5301  2558.0  2557.90  2557.47  1103980  2.823400e+14  58557.0   \n",
              "5302  2571.0  2574.35  2560.55   866331  2.218288e+14  66988.0   \n",
              "5303  2612.0  2614.55  2605.91  1065561  2.776752e+14  52622.0   \n",
              "5304  2613.0  2613.45  2607.33  1295346  3.377394e+14  64039.0   \n",
              "5305  2529.0  2536.40  2558.66  1384907  3.543512e+14  91934.0   \n",
              "\n",
              "      Deliverable Volume  %Deliverble  \n",
              "0                    NaN          NaN  \n",
              "1                    NaN          NaN  \n",
              "2                    NaN          NaN  \n",
              "3                    NaN          NaN  \n",
              "4                    NaN          NaN  \n",
              "...                  ...          ...  \n",
              "5301            335232.0       0.3037  \n",
              "5302            281178.0       0.3246  \n",
              "5303            449241.0       0.4216  \n",
              "5304            447979.0       0.3458  \n",
              "5305            750496.0       0.5419  \n",
              "\n",
              "[5306 rows x 15 columns]"
            ],
            "text/html": [
              "\n",
              "  <div id=\"df-5d40dc18-421c-4c72-bb21-0a79bd69c85c\">\n",
              "    <div class=\"colab-df-container\">\n",
              "      <div>\n",
              "<style scoped>\n",
              "    .dataframe tbody tr th:only-of-type {\n",
              "        vertical-align: middle;\n",
              "    }\n",
              "\n",
              "    .dataframe tbody tr th {\n",
              "        vertical-align: top;\n",
              "    }\n",
              "\n",
              "    .dataframe thead th {\n",
              "        text-align: right;\n",
              "    }\n",
              "</style>\n",
              "<table border=\"1\" class=\"dataframe\">\n",
              "  <thead>\n",
              "    <tr style=\"text-align: right;\">\n",
              "      <th></th>\n",
              "      <th>Date</th>\n",
              "      <th>Symbol</th>\n",
              "      <th>Series</th>\n",
              "      <th>Prev Close</th>\n",
              "      <th>Open</th>\n",
              "      <th>High</th>\n",
              "      <th>Low</th>\n",
              "      <th>Last</th>\n",
              "      <th>Close</th>\n",
              "      <th>VWAP</th>\n",
              "      <th>Volume</th>\n",
              "      <th>Turnover</th>\n",
              "      <th>Trades</th>\n",
              "      <th>Deliverable Volume</th>\n",
              "      <th>%Deliverble</th>\n",
              "    </tr>\n",
              "  </thead>\n",
              "  <tbody>\n",
              "    <tr>\n",
              "      <th>0</th>\n",
              "      <td>2000-01-03</td>\n",
              "      <td>ASIANPAINT</td>\n",
              "      <td>EQ</td>\n",
              "      <td>361.20</td>\n",
              "      <td>370.0</td>\n",
              "      <td>390.00</td>\n",
              "      <td>370.00</td>\n",
              "      <td>385.0</td>\n",
              "      <td>381.65</td>\n",
              "      <td>380.54</td>\n",
              "      <td>3318</td>\n",
              "      <td>1.262617e+11</td>\n",
              "      <td>NaN</td>\n",
              "      <td>NaN</td>\n",
              "      <td>NaN</td>\n",
              "    </tr>\n",
              "    <tr>\n",
              "      <th>1</th>\n",
              "      <td>2000-01-04</td>\n",
              "      <td>ASIANPAINT</td>\n",
              "      <td>EQ</td>\n",
              "      <td>381.65</td>\n",
              "      <td>380.0</td>\n",
              "      <td>392.00</td>\n",
              "      <td>375.00</td>\n",
              "      <td>390.0</td>\n",
              "      <td>385.55</td>\n",
              "      <td>383.50</td>\n",
              "      <td>4818</td>\n",
              "      <td>1.847699e+11</td>\n",
              "      <td>NaN</td>\n",
              "      <td>NaN</td>\n",
              "      <td>NaN</td>\n",
              "    </tr>\n",
              "    <tr>\n",
              "      <th>2</th>\n",
              "      <td>2000-01-05</td>\n",
              "      <td>ASIANPAINT</td>\n",
              "      <td>EQ</td>\n",
              "      <td>385.55</td>\n",
              "      <td>371.5</td>\n",
              "      <td>390.00</td>\n",
              "      <td>371.50</td>\n",
              "      <td>383.0</td>\n",
              "      <td>383.00</td>\n",
              "      <td>379.81</td>\n",
              "      <td>2628</td>\n",
              "      <td>9.981384e+10</td>\n",
              "      <td>NaN</td>\n",
              "      <td>NaN</td>\n",
              "      <td>NaN</td>\n",
              "    </tr>\n",
              "    <tr>\n",
              "      <th>3</th>\n",
              "      <td>2000-01-06</td>\n",
              "      <td>ASIANPAINT</td>\n",
              "      <td>EQ</td>\n",
              "      <td>383.00</td>\n",
              "      <td>384.9</td>\n",
              "      <td>384.90</td>\n",
              "      <td>374.50</td>\n",
              "      <td>375.1</td>\n",
              "      <td>377.50</td>\n",
              "      <td>379.88</td>\n",
              "      <td>3354</td>\n",
              "      <td>1.274114e+11</td>\n",
              "      <td>NaN</td>\n",
              "      <td>NaN</td>\n",
              "      <td>NaN</td>\n",
              "    </tr>\n",
              "    <tr>\n",
              "      <th>4</th>\n",
              "      <td>2000-01-07</td>\n",
              "      <td>ASIANPAINT</td>\n",
              "      <td>EQ</td>\n",
              "      <td>377.50</td>\n",
              "      <td>376.0</td>\n",
              "      <td>390.00</td>\n",
              "      <td>370.00</td>\n",
              "      <td>389.0</td>\n",
              "      <td>385.70</td>\n",
              "      <td>383.38</td>\n",
              "      <td>9589</td>\n",
              "      <td>3.676275e+11</td>\n",
              "      <td>NaN</td>\n",
              "      <td>NaN</td>\n",
              "      <td>NaN</td>\n",
              "    </tr>\n",
              "    <tr>\n",
              "      <th>...</th>\n",
              "      <td>...</td>\n",
              "      <td>...</td>\n",
              "      <td>...</td>\n",
              "      <td>...</td>\n",
              "      <td>...</td>\n",
              "      <td>...</td>\n",
              "      <td>...</td>\n",
              "      <td>...</td>\n",
              "      <td>...</td>\n",
              "      <td>...</td>\n",
              "      <td>...</td>\n",
              "      <td>...</td>\n",
              "      <td>...</td>\n",
              "      <td>...</td>\n",
              "      <td>...</td>\n",
              "    </tr>\n",
              "    <tr>\n",
              "      <th>5301</th>\n",
              "      <td>2021-04-26</td>\n",
              "      <td>ASIANPAINT</td>\n",
              "      <td>EQ</td>\n",
              "      <td>2517.95</td>\n",
              "      <td>2530.0</td>\n",
              "      <td>2575.00</td>\n",
              "      <td>2530.00</td>\n",
              "      <td>2558.0</td>\n",
              "      <td>2557.90</td>\n",
              "      <td>2557.47</td>\n",
              "      <td>1103980</td>\n",
              "      <td>2.823400e+14</td>\n",
              "      <td>58557.0</td>\n",
              "      <td>335232.0</td>\n",
              "      <td>0.3037</td>\n",
              "    </tr>\n",
              "    <tr>\n",
              "      <th>5302</th>\n",
              "      <td>2021-04-27</td>\n",
              "      <td>ASIANPAINT</td>\n",
              "      <td>EQ</td>\n",
              "      <td>2557.90</td>\n",
              "      <td>2545.0</td>\n",
              "      <td>2579.90</td>\n",
              "      <td>2534.00</td>\n",
              "      <td>2571.0</td>\n",
              "      <td>2574.35</td>\n",
              "      <td>2560.55</td>\n",
              "      <td>866331</td>\n",
              "      <td>2.218288e+14</td>\n",
              "      <td>66988.0</td>\n",
              "      <td>281178.0</td>\n",
              "      <td>0.3246</td>\n",
              "    </tr>\n",
              "    <tr>\n",
              "      <th>5303</th>\n",
              "      <td>2021-04-28</td>\n",
              "      <td>ASIANPAINT</td>\n",
              "      <td>EQ</td>\n",
              "      <td>2574.35</td>\n",
              "      <td>2588.0</td>\n",
              "      <td>2620.25</td>\n",
              "      <td>2575.00</td>\n",
              "      <td>2612.0</td>\n",
              "      <td>2614.55</td>\n",
              "      <td>2605.91</td>\n",
              "      <td>1065561</td>\n",
              "      <td>2.776752e+14</td>\n",
              "      <td>52622.0</td>\n",
              "      <td>449241.0</td>\n",
              "      <td>0.4216</td>\n",
              "    </tr>\n",
              "    <tr>\n",
              "      <th>5304</th>\n",
              "      <td>2021-04-29</td>\n",
              "      <td>ASIANPAINT</td>\n",
              "      <td>EQ</td>\n",
              "      <td>2614.55</td>\n",
              "      <td>2630.0</td>\n",
              "      <td>2642.00</td>\n",
              "      <td>2570.00</td>\n",
              "      <td>2613.0</td>\n",
              "      <td>2613.45</td>\n",
              "      <td>2607.33</td>\n",
              "      <td>1295346</td>\n",
              "      <td>3.377394e+14</td>\n",
              "      <td>64039.0</td>\n",
              "      <td>447979.0</td>\n",
              "      <td>0.3458</td>\n",
              "    </tr>\n",
              "    <tr>\n",
              "      <th>5305</th>\n",
              "      <td>2021-04-30</td>\n",
              "      <td>ASIANPAINT</td>\n",
              "      <td>EQ</td>\n",
              "      <td>2613.45</td>\n",
              "      <td>2595.0</td>\n",
              "      <td>2605.80</td>\n",
              "      <td>2524.05</td>\n",
              "      <td>2529.0</td>\n",
              "      <td>2536.40</td>\n",
              "      <td>2558.66</td>\n",
              "      <td>1384907</td>\n",
              "      <td>3.543512e+14</td>\n",
              "      <td>91934.0</td>\n",
              "      <td>750496.0</td>\n",
              "      <td>0.5419</td>\n",
              "    </tr>\n",
              "  </tbody>\n",
              "</table>\n",
              "<p>5306 rows × 15 columns</p>\n",
              "</div>\n",
              "      <button class=\"colab-df-convert\" onclick=\"convertToInteractive('df-5d40dc18-421c-4c72-bb21-0a79bd69c85c')\"\n",
              "              title=\"Convert this dataframe to an interactive table.\"\n",
              "              style=\"display:none;\">\n",
              "        \n",
              "  <svg xmlns=\"http://www.w3.org/2000/svg\" height=\"24px\"viewBox=\"0 0 24 24\"\n",
              "       width=\"24px\">\n",
              "    <path d=\"M0 0h24v24H0V0z\" fill=\"none\"/>\n",
              "    <path d=\"M18.56 5.44l.94 2.06.94-2.06 2.06-.94-2.06-.94-.94-2.06-.94 2.06-2.06.94zm-11 1L8.5 8.5l.94-2.06 2.06-.94-2.06-.94L8.5 2.5l-.94 2.06-2.06.94zm10 10l.94 2.06.94-2.06 2.06-.94-2.06-.94-.94-2.06-.94 2.06-2.06.94z\"/><path d=\"M17.41 7.96l-1.37-1.37c-.4-.4-.92-.59-1.43-.59-.52 0-1.04.2-1.43.59L10.3 9.45l-7.72 7.72c-.78.78-.78 2.05 0 2.83L4 21.41c.39.39.9.59 1.41.59.51 0 1.02-.2 1.41-.59l7.78-7.78 2.81-2.81c.8-.78.8-2.07 0-2.86zM5.41 20L4 18.59l7.72-7.72 1.47 1.35L5.41 20z\"/>\n",
              "  </svg>\n",
              "      </button>\n",
              "      \n",
              "  <style>\n",
              "    .colab-df-container {\n",
              "      display:flex;\n",
              "      flex-wrap:wrap;\n",
              "      gap: 12px;\n",
              "    }\n",
              "\n",
              "    .colab-df-convert {\n",
              "      background-color: #E8F0FE;\n",
              "      border: none;\n",
              "      border-radius: 50%;\n",
              "      cursor: pointer;\n",
              "      display: none;\n",
              "      fill: #1967D2;\n",
              "      height: 32px;\n",
              "      padding: 0 0 0 0;\n",
              "      width: 32px;\n",
              "    }\n",
              "\n",
              "    .colab-df-convert:hover {\n",
              "      background-color: #E2EBFA;\n",
              "      box-shadow: 0px 1px 2px rgba(60, 64, 67, 0.3), 0px 1px 3px 1px rgba(60, 64, 67, 0.15);\n",
              "      fill: #174EA6;\n",
              "    }\n",
              "\n",
              "    [theme=dark] .colab-df-convert {\n",
              "      background-color: #3B4455;\n",
              "      fill: #D2E3FC;\n",
              "    }\n",
              "\n",
              "    [theme=dark] .colab-df-convert:hover {\n",
              "      background-color: #434B5C;\n",
              "      box-shadow: 0px 1px 3px 1px rgba(0, 0, 0, 0.15);\n",
              "      filter: drop-shadow(0px 1px 2px rgba(0, 0, 0, 0.3));\n",
              "      fill: #FFFFFF;\n",
              "    }\n",
              "  </style>\n",
              "\n",
              "      <script>\n",
              "        const buttonEl =\n",
              "          document.querySelector('#df-5d40dc18-421c-4c72-bb21-0a79bd69c85c button.colab-df-convert');\n",
              "        buttonEl.style.display =\n",
              "          google.colab.kernel.accessAllowed ? 'block' : 'none';\n",
              "\n",
              "        async function convertToInteractive(key) {\n",
              "          const element = document.querySelector('#df-5d40dc18-421c-4c72-bb21-0a79bd69c85c');\n",
              "          const dataTable =\n",
              "            await google.colab.kernel.invokeFunction('convertToInteractive',\n",
              "                                                     [key], {});\n",
              "          if (!dataTable) return;\n",
              "\n",
              "          const docLinkHtml = 'Like what you see? Visit the ' +\n",
              "            '<a target=\"_blank\" href=https://colab.research.google.com/notebooks/data_table.ipynb>data table notebook</a>'\n",
              "            + ' to learn more about interactive tables.';\n",
              "          element.innerHTML = '';\n",
              "          dataTable['output_type'] = 'display_data';\n",
              "          await google.colab.output.renderOutput(dataTable, element);\n",
              "          const docLink = document.createElement('div');\n",
              "          docLink.innerHTML = docLinkHtml;\n",
              "          element.appendChild(docLink);\n",
              "        }\n",
              "      </script>\n",
              "    </div>\n",
              "  </div>\n",
              "  "
            ]
          },
          "metadata": {},
          "execution_count": 7
        }
      ],
      "source": [
        "df = pd.read_csv('ASIANPAINT.csv')\n",
        "df"
      ]
    },
    {
      "cell_type": "code",
      "source": [
        "df.drop([\"Symbol\",\"Series\",\"Last\",\"VWAP\",\"Turnover\",\"Deliverable Volume\",\"%Deliverble\"],axis=1,inplace=True)"
      ],
      "metadata": {
        "id": "n2-Epm-g185s"
      },
      "execution_count": 25,
      "outputs": []
    },
    {
      "cell_type": "code",
      "source": [
        "df.drop(\"Trades\",axis=1,inplace=True)"
      ],
      "metadata": {
        "id": "j6OGhUGJ3efv"
      },
      "execution_count": 29,
      "outputs": []
    },
    {
      "cell_type": "code",
      "source": [
        "df = df.set_index(\"Date\")\n",
        "df.head()"
      ],
      "metadata": {
        "colab": {
          "base_uri": "https://localhost:8080/",
          "height": 238
        },
        "id": "hUwqnVKh5R4L",
        "outputId": "97bf7b83-83cd-465f-d963-e8d4af58f4c6"
      },
      "execution_count": 34,
      "outputs": [
        {
          "output_type": "execute_result",
          "data": {
            "text/plain": [
              "            Prev Close   Open   High    Low   Close  Volume\n",
              "Date                                                       \n",
              "2000-01-03      361.20  370.0  390.0  370.0  381.65    3318\n",
              "2000-01-04      381.65  380.0  392.0  375.0  385.55    4818\n",
              "2000-01-05      385.55  371.5  390.0  371.5  383.00    2628\n",
              "2000-01-06      383.00  384.9  384.9  374.5  377.50    3354\n",
              "2000-01-07      377.50  376.0  390.0  370.0  385.70    9589"
            ],
            "text/html": [
              "\n",
              "  <div id=\"df-8df86392-857a-4585-aa4e-f6b64a7fd385\">\n",
              "    <div class=\"colab-df-container\">\n",
              "      <div>\n",
              "<style scoped>\n",
              "    .dataframe tbody tr th:only-of-type {\n",
              "        vertical-align: middle;\n",
              "    }\n",
              "\n",
              "    .dataframe tbody tr th {\n",
              "        vertical-align: top;\n",
              "    }\n",
              "\n",
              "    .dataframe thead th {\n",
              "        text-align: right;\n",
              "    }\n",
              "</style>\n",
              "<table border=\"1\" class=\"dataframe\">\n",
              "  <thead>\n",
              "    <tr style=\"text-align: right;\">\n",
              "      <th></th>\n",
              "      <th>Prev Close</th>\n",
              "      <th>Open</th>\n",
              "      <th>High</th>\n",
              "      <th>Low</th>\n",
              "      <th>Close</th>\n",
              "      <th>Volume</th>\n",
              "    </tr>\n",
              "    <tr>\n",
              "      <th>Date</th>\n",
              "      <th></th>\n",
              "      <th></th>\n",
              "      <th></th>\n",
              "      <th></th>\n",
              "      <th></th>\n",
              "      <th></th>\n",
              "    </tr>\n",
              "  </thead>\n",
              "  <tbody>\n",
              "    <tr>\n",
              "      <th>2000-01-03</th>\n",
              "      <td>361.20</td>\n",
              "      <td>370.0</td>\n",
              "      <td>390.0</td>\n",
              "      <td>370.0</td>\n",
              "      <td>381.65</td>\n",
              "      <td>3318</td>\n",
              "    </tr>\n",
              "    <tr>\n",
              "      <th>2000-01-04</th>\n",
              "      <td>381.65</td>\n",
              "      <td>380.0</td>\n",
              "      <td>392.0</td>\n",
              "      <td>375.0</td>\n",
              "      <td>385.55</td>\n",
              "      <td>4818</td>\n",
              "    </tr>\n",
              "    <tr>\n",
              "      <th>2000-01-05</th>\n",
              "      <td>385.55</td>\n",
              "      <td>371.5</td>\n",
              "      <td>390.0</td>\n",
              "      <td>371.5</td>\n",
              "      <td>383.00</td>\n",
              "      <td>2628</td>\n",
              "    </tr>\n",
              "    <tr>\n",
              "      <th>2000-01-06</th>\n",
              "      <td>383.00</td>\n",
              "      <td>384.9</td>\n",
              "      <td>384.9</td>\n",
              "      <td>374.5</td>\n",
              "      <td>377.50</td>\n",
              "      <td>3354</td>\n",
              "    </tr>\n",
              "    <tr>\n",
              "      <th>2000-01-07</th>\n",
              "      <td>377.50</td>\n",
              "      <td>376.0</td>\n",
              "      <td>390.0</td>\n",
              "      <td>370.0</td>\n",
              "      <td>385.70</td>\n",
              "      <td>9589</td>\n",
              "    </tr>\n",
              "  </tbody>\n",
              "</table>\n",
              "</div>\n",
              "      <button class=\"colab-df-convert\" onclick=\"convertToInteractive('df-8df86392-857a-4585-aa4e-f6b64a7fd385')\"\n",
              "              title=\"Convert this dataframe to an interactive table.\"\n",
              "              style=\"display:none;\">\n",
              "        \n",
              "  <svg xmlns=\"http://www.w3.org/2000/svg\" height=\"24px\"viewBox=\"0 0 24 24\"\n",
              "       width=\"24px\">\n",
              "    <path d=\"M0 0h24v24H0V0z\" fill=\"none\"/>\n",
              "    <path d=\"M18.56 5.44l.94 2.06.94-2.06 2.06-.94-2.06-.94-.94-2.06-.94 2.06-2.06.94zm-11 1L8.5 8.5l.94-2.06 2.06-.94-2.06-.94L8.5 2.5l-.94 2.06-2.06.94zm10 10l.94 2.06.94-2.06 2.06-.94-2.06-.94-.94-2.06-.94 2.06-2.06.94z\"/><path d=\"M17.41 7.96l-1.37-1.37c-.4-.4-.92-.59-1.43-.59-.52 0-1.04.2-1.43.59L10.3 9.45l-7.72 7.72c-.78.78-.78 2.05 0 2.83L4 21.41c.39.39.9.59 1.41.59.51 0 1.02-.2 1.41-.59l7.78-7.78 2.81-2.81c.8-.78.8-2.07 0-2.86zM5.41 20L4 18.59l7.72-7.72 1.47 1.35L5.41 20z\"/>\n",
              "  </svg>\n",
              "      </button>\n",
              "      \n",
              "  <style>\n",
              "    .colab-df-container {\n",
              "      display:flex;\n",
              "      flex-wrap:wrap;\n",
              "      gap: 12px;\n",
              "    }\n",
              "\n",
              "    .colab-df-convert {\n",
              "      background-color: #E8F0FE;\n",
              "      border: none;\n",
              "      border-radius: 50%;\n",
              "      cursor: pointer;\n",
              "      display: none;\n",
              "      fill: #1967D2;\n",
              "      height: 32px;\n",
              "      padding: 0 0 0 0;\n",
              "      width: 32px;\n",
              "    }\n",
              "\n",
              "    .colab-df-convert:hover {\n",
              "      background-color: #E2EBFA;\n",
              "      box-shadow: 0px 1px 2px rgba(60, 64, 67, 0.3), 0px 1px 3px 1px rgba(60, 64, 67, 0.15);\n",
              "      fill: #174EA6;\n",
              "    }\n",
              "\n",
              "    [theme=dark] .colab-df-convert {\n",
              "      background-color: #3B4455;\n",
              "      fill: #D2E3FC;\n",
              "    }\n",
              "\n",
              "    [theme=dark] .colab-df-convert:hover {\n",
              "      background-color: #434B5C;\n",
              "      box-shadow: 0px 1px 3px 1px rgba(0, 0, 0, 0.15);\n",
              "      filter: drop-shadow(0px 1px 2px rgba(0, 0, 0, 0.3));\n",
              "      fill: #FFFFFF;\n",
              "    }\n",
              "  </style>\n",
              "\n",
              "      <script>\n",
              "        const buttonEl =\n",
              "          document.querySelector('#df-8df86392-857a-4585-aa4e-f6b64a7fd385 button.colab-df-convert');\n",
              "        buttonEl.style.display =\n",
              "          google.colab.kernel.accessAllowed ? 'block' : 'none';\n",
              "\n",
              "        async function convertToInteractive(key) {\n",
              "          const element = document.querySelector('#df-8df86392-857a-4585-aa4e-f6b64a7fd385');\n",
              "          const dataTable =\n",
              "            await google.colab.kernel.invokeFunction('convertToInteractive',\n",
              "                                                     [key], {});\n",
              "          if (!dataTable) return;\n",
              "\n",
              "          const docLinkHtml = 'Like what you see? Visit the ' +\n",
              "            '<a target=\"_blank\" href=https://colab.research.google.com/notebooks/data_table.ipynb>data table notebook</a>'\n",
              "            + ' to learn more about interactive tables.';\n",
              "          element.innerHTML = '';\n",
              "          dataTable['output_type'] = 'display_data';\n",
              "          await google.colab.output.renderOutput(dataTable, element);\n",
              "          const docLink = document.createElement('div');\n",
              "          docLink.innerHTML = docLinkHtml;\n",
              "          element.appendChild(docLink);\n",
              "        }\n",
              "      </script>\n",
              "    </div>\n",
              "  </div>\n",
              "  "
            ]
          },
          "metadata": {},
          "execution_count": 34
        }
      ]
    },
    {
      "cell_type": "code",
      "source": [
        "#Get the number of rows and columns in the dataset"
      ],
      "metadata": {
        "id": "fzCmsNXc5Y6b"
      },
      "execution_count": 41,
      "outputs": []
    },
    {
      "cell_type": "code",
      "source": [
        "#Visualise the closing price\n",
        "plt.figure(figsize=(16,8))\n",
        "plt.title(\"Close Price History\")\n",
        "plt.plot(df[\"Close\"])\n",
        "plt.xlabel(\"Date\",fontsize=18)\n",
        "plt.ylabel(\"Close Price in $\",fontsize=18)\n",
        "plt.show()"
      ],
      "metadata": {
        "colab": {
          "base_uri": "https://localhost:8080/",
          "height": 768
        },
        "id": "gLJMZp4950g3",
        "outputId": "0fad259c-8103-4e1c-98c7-82312c425c7b"
      },
      "execution_count": 58,
      "outputs": [
        {
          "output_type": "display_data",
          "data": {
            "text/plain": [
              "<Figure size 1600x800 with 1 Axes>"
            ],
            "image/png": "[encoded data removed]"
          },
          "metadata": {}
        }
      ]
    },
    {
      "cell_type": "code",
      "source": [
        "# Create a new dataframe with only the close column (For scaling)\n",
        "data = df.filter(['Close'])\n",
        "#Convert the data frame to a numpy array\n",
        "dataset = data.values\n",
        "#compute the number of rows to rtain the model on\n",
        "training_data_len = math.ceil(len(dataset) * .8)\n",
        "\n",
        "print(training_data_len)"
      ],
      "metadata": {
        "colab": {
          "base_uri": "https://localhost:8080/"
        },
        "id": "Adl-8tcJ60n_",
        "outputId": "e97fd1d1-e119-4c1b-9126-557c0d2ca26e"
      },
      "execution_count": 47,
      "outputs": [
        {
          "output_type": "stream",
          "name": "stdout",
          "text": [
            "4245\n"
          ]
        }
      ]
    },
    {
      "cell_type": "code",
      "source": [
        "#Scale the data\n",
        "scaler = MinMaxScaler(feature_range=(0,1))\n",
        "scaled_data = scaler.fit_transform(dataset)\n",
        "\n",
        "scaled_data #Values between 0 and 1"
      ],
      "metadata": {
        "colab": {
          "base_uri": "https://localhost:8080/"
        },
        "id": "Li-ohY1V8NNg",
        "outputId": "2a30e187-8646-4de7-ca4c-4c885e1de05a"
      },
      "execution_count": 50,
      "outputs": [
        {
          "output_type": "execute_result",
          "data": {
            "text/plain": [
              "array([[0.03416394],\n",
              "       [0.03494358],\n",
              "       [0.03443382],\n",
              "       ...,\n",
              "       [0.48053415],\n",
              "       [0.48031425],\n",
              "       [0.46491149]])"
            ]
          },
          "metadata": {},
          "execution_count": 50
        }
      ]
    },
    {
      "cell_type": "code",
      "source": [
        "#Creating the scaled training dataset\n",
        "train_data = scaled_data[0:training_data_len,:]\n",
        "#Split the data into X_train and y_train\n",
        "X_train = []\n",
        "y_train = []\n",
        "\n",
        "#For past 60 days value\n",
        "for i in range(60,len(train_data)):\n",
        "  X_train.append(train_data[i-60:i,0])\n",
        "  y_train.append(train_data[i,0])\n",
        "\n",
        "  if i<=61:\n",
        "    print(X_train)\n",
        "    print(y_train)\n",
        "    print()\n"
      ],
      "metadata": {
        "colab": {
          "base_uri": "https://localhost:8080/"
        },
        "id": "ej5ibWkz83nT",
        "outputId": "c250aae2-945b-4be5-dfed-507c61d8f6da"
      },
      "execution_count": 52,
      "outputs": [
        {
          "output_type": "stream",
          "name": "stdout",
          "text": [
            "[array([0.03416394, 0.03494358, 0.03443382, 0.03333433, 0.03497356,\n",
            "       0.04083081, 0.04087079, 0.04136056, 0.04157046, 0.03983128,\n",
            "       0.04010115, 0.0406409 , 0.0417004 , 0.04194029, 0.04299979,\n",
            "       0.04950673, 0.05676332, 0.05241536, 0.05395464, 0.04992653,\n",
            "       0.04988655, 0.04984657, 0.04904695, 0.04916689, 0.04855718,\n",
            "       0.0497966 , 0.04925685, 0.04600838, 0.04649815, 0.04417924,\n",
            "       0.04116065, 0.0376523 , 0.03635291, 0.03832199, 0.03838196,\n",
            "       0.03792218, 0.03920158, 0.03793217, 0.03642288, 0.03792218,\n",
            "       0.03311444, 0.03777225, 0.03583316, 0.03879177, 0.0374424 ,\n",
            "       0.03314442, 0.03782222, 0.04253001, 0.03827201, 0.03782222,\n",
            "       0.0378622 , 0.03932152, 0.03983128, 0.04144052, 0.0423301 ,\n",
            "       0.0410607 , 0.04090078, 0.04095075, 0.04123062, 0.04083081])]\n",
            "[0.04537867202414865]\n",
            "\n",
            "[array([0.03416394, 0.03494358, 0.03443382, 0.03333433, 0.03497356,\n",
            "       0.04083081, 0.04087079, 0.04136056, 0.04157046, 0.03983128,\n",
            "       0.04010115, 0.0406409 , 0.0417004 , 0.04194029, 0.04299979,\n",
            "       0.04950673, 0.05676332, 0.05241536, 0.05395464, 0.04992653,\n",
            "       0.04988655, 0.04984657, 0.04904695, 0.04916689, 0.04855718,\n",
            "       0.0497966 , 0.04925685, 0.04600838, 0.04649815, 0.04417924,\n",
            "       0.04116065, 0.0376523 , 0.03635291, 0.03832199, 0.03838196,\n",
            "       0.03792218, 0.03920158, 0.03793217, 0.03642288, 0.03792218,\n",
            "       0.03311444, 0.03777225, 0.03583316, 0.03879177, 0.0374424 ,\n",
            "       0.03314442, 0.03782222, 0.04253001, 0.03827201, 0.03782222,\n",
            "       0.0378622 , 0.03932152, 0.03983128, 0.04144052, 0.0423301 ,\n",
            "       0.0410607 , 0.04090078, 0.04095075, 0.04123062, 0.04083081]), array([0.03494358, 0.03443382, 0.03333433, 0.03497356, 0.04083081,\n",
            "       0.04087079, 0.04136056, 0.04157046, 0.03983128, 0.04010115,\n",
            "       0.0406409 , 0.0417004 , 0.04194029, 0.04299979, 0.04950673,\n",
            "       0.05676332, 0.05241536, 0.05395464, 0.04992653, 0.04988655,\n",
            "       0.04984657, 0.04904695, 0.04916689, 0.04855718, 0.0497966 ,\n",
            "       0.04925685, 0.04600838, 0.04649815, 0.04417924, 0.04116065,\n",
            "       0.0376523 , 0.03635291, 0.03832199, 0.03838196, 0.03792218,\n",
            "       0.03920158, 0.03793217, 0.03642288, 0.03792218, 0.03311444,\n",
            "       0.03777225, 0.03583316, 0.03879177, 0.0374424 , 0.03314442,\n",
            "       0.03782222, 0.04253001, 0.03827201, 0.03782222, 0.0378622 ,\n",
            "       0.03932152, 0.03983128, 0.04144052, 0.0423301 , 0.0410607 ,\n",
            "       0.04090078, 0.04095075, 0.04123062, 0.04083081, 0.04537867])]\n",
            "[0.04537867202414865, 0.04247003908163163]\n",
            "\n"
          ]
        }
      ]
    },
    {
      "cell_type": "code",
      "source": [
        "#Convert the x-train and y-train to numpy arrays\n",
        "X_train, y_train = np.array(X_train), np.array(y_train)"
      ],
      "metadata": {
        "id": "A5nQuEzE9m4R"
      },
      "execution_count": 53,
      "outputs": []
    },
    {
      "cell_type": "code",
      "source": [
        "X_train.shape"
      ],
      "metadata": {
        "colab": {
          "base_uri": "https://localhost:8080/"
        },
        "id": "HxS57lOt_Qso",
        "outputId": "5871e334-42c8-4cf0-f7e4-ed601e1038ea"
      },
      "execution_count": 54,
      "outputs": [
        {
          "output_type": "execute_result",
          "data": {
            "text/plain": [
              "(4185, 60)"
            ]
          },
          "metadata": {},
          "execution_count": 54
        }
      ]
    },
    {
      "cell_type": "code",
      "source": [
        "#Reshape the data - LSTM model expects three dimensions\n",
        "X_train = np.reshape(X_train,(X_train.shape[0],X_train.shape[1],1))\n",
        "X_train.shape #Now we have a 3d shape"
      ],
      "metadata": {
        "colab": {
          "base_uri": "https://localhost:8080/"
        },
        "id": "R7elcRNQ-xHC",
        "outputId": "4c072673-ee79-4c32-f79f-453a9d1f4094"
      },
      "execution_count": 56,
      "outputs": [
        {
          "output_type": "execute_result",
          "data": {
            "text/plain": [
              "(4185, 60, 1)"
            ]
          },
          "metadata": {},
          "execution_count": 56
        }
      ]
    },
    {
      "cell_type": "code",
      "source": [
        "#Build the LSTM model\n",
        "\n",
        "model = Sequential()\n",
        "model.add(LSTM(50, return_sequences=True, input_shape = (60,1))) #layer\n",
        "model.add(LSTM(50, return_sequences=False))\n",
        "model.add(Dense(25))\n",
        "model.add(Dense(1))"
      ],
      "metadata": {
        "id": "e9vhl4Oi_aqG"
      },
      "execution_count": 61,
      "outputs": []
    },
    {
      "cell_type": "code",
      "source": [
        "#Compile the model\n",
        "model.compile(optimizer='adam',loss='mean_squared_error')"
      ],
      "metadata": {
        "id": "C8G-99ZbAgYG"
      },
      "execution_count": 62,
      "outputs": []
    },
    {
      "cell_type": "code",
      "source": [
        "#Train the model\n",
        "model.fit(X_train,y_train, batch_size=1, epochs=1)"
      ],
      "metadata": {
        "colab": {
          "base_uri": "https://localhost:8080/"
        },
        "id": "medjy-GwA1pN",
        "outputId": "4b206d2e-76f3-4fcf-b90e-072113118b2c"
      },
      "execution_count": 63,
      "outputs": [
        {
          "output_type": "stream",
          "name": "stdout",
          "text": [
            "4185/4185 [==============================] - 167s 39ms/step - loss: 0.0019\n"
          ]
        },
        {
          "output_type": "execute_result",
          "data": {
            "text/plain": [
              "<keras.callbacks.History at 0x7fc621bb5f70>"
            ]
          },
          "metadata": {},
          "execution_count": 63
        }
      ]
    },
    {
      "cell_type": "code",
      "source": [
        "# Create  atesting dataset containing scaled values from index 4185 to 5306\n",
        "test_data = scaled_data[training_data_len-60:,:]\n",
        "#Create datasets\n",
        "X_test = []\n",
        "y_test = dataset[training_data_len:,:]\n",
        "\n",
        "for i in range(60,len(test_data)):\n",
        "  X_test.append(test_data[i-60:i, 0])\n"
      ],
      "metadata": {
        "id": "ddO8bb5yA_Bl"
      },
      "execution_count": 66,
      "outputs": []
    },
    {
      "cell_type": "code",
      "source": [
        "#Convert data into numpy array\n",
        "X_test = np.array(X_test)"
      ],
      "metadata": {
        "id": "YZdw163cB_N3"
      },
      "execution_count": 67,
      "outputs": []
    },
    {
      "cell_type": "code",
      "source": [
        "#Reshape the data - for 3d (LSTM model expects this)\n",
        "X_test = np.reshape(X_test, (X_test.shape[0],X_test.shape[1], 1))\n"
      ],
      "metadata": {
        "id": "KNp2YyMjCPlf"
      },
      "execution_count": 68,
      "outputs": []
    },
    {
      "cell_type": "code",
      "source": [
        "#Get the model predictions\n",
        "predictions = model.predict(X_test)\n",
        "predictions = scaler.inverse_transform(predictions) #Unscaling the values\n"
      ],
      "metadata": {
        "colab": {
          "base_uri": "https://localhost:8080/"
        },
        "id": "3uNIhAxECfNL",
        "outputId": "b1f0708e-acf8-4571-dde9-d432679c3e15"
      },
      "execution_count": 69,
      "outputs": [
        {
          "output_type": "stream",
          "name": "stdout",
          "text": [
            "34/34 [==============================] - 2s 20ms/step\n"
          ]
        }
      ]
    },
    {
      "cell_type": "code",
      "source": [
        "#Evaluate the model - root mean squared error (RMSE)\n",
        "rmse = np.sqrt( np.mean(predictions -y_test)**2 )\n",
        "rmse"
      ],
      "metadata": {
        "colab": {
          "base_uri": "https://localhost:8080/"
        },
        "id": "SlJCmL_GCvPn",
        "outputId": "d0679574-ff25-437e-e229-896058d2bc87"
      },
      "execution_count": 71,
      "outputs": [
        {
          "output_type": "execute_result",
          "data": {
            "text/plain": [
              "99.69206947952256"
            ]
          },
          "metadata": {},
          "execution_count": 71
        }
      ]
    },
    {
      "cell_type": "code",
      "source": [
        "# PLOT THE DATA!!!!!\n",
        "train = df[:training_data_len]\n",
        "valid = df[training_data_len:]\n",
        "valid['Predictions'] = predictions\n",
        "\n",
        "#Visualize the data\n",
        "plt.figure(figsize=(16,8))\n",
        "plt.title(\"Model\")\n",
        "plt.xlabel('Date',fontsize=18)\n",
        "plt.ylabel('Close Price in $',fontsize=18)\n",
        "plt.plot(train['Close'])\n",
        "plt.plot(valid[['Close','Predictions']])\n",
        "plt.legend(['Train','Val.','Predictions'],loc='lower right')\n",
        "plt.show()"
      ],
      "metadata": {
        "colab": {
          "base_uri": "https://localhost:8080/",
          "height": 872
        },
        "id": "aGiMVVn0C_Eu",
        "outputId": "ef1b42a9-b063-426e-c53d-86bfaf4a4145"
      },
      "execution_count": 74,
      "outputs": [
        {
          "output_type": "stream",
          "name": "stderr",
          "text": [
            "<ipython-input-74-e4703f2c8f02>:4: SettingWithCopyWarning: \n",
            "A value is trying to be set on a copy of a slice from a DataFrame.\n",
            "Try using .loc[row_indexer,col_indexer] = value instead\n",
            "\n",
            "See the caveats in the documentation: https://pandas.pydata.org/pandas-docs/stable/user_guide/indexing.html#returning-a-view-versus-a-copy\n",
            "  valid['Predictions'] = predictions\n"
          ]
        },
        {
          "output_type": "display_data",
          "data": {
            "text/plain": [
              "<Figure size 1600x800 with 1 Axes>"
            ],
            "image/png": "[encoded data removed]"
          },
          "metadata": {}
        }
      ]
    },
    {
      "cell_type": "code",
      "source": [],
      "metadata": {
        "id": "X_zuEw_ND8qC"
      },
      "execution_count": null,
      "outputs": []
    }
  ]
}