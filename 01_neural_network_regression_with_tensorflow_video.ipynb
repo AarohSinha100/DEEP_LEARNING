{
  "cells": [
    {
      "cell_type": "markdown",
      "metadata": {
        "id": "view-in-github",
        "colab_type": "text"
      },
      "source": [
        "<a href=\"https://colab.research.google.com/github/AarohSinha100/DEEP_LEARNING/blob/main/01_neural_network_regression_with_tensorflow_video.ipynb\" target=\"_parent\"><img src=\"https://colab.research.google.com/assets/colab-badge.svg\" alt=\"Open In Colab\"/></a>"
      ]
    },
    {
      "cell_type": "markdown",
      "metadata": {
        "id": "tO5_1E9AKXW-"
      },
      "source": [
        "# Introduction to regression with neural networks with Tensorflow\n",
        "\n"
      ]
    },
    {
      "cell_type": "code",
      "execution_count": 1,
      "metadata": {
        "colab": {
          "base_uri": "https://localhost:8080/"
        },
        "id": "9aOLVwAuKwIx",
        "outputId": "109621ce-de97-4aba-8f71-e6eb538b8335"
      },
      "outputs": [
        {
          "output_type": "stream",
          "name": "stdout",
          "text": [
            "2.12.0\n"
          ]
        }
      ],
      "source": [
        "#Import TensorFlow\n",
        "import tensorflow as tf\n",
        "print(tf.__version__)"
      ]
    },
    {
      "cell_type": "markdown",
      "metadata": {
        "id": "a7qkfr28K7si"
      },
      "source": [
        "## Creating data to view and fit"
      ]
    },
    {
      "cell_type": "code",
      "execution_count": 2,
      "metadata": {
        "colab": {
          "base_uri": "https://localhost:8080/",
          "height": 452
        },
        "id": "VY516fKuLMag",
        "outputId": "621ed366-76e3-4460-b90f-370ac648e1b8"
      },
      "outputs": [
        {
          "output_type": "execute_result",
          "data": {
            "text/plain": [
              "<matplotlib.collections.PathCollection at 0x7fbd15241940>"
            ]
          },
          "metadata": {},
          "execution_count": 2
        },
        {
          "output_type": "display_data",
          "data": {
            "text/plain": [
              "<Figure size 640x480 with 1 Axes>"
            ],
            "image/png": "[encoded data removed]"
          },
          "metadata": {}
        }
      ],
      "source": [
        "import numpy as np\n",
        "import matplotlib.pyplot as plt\n",
        "\n",
        "#Create Features\n",
        "X = np.array([-7.0,-4.0,-1.0,2.0,5.0,8.0,11.0,14.0])\n",
        "\n",
        "#Create labels\n",
        "y = np.array([3.0,6.0,9.0,12.0,15.0,18.0,21.0,24.0])\n",
        "\n",
        "#Visualize it\n",
        "plt.scatter(X,y)"
      ]
    },
    {
      "cell_type": "code",
      "execution_count": 3,
      "metadata": {
        "colab": {
          "base_uri": "https://localhost:8080/"
        },
        "id": "jTfwX7SpLoJZ",
        "outputId": "98a3f6cf-adb7-4ef6-9fa3-3bfba1293d29"
      },
      "outputs": [
        {
          "output_type": "execute_result",
          "data": {
            "text/plain": [
              "array([ True,  True,  True,  True,  True,  True,  True,  True])"
            ]
          },
          "metadata": {},
          "execution_count": 3
        }
      ],
      "source": [
        "y == X + 10 #A relationship we are trying our neural network to learn"
      ]
    },
    {
      "cell_type": "markdown",
      "metadata": {
        "id": "k4qwLCgoL2d5"
      },
      "source": [
        "## Input and output shapes"
      ]
    },
    {
      "cell_type": "code",
      "execution_count": 4,
      "metadata": {
        "colab": {
          "base_uri": "https://localhost:8080/"
        },
        "id": "AEsZTfIDMEqJ",
        "outputId": "73a2328a-c86a-49bb-ecd1-e70b6734b2b6"
      },
      "outputs": [
        {
          "output_type": "execute_result",
          "data": {
            "text/plain": [
              "(<tf.Tensor: shape=(3,), dtype=string, numpy=array([b'bedrooms', b'bathroom', b'garage'], dtype=object)>,\n",
              " <tf.Tensor: shape=(1,), dtype=int32, numpy=array([939700], dtype=int32)>)"
            ]
          },
          "metadata": {},
          "execution_count": 4
        }
      ],
      "source": [
        "# Create a demo tensor for our housing price problems\n",
        "house_info = tf.constant([\"bedrooms\",\"bathroom\",\"garage\"])\n",
        "house_price = tf.constant([939700])\n",
        "house_info,  house_price"
      ]
    },
    {
      "cell_type": "code",
      "execution_count": 5,
      "metadata": {
        "colab": {
          "base_uri": "https://localhost:8080/"
        },
        "id": "EQC4bTOzMd3o",
        "outputId": "278ab590-df85-4d36-ad5e-4d152c5b8db6"
      },
      "outputs": [
        {
          "output_type": "execute_result",
          "data": {
            "text/plain": [
              "(-7.0, 3.0)"
            ]
          },
          "metadata": {},
          "execution_count": 5
        }
      ],
      "source": [
        "X[0], y[0] #we want X[0] to predict y[0]"
      ]
    },
    {
      "cell_type": "code",
      "execution_count": 6,
      "metadata": {
        "colab": {
          "base_uri": "https://localhost:8080/"
        },
        "id": "Lt9oEtxSMuDP",
        "outputId": "82191d6f-b3f3-4761-eb98-82558c43d471"
      },
      "outputs": [
        {
          "output_type": "execute_result",
          "data": {
            "text/plain": [
              "((), ())"
            ]
          },
          "metadata": {},
          "execution_count": 6
        }
      ],
      "source": [
        "input_shape = X[0].shape\n",
        "output_shape = y[0].shape\n",
        "input_shape, output_shape"
      ]
    },
    {
      "cell_type": "code",
      "execution_count": 7,
      "metadata": {
        "colab": {
          "base_uri": "https://localhost:8080/"
        },
        "id": "9Ily8aBYMwzq",
        "outputId": "cf73c1dd-1493-4474-8a09-a1b56c72c2cc"
      },
      "outputs": [
        {
          "output_type": "execute_result",
          "data": {
            "text/plain": [
              "0"
            ]
          },
          "metadata": {},
          "execution_count": 7
        }
      ],
      "source": [
        "X[0].ndim"
      ]
    },
    {
      "cell_type": "code",
      "execution_count": 8,
      "metadata": {
        "colab": {
          "base_uri": "https://localhost:8080/"
        },
        "id": "PzW_dy_qNNJe",
        "outputId": "be369171-7dca-4331-f4cb-ca4faabfa158"
      },
      "outputs": [
        {
          "output_type": "execute_result",
          "data": {
            "text/plain": [
              "(-7.0, 3.0)"
            ]
          },
          "metadata": {},
          "execution_count": 8
        }
      ],
      "source": [
        "X[0],y[0]"
      ]
    },
    {
      "cell_type": "code",
      "execution_count": 9,
      "metadata": {
        "colab": {
          "base_uri": "https://localhost:8080/"
        },
        "id": "kwqsydUqNQWN",
        "outputId": "b0901308-415d-48cc-b358-3248d3e2520b"
      },
      "outputs": [
        {
          "output_type": "execute_result",
          "data": {
            "text/plain": [
              "(<tf.Tensor: shape=(8,), dtype=float64, numpy=array([-7., -4., -1.,  2.,  5.,  8., 11., 14.])>,\n",
              " <tf.Tensor: shape=(8,), dtype=float64, numpy=array([ 3.,  6.,  9., 12., 15., 18., 21., 24.])>)"
            ]
          },
          "metadata": {},
          "execution_count": 9
        }
      ],
      "source": [
        "# Turn our numpy arrays to tensors with dtype float 32 \n",
        "X = tf.constant(X)\n",
        "y = tf.constant(y)\n",
        "X, y"
      ]
    },
    {
      "cell_type": "code",
      "execution_count": 10,
      "metadata": {
        "colab": {
          "base_uri": "https://localhost:8080/"
        },
        "id": "5y-ExlsZOA6X",
        "outputId": "423aab0d-ba6d-43a2-92d8-7b45fc8c9562"
      },
      "outputs": [
        {
          "output_type": "execute_result",
          "data": {
            "text/plain": [
              "(TensorShape([]), TensorShape([]))"
            ]
          },
          "metadata": {},
          "execution_count": 10
        }
      ],
      "source": [
        "input_shape = X[0].shape\n",
        "output_shape = y[0].shape\n",
        "input_shape, output_shape"
      ]
    },
    {
      "cell_type": "code",
      "execution_count": 11,
      "metadata": {
        "colab": {
          "base_uri": "https://localhost:8080/",
          "height": 452
        },
        "id": "5DGJR7yrOHoE",
        "outputId": "58d52677-8f66-47ad-b2f7-5b04f66a5e31"
      },
      "outputs": [
        {
          "output_type": "execute_result",
          "data": {
            "text/plain": [
              "<matplotlib.collections.PathCollection at 0x7fbd152e20a0>"
            ]
          },
          "metadata": {},
          "execution_count": 11
        },
        {
          "output_type": "display_data",
          "data": {
            "text/plain": [
              "<Figure size 640x480 with 1 Axes>"
            ],
            "image/png": "[encoded data removed]"
          },
          "metadata": {}
        }
      ],
      "source": [
        "plt.scatter(X,y)"
      ]
    },
    {
      "cell_type": "markdown",
      "metadata": {
        "id": "agKAvdX5OQB6"
      },
      "source": [
        "## Steps in modelling with Tensorflow\n",
        "\n",
        "1. **Creating a model** -  defining the input and output layers, as well as the hidden layers of deep learning model\n",
        "2. **Compiling the model** - define the loss function (in other words, the function which tells our model how wrong it is) and the optimizer (tells our model how to improve the pattern its leanring) and evaluation metrics (what we can use to interpret tge performance of our model)\n",
        "3. Fitting the model - letting the model try to find patterns between X and y (Features and labels)"
      ]
    },
    {
      "cell_type": "code",
      "execution_count": 12,
      "metadata": {
        "colab": {
          "base_uri": "https://localhost:8080/"
        },
        "id": "X33XxuzTOVXP",
        "outputId": "32a316bc-0f00-44ae-c138-546301ad7da3"
      },
      "outputs": [
        {
          "output_type": "stream",
          "name": "stdout",
          "text": [
            "Epoch 1/5\n",
            "1/1 [==============================] - 1s 671ms/step - loss: 11.2266 - mae: 11.2266\n",
            "Epoch 2/5\n",
            "1/1 [==============================] - 0s 50ms/step - loss: 11.0941 - mae: 11.0941\n",
            "Epoch 3/5\n",
            "1/1 [==============================] - 0s 19ms/step - loss: 10.9616 - mae: 10.9616\n",
            "Epoch 4/5\n",
            "1/1 [==============================] - 0s 33ms/step - loss: 10.8291 - mae: 10.8291\n",
            "Epoch 5/5\n",
            "1/1 [==============================] - 0s 28ms/step - loss: 10.6966 - mae: 10.6966\n"
          ]
        },
        {
          "output_type": "execute_result",
          "data": {
            "text/plain": [
              "<keras.callbacks.History at 0x7fbd037595e0>"
            ]
          },
          "metadata": {},
          "execution_count": 12
        }
      ],
      "source": [
        "#Set a random seed\n",
        "tf.random.set_seed(42) #for reproducability\n",
        "\n",
        "#1. create a model using the Sequential API\n",
        "model = tf.keras.Sequential([\n",
        "    tf.keras.layers.Dense(1) #one hidden layer with one hidden neuron.\n",
        "    #we want model to take as input 1 number and predict one number\n",
        "])\n",
        "\n",
        "#2. Compile the model\n",
        "#loss = mean(abs(y_true - y_pred),axis=1)\n",
        "model.compile(loss=tf.keras.losses.mae, #mae is short for mean absolute error\n",
        "              optimizer = tf.keras.optimizers.SGD(),\n",
        "              metrics=[\"mae\"]) #SGD is short for stochaistic gradient descent\n",
        "\n",
        "#3. fit the model\n",
        "model.fit(tf.expand_dims(X,axis=1),y,epochs=5) #model will try and figure out patttern between x and y 5 times\n"
      ]
    },
    {
      "cell_type": "code",
      "execution_count": 13,
      "metadata": {
        "colab": {
          "base_uri": "https://localhost:8080/"
        },
        "id": "UIThpIDXRvIy",
        "outputId": "a72e2d42-4a98-4c0c-ab07-39127dbe9c93"
      },
      "outputs": [
        {
          "output_type": "execute_result",
          "data": {
            "text/plain": [
              "(<tf.Tensor: shape=(8,), dtype=float64, numpy=array([-7., -4., -1.,  2.,  5.,  8., 11., 14.])>,\n",
              " <tf.Tensor: shape=(8,), dtype=float64, numpy=array([ 3.,  6.,  9., 12., 15., 18., 21., 24.])>)"
            ]
          },
          "metadata": {},
          "execution_count": 13
        }
      ],
      "source": [
        "#Check the X and y (lets predict now)\n",
        "X,y"
      ]
    },
    {
      "cell_type": "code",
      "execution_count": 14,
      "metadata": {
        "colab": {
          "base_uri": "https://localhost:8080/"
        },
        "id": "YILJAUvXS3-z",
        "outputId": "ec94d34a-f615-461e-e195-1702903d111b"
      },
      "outputs": [
        {
          "output_type": "stream",
          "name": "stdout",
          "text": [
            "1/1 [==============================] - 0s 272ms/step\n"
          ]
        },
        {
          "output_type": "execute_result",
          "data": {
            "text/plain": [
              "array([[14.067252]], dtype=float32)"
            ]
          },
          "metadata": {},
          "execution_count": 14
        }
      ],
      "source": [
        "#Try and make a perdiction using the model\n",
        "y_pred = model.predict([17.0])\n",
        "y_pred"
      ]
    },
    {
      "cell_type": "code",
      "execution_count": 15,
      "metadata": {
        "colab": {
          "base_uri": "https://localhost:8080/"
        },
        "id": "65VRVrmgTBFm",
        "outputId": "3eacde20-796f-4218-bd41-b1b8f6799579"
      },
      "outputs": [
        {
          "output_type": "execute_result",
          "data": {
            "text/plain": [
              "array([[27.067253]], dtype=float32)"
            ]
          },
          "metadata": {},
          "execution_count": 15
        }
      ],
      "source": [
        "y_pred + 13"
      ]
    },
    {
      "cell_type": "markdown",
      "metadata": {
        "id": "488kAVI3TUfy"
      },
      "source": [
        "## Improving our model\n",
        "\n",
        "We can approve our model by altering the steps we took to create a model.\n",
        "\n",
        "1. **Creating a model** - here we want to add more layers, or increase the number of hidden units (all called neurons) within each of the hidden layers, change the activation function of each layer.\n",
        "\n",
        "2. **Compiling the model** - here we might want to change the optimizing function or perhaps the **learning rate** of optimization function.\n",
        "\n",
        "3. **Fitting the model** - here we might want ot fit the model for more epochs (leave it longer for training) or more data (give it more model examples to learn from)"
      ]
    },
    {
      "cell_type": "code",
      "execution_count": 16,
      "metadata": {
        "colab": {
          "base_uri": "https://localhost:8080/"
        },
        "id": "plKId6uRTZjs",
        "outputId": "43ad526d-5a2c-44d1-a23c-aa452c99f332"
      },
      "outputs": [
        {
          "output_type": "stream",
          "name": "stdout",
          "text": [
            "Epoch 1/100\n",
            "1/1 [==============================] - 1s 760ms/step - loss: 8.1052 - mae: 8.1052\n",
            "Epoch 2/100\n",
            "1/1 [==============================] - 0s 63ms/step - loss: 7.9727 - mae: 7.9727\n",
            "Epoch 3/100\n",
            "1/1 [==============================] - 0s 30ms/step - loss: 7.8402 - mae: 7.8402\n",
            "Epoch 4/100\n",
            "1/1 [==============================] - 0s 20ms/step - loss: 7.7077 - mae: 7.7077\n",
            "Epoch 5/100\n",
            "1/1 [==============================] - 0s 25ms/step - loss: 7.5752 - mae: 7.5752\n",
            "Epoch 6/100\n",
            "1/1 [==============================] - 0s 19ms/step - loss: 7.4625 - mae: 7.4625\n",
            "Epoch 7/100\n",
            "1/1 [==============================] - 0s 18ms/step - loss: 7.4569 - mae: 7.4569\n",
            "Epoch 8/100\n",
            "1/1 [==============================] - 0s 26ms/step - loss: 7.4513 - mae: 7.4513\n",
            "Epoch 9/100\n",
            "1/1 [==============================] - 0s 21ms/step - loss: 7.4456 - mae: 7.4456\n",
            "Epoch 10/100\n",
            "1/1 [==============================] - 0s 17ms/step - loss: 7.4400 - mae: 7.4400\n",
            "Epoch 11/100\n",
            "1/1 [==============================] - 0s 16ms/step - loss: 7.4344 - mae: 7.4344\n",
            "Epoch 12/100\n",
            "1/1 [==============================] - 0s 21ms/step - loss: 7.4288 - mae: 7.4288\n",
            "Epoch 13/100\n",
            "1/1 [==============================] - 0s 19ms/step - loss: 7.4231 - mae: 7.4231\n",
            "Epoch 14/100\n",
            "1/1 [==============================] - 0s 20ms/step - loss: 7.4175 - mae: 7.4175\n",
            "Epoch 15/100\n",
            "1/1 [==============================] - 0s 38ms/step - loss: 7.4119 - mae: 7.4119\n",
            "Epoch 16/100\n",
            "1/1 [==============================] - 0s 17ms/step - loss: 7.4062 - mae: 7.4062\n",
            "Epoch 17/100\n",
            "1/1 [==============================] - 0s 18ms/step - loss: 7.4006 - mae: 7.4006\n",
            "Epoch 18/100\n",
            "1/1 [==============================] - 0s 19ms/step - loss: 7.3950 - mae: 7.3950\n",
            "Epoch 19/100\n",
            "1/1 [==============================] - 0s 16ms/step - loss: 7.3894 - mae: 7.3894\n",
            "Epoch 20/100\n",
            "1/1 [==============================] - 0s 17ms/step - loss: 7.3838 - mae: 7.3838\n",
            "Epoch 21/100\n",
            "1/1 [==============================] - 0s 17ms/step - loss: 7.3781 - mae: 7.3781\n",
            "Epoch 22/100\n",
            "1/1 [==============================] - 0s 12ms/step - loss: 7.3725 - mae: 7.3725\n",
            "Epoch 23/100\n",
            "1/1 [==============================] - 0s 18ms/step - loss: 7.3669 - mae: 7.3669\n",
            "Epoch 24/100\n",
            "1/1 [==============================] - 0s 28ms/step - loss: 7.3613 - mae: 7.3613\n",
            "Epoch 25/100\n",
            "1/1 [==============================] - 0s 15ms/step - loss: 7.3556 - mae: 7.3556\n",
            "Epoch 26/100\n",
            "1/1 [==============================] - 0s 26ms/step - loss: 7.3500 - mae: 7.3500\n",
            "Epoch 27/100\n",
            "1/1 [==============================] - 0s 26ms/step - loss: 7.3444 - mae: 7.3444\n",
            "Epoch 28/100\n",
            "1/1 [==============================] - 0s 26ms/step - loss: 7.3387 - mae: 7.3387\n",
            "Epoch 29/100\n",
            "1/1 [==============================] - 0s 30ms/step - loss: 7.3331 - mae: 7.3331\n",
            "Epoch 30/100\n",
            "1/1 [==============================] - 0s 21ms/step - loss: 7.3275 - mae: 7.3275\n",
            "Epoch 31/100\n",
            "1/1 [==============================] - 0s 20ms/step - loss: 7.3219 - mae: 7.3219\n",
            "Epoch 32/100\n",
            "1/1 [==============================] - 0s 16ms/step - loss: 7.3163 - mae: 7.3163\n",
            "Epoch 33/100\n",
            "1/1 [==============================] - 0s 14ms/step - loss: 7.3106 - mae: 7.3106\n",
            "Epoch 34/100\n",
            "1/1 [==============================] - 0s 15ms/step - loss: 7.3050 - mae: 7.3050\n",
            "Epoch 35/100\n",
            "1/1 [==============================] - 0s 18ms/step - loss: 7.2994 - mae: 7.2994\n",
            "Epoch 36/100\n",
            "1/1 [==============================] - 0s 38ms/step - loss: 7.2938 - mae: 7.2938\n",
            "Epoch 37/100\n",
            "1/1 [==============================] - 0s 26ms/step - loss: 7.2881 - mae: 7.2881\n",
            "Epoch 38/100\n",
            "1/1 [==============================] - 0s 21ms/step - loss: 7.2825 - mae: 7.2825\n",
            "Epoch 39/100\n",
            "1/1 [==============================] - 0s 26ms/step - loss: 7.2769 - mae: 7.2769\n",
            "Epoch 40/100\n",
            "1/1 [==============================] - 0s 13ms/step - loss: 7.2712 - mae: 7.2712\n",
            "Epoch 41/100\n",
            "1/1 [==============================] - 0s 12ms/step - loss: 7.2656 - mae: 7.2656\n",
            "Epoch 42/100\n",
            "1/1 [==============================] - 0s 15ms/step - loss: 7.2600 - mae: 7.2600\n",
            "Epoch 43/100\n",
            "1/1 [==============================] - 0s 17ms/step - loss: 7.2544 - mae: 7.2544\n",
            "Epoch 44/100\n",
            "1/1 [==============================] - 0s 19ms/step - loss: 7.2488 - mae: 7.2488\n",
            "Epoch 45/100\n",
            "1/1 [==============================] - 0s 16ms/step - loss: 7.2431 - mae: 7.2431\n",
            "Epoch 46/100\n",
            "1/1 [==============================] - 0s 19ms/step - loss: 7.2375 - mae: 7.2375\n",
            "Epoch 47/100\n",
            "1/1 [==============================] - 0s 17ms/step - loss: 7.2319 - mae: 7.2319\n",
            "Epoch 48/100\n",
            "1/1 [==============================] - 0s 20ms/step - loss: 7.2263 - mae: 7.2263\n",
            "Epoch 49/100\n",
            "1/1 [==============================] - 0s 31ms/step - loss: 7.2206 - mae: 7.2206\n",
            "Epoch 50/100\n",
            "1/1 [==============================] - 0s 20ms/step - loss: 7.2150 - mae: 7.2150\n",
            "Epoch 51/100\n",
            "1/1 [==============================] - 0s 20ms/step - loss: 7.2094 - mae: 7.2094\n",
            "Epoch 52/100\n",
            "1/1 [==============================] - 0s 17ms/step - loss: 7.2038 - mae: 7.2038\n",
            "Epoch 53/100\n",
            "1/1 [==============================] - 0s 19ms/step - loss: 7.1981 - mae: 7.1981\n",
            "Epoch 54/100\n",
            "1/1 [==============================] - 0s 26ms/step - loss: 7.1925 - mae: 7.1925\n",
            "Epoch 55/100\n",
            "1/1 [==============================] - 0s 34ms/step - loss: 7.1869 - mae: 7.1869\n",
            "Epoch 56/100\n",
            "1/1 [==============================] - 0s 49ms/step - loss: 7.1813 - mae: 7.1813\n",
            "Epoch 57/100\n",
            "1/1 [==============================] - 0s 50ms/step - loss: 7.1756 - mae: 7.1756\n",
            "Epoch 58/100\n",
            "1/1 [==============================] - 0s 35ms/step - loss: 7.1700 - mae: 7.1700\n",
            "Epoch 59/100\n",
            "1/1 [==============================] - 0s 47ms/step - loss: 7.1644 - mae: 7.1644\n",
            "Epoch 60/100\n",
            "1/1 [==============================] - 0s 28ms/step - loss: 7.1588 - mae: 7.1588\n",
            "Epoch 61/100\n",
            "1/1 [==============================] - 0s 27ms/step - loss: 7.1531 - mae: 7.1531\n",
            "Epoch 62/100\n",
            "1/1 [==============================] - 0s 23ms/step - loss: 7.1475 - mae: 7.1475\n",
            "Epoch 63/100\n",
            "1/1 [==============================] - 0s 16ms/step - loss: 7.1419 - mae: 7.1419\n",
            "Epoch 64/100\n",
            "1/1 [==============================] - 0s 21ms/step - loss: 7.1363 - mae: 7.1363\n",
            "Epoch 65/100\n",
            "1/1 [==============================] - 0s 22ms/step - loss: 7.1306 - mae: 7.1306\n",
            "Epoch 66/100\n",
            "1/1 [==============================] - 0s 23ms/step - loss: 7.1250 - mae: 7.1250\n",
            "Epoch 67/100\n",
            "1/1 [==============================] - 0s 22ms/step - loss: 7.1194 - mae: 7.1194\n",
            "Epoch 68/100\n",
            "1/1 [==============================] - 0s 21ms/step - loss: 7.1138 - mae: 7.1138\n",
            "Epoch 69/100\n",
            "1/1 [==============================] - 0s 42ms/step - loss: 7.1081 - mae: 7.1081\n",
            "Epoch 70/100\n",
            "1/1 [==============================] - 0s 22ms/step - loss: 7.1025 - mae: 7.1025\n",
            "Epoch 71/100\n",
            "1/1 [==============================] - 0s 29ms/step - loss: 7.0969 - mae: 7.0969\n",
            "Epoch 72/100\n",
            "1/1 [==============================] - 0s 44ms/step - loss: 7.0913 - mae: 7.0913\n",
            "Epoch 73/100\n",
            "1/1 [==============================] - 0s 37ms/step - loss: 7.0856 - mae: 7.0856\n",
            "Epoch 74/100\n",
            "1/1 [==============================] - 0s 26ms/step - loss: 7.0800 - mae: 7.0800\n",
            "Epoch 75/100\n",
            "1/1 [==============================] - 0s 27ms/step - loss: 7.0744 - mae: 7.0744\n",
            "Epoch 76/100\n",
            "1/1 [==============================] - 0s 26ms/step - loss: 7.0688 - mae: 7.0688\n",
            "Epoch 77/100\n",
            "1/1 [==============================] - 0s 27ms/step - loss: 7.0631 - mae: 7.0631\n",
            "Epoch 78/100\n",
            "1/1 [==============================] - 0s 26ms/step - loss: 7.0575 - mae: 7.0575\n",
            "Epoch 79/100\n",
            "1/1 [==============================] - 0s 30ms/step - loss: 7.0519 - mae: 7.0519\n",
            "Epoch 80/100\n",
            "1/1 [==============================] - 0s 27ms/step - loss: 7.0463 - mae: 7.0463\n",
            "Epoch 81/100\n",
            "1/1 [==============================] - 0s 25ms/step - loss: 7.0406 - mae: 7.0406\n",
            "Epoch 82/100\n",
            "1/1 [==============================] - 0s 34ms/step - loss: 7.0350 - mae: 7.0350\n",
            "Epoch 83/100\n",
            "1/1 [==============================] - 0s 33ms/step - loss: 7.0294 - mae: 7.0294\n",
            "Epoch 84/100\n",
            "1/1 [==============================] - 0s 32ms/step - loss: 7.0238 - mae: 7.0238\n",
            "Epoch 85/100\n",
            "1/1 [==============================] - 0s 20ms/step - loss: 7.0181 - mae: 7.0181\n",
            "Epoch 86/100\n",
            "1/1 [==============================] - 0s 24ms/step - loss: 7.0125 - mae: 7.0125\n",
            "Epoch 87/100\n",
            "1/1 [==============================] - 0s 16ms/step - loss: 7.0069 - mae: 7.0069\n",
            "Epoch 88/100\n",
            "1/1 [==============================] - 0s 15ms/step - loss: 7.0013 - mae: 7.0013\n",
            "Epoch 89/100\n",
            "1/1 [==============================] - 0s 58ms/step - loss: 6.9956 - mae: 6.9956\n",
            "Epoch 90/100\n",
            "1/1 [==============================] - 0s 21ms/step - loss: 6.9900 - mae: 6.9900\n",
            "Epoch 91/100\n",
            "1/1 [==============================] - 0s 17ms/step - loss: 6.9844 - mae: 6.9844\n",
            "Epoch 92/100\n",
            "1/1 [==============================] - 0s 23ms/step - loss: 6.9788 - mae: 6.9788\n",
            "Epoch 93/100\n",
            "1/1 [==============================] - 0s 36ms/step - loss: 6.9731 - mae: 6.9731\n",
            "Epoch 94/100\n",
            "1/1 [==============================] - 0s 25ms/step - loss: 6.9675 - mae: 6.9675\n",
            "Epoch 95/100\n",
            "1/1 [==============================] - 0s 27ms/step - loss: 6.9619 - mae: 6.9619\n",
            "Epoch 96/100\n",
            "1/1 [==============================] - 0s 24ms/step - loss: 6.9563 - mae: 6.9563\n",
            "Epoch 97/100\n",
            "1/1 [==============================] - 0s 30ms/step - loss: 6.9506 - mae: 6.9506\n",
            "Epoch 98/100\n",
            "1/1 [==============================] - 0s 22ms/step - loss: 6.9450 - mae: 6.9450\n",
            "Epoch 99/100\n",
            "1/1 [==============================] - 0s 17ms/step - loss: 6.9394 - mae: 6.9394\n",
            "Epoch 100/100\n",
            "1/1 [==============================] - 0s 18ms/step - loss: 6.9338 - mae: 6.9338\n"
          ]
        },
        {
          "output_type": "execute_result",
          "data": {
            "text/plain": [
              "<keras.callbacks.History at 0x7fbd03fc02b0>"
            ]
          },
          "metadata": {},
          "execution_count": 16
        }
      ],
      "source": [
        "## Let's rebuild our model\n",
        "\n",
        "#1. Create a model\n",
        "model = tf.keras.Sequential([\n",
        "    tf.keras.layers.Dense(1)\n",
        "])\n",
        "\n",
        "#2. Compile the model\n",
        "model.compile(loss=tf.keras.losses.mae,\n",
        "              optimizer=tf.keras.optimizers.SGD(),\n",
        "              metrics=[\"mae\"])\n",
        "\n",
        "#3. Fit the model (This time we will train longer)\n",
        "model.fit(tf.expand_dims(X,axis=1),y,epochs=100)"
      ]
    },
    {
      "cell_type": "code",
      "execution_count": 17,
      "metadata": {
        "colab": {
          "base_uri": "https://localhost:8080/"
        },
        "id": "EeNX-4eSWerm",
        "outputId": "1515abea-f77b-43d6-cef4-a2d9f516b6a3"
      },
      "outputs": [
        {
          "output_type": "stream",
          "name": "stdout",
          "text": [
            "1/1 [==============================] - 0s 110ms/step\n"
          ]
        },
        {
          "output_type": "execute_result",
          "data": {
            "text/plain": [
              "array([[29.940985]], dtype=float32)"
            ]
          },
          "metadata": {},
          "execution_count": 17
        }
      ],
      "source": [
        "y_pred = model.predict([17.0])\n",
        "y_pred #we are getting much closer prediction. (It must have been 27 but we get 29)"
      ]
    },
    {
      "cell_type": "code",
      "execution_count": 18,
      "metadata": {
        "colab": {
          "base_uri": "https://localhost:8080/"
        },
        "id": "4CW92RwjWy_a",
        "outputId": "f7bc95c9-bd8b-47d3-d3f9-a06ae1d1075e"
      },
      "outputs": [
        {
          "output_type": "stream",
          "name": "stderr",
          "text": [
            "WARNING:absl:`lr` is deprecated in Keras optimizer, please use `learning_rate` or use the legacy optimizer, e.g.,tf.keras.optimizers.legacy.Adam.\n"
          ]
        },
        {
          "output_type": "stream",
          "name": "stdout",
          "text": [
            "Epoch 1/100\n",
            "1/1 [==============================] - 2s 2s/step - loss: 13.3432 - mae: 13.3432\n",
            "Epoch 2/100\n",
            "1/1 [==============================] - 0s 26ms/step - loss: 13.2476 - mae: 13.2476\n",
            "Epoch 3/100\n",
            "1/1 [==============================] - 0s 18ms/step - loss: 13.1519 - mae: 13.1519\n",
            "Epoch 4/100\n",
            "1/1 [==============================] - 0s 13ms/step - loss: 13.0561 - mae: 13.0561\n",
            "Epoch 5/100\n",
            "1/1 [==============================] - 0s 25ms/step - loss: 12.9603 - mae: 12.9603\n",
            "Epoch 6/100\n",
            "1/1 [==============================] - 0s 15ms/step - loss: 12.8644 - mae: 12.8644\n",
            "Epoch 7/100\n",
            "1/1 [==============================] - 0s 17ms/step - loss: 12.7684 - mae: 12.7684\n",
            "Epoch 8/100\n",
            "1/1 [==============================] - 0s 22ms/step - loss: 12.6724 - mae: 12.6724\n",
            "Epoch 9/100\n",
            "1/1 [==============================] - 0s 31ms/step - loss: 12.5763 - mae: 12.5763\n",
            "Epoch 10/100\n",
            "1/1 [==============================] - 0s 14ms/step - loss: 12.4802 - mae: 12.4802\n",
            "Epoch 11/100\n",
            "1/1 [==============================] - 0s 18ms/step - loss: 12.3840 - mae: 12.3840\n",
            "Epoch 12/100\n",
            "1/1 [==============================] - 0s 34ms/step - loss: 12.2876 - mae: 12.2876\n",
            "Epoch 13/100\n",
            "1/1 [==============================] - 0s 22ms/step - loss: 12.1912 - mae: 12.1912\n",
            "Epoch 14/100\n",
            "1/1 [==============================] - 0s 26ms/step - loss: 12.0947 - mae: 12.0947\n",
            "Epoch 15/100\n",
            "1/1 [==============================] - 0s 28ms/step - loss: 11.9981 - mae: 11.9981\n",
            "Epoch 16/100\n",
            "1/1 [==============================] - 0s 18ms/step - loss: 11.9013 - mae: 11.9013\n",
            "Epoch 17/100\n",
            "1/1 [==============================] - 0s 23ms/step - loss: 11.8044 - mae: 11.8044\n",
            "Epoch 18/100\n",
            "1/1 [==============================] - 0s 25ms/step - loss: 11.7074 - mae: 11.7074\n",
            "Epoch 19/100\n",
            "1/1 [==============================] - 0s 27ms/step - loss: 11.6102 - mae: 11.6102\n",
            "Epoch 20/100\n",
            "1/1 [==============================] - 0s 28ms/step - loss: 11.5128 - mae: 11.5128\n",
            "Epoch 21/100\n",
            "1/1 [==============================] - 0s 51ms/step - loss: 11.4152 - mae: 11.4152\n",
            "Epoch 22/100\n",
            "1/1 [==============================] - 0s 31ms/step - loss: 11.3174 - mae: 11.3174\n",
            "Epoch 23/100\n",
            "1/1 [==============================] - 0s 30ms/step - loss: 11.2194 - mae: 11.2194\n",
            "Epoch 24/100\n",
            "1/1 [==============================] - 0s 14ms/step - loss: 11.1212 - mae: 11.1212\n",
            "Epoch 25/100\n",
            "1/1 [==============================] - 0s 12ms/step - loss: 11.0227 - mae: 11.0227\n",
            "Epoch 26/100\n",
            "1/1 [==============================] - 0s 33ms/step - loss: 10.9239 - mae: 10.9239\n",
            "Epoch 27/100\n",
            "1/1 [==============================] - 0s 21ms/step - loss: 10.8248 - mae: 10.8248\n",
            "Epoch 28/100\n",
            "1/1 [==============================] - 0s 18ms/step - loss: 10.7254 - mae: 10.7254\n",
            "Epoch 29/100\n",
            "1/1 [==============================] - 0s 20ms/step - loss: 10.6256 - mae: 10.6256\n",
            "Epoch 30/100\n",
            "1/1 [==============================] - 0s 16ms/step - loss: 10.5255 - mae: 10.5255\n",
            "Epoch 31/100\n",
            "1/1 [==============================] - 0s 19ms/step - loss: 10.4250 - mae: 10.4250\n",
            "Epoch 32/100\n",
            "1/1 [==============================] - 0s 19ms/step - loss: 10.3240 - mae: 10.3240\n",
            "Epoch 33/100\n",
            "1/1 [==============================] - 0s 16ms/step - loss: 10.2227 - mae: 10.2227\n",
            "Epoch 34/100\n",
            "1/1 [==============================] - 0s 14ms/step - loss: 10.1209 - mae: 10.1209\n",
            "Epoch 35/100\n",
            "1/1 [==============================] - 0s 31ms/step - loss: 10.0186 - mae: 10.0186\n",
            "Epoch 36/100\n",
            "1/1 [==============================] - 0s 33ms/step - loss: 9.9158 - mae: 9.9158\n",
            "Epoch 37/100\n",
            "1/1 [==============================] - 0s 31ms/step - loss: 9.8125 - mae: 9.8125\n",
            "Epoch 38/100\n",
            "1/1 [==============================] - 0s 15ms/step - loss: 9.7087 - mae: 9.7087\n",
            "Epoch 39/100\n",
            "1/1 [==============================] - 0s 23ms/step - loss: 9.6043 - mae: 9.6043\n",
            "Epoch 40/100\n",
            "1/1 [==============================] - 0s 22ms/step - loss: 9.4994 - mae: 9.4994\n",
            "Epoch 41/100\n",
            "1/1 [==============================] - 0s 16ms/step - loss: 9.3939 - mae: 9.3939\n",
            "Epoch 42/100\n",
            "1/1 [==============================] - 0s 25ms/step - loss: 9.2878 - mae: 9.2878\n",
            "Epoch 43/100\n",
            "1/1 [==============================] - 0s 16ms/step - loss: 9.1811 - mae: 9.1811\n",
            "Epoch 44/100\n",
            "1/1 [==============================] - 0s 41ms/step - loss: 9.0737 - mae: 9.0737\n",
            "Epoch 45/100\n",
            "1/1 [==============================] - 0s 19ms/step - loss: 8.9657 - mae: 8.9657\n",
            "Epoch 46/100\n",
            "1/1 [==============================] - 0s 35ms/step - loss: 8.8570 - mae: 8.8570\n",
            "Epoch 47/100\n",
            "1/1 [==============================] - 0s 28ms/step - loss: 8.7476 - mae: 8.7476\n",
            "Epoch 48/100\n",
            "1/1 [==============================] - 0s 28ms/step - loss: 8.6375 - mae: 8.6375\n",
            "Epoch 49/100\n",
            "1/1 [==============================] - 0s 15ms/step - loss: 8.5267 - mae: 8.5267\n",
            "Epoch 50/100\n",
            "1/1 [==============================] - 0s 17ms/step - loss: 8.4151 - mae: 8.4151\n",
            "Epoch 51/100\n",
            "1/1 [==============================] - 0s 14ms/step - loss: 8.3028 - mae: 8.3028\n",
            "Epoch 52/100\n",
            "1/1 [==============================] - 0s 12ms/step - loss: 8.1898 - mae: 8.1898\n",
            "Epoch 53/100\n",
            "1/1 [==============================] - 0s 22ms/step - loss: 8.0759 - mae: 8.0759\n",
            "Epoch 54/100\n",
            "1/1 [==============================] - 0s 37ms/step - loss: 7.9612 - mae: 7.9612\n",
            "Epoch 55/100\n",
            "1/1 [==============================] - 0s 49ms/step - loss: 7.8458 - mae: 7.8458\n",
            "Epoch 56/100\n",
            "1/1 [==============================] - 0s 23ms/step - loss: 7.7295 - mae: 7.7295\n",
            "Epoch 57/100\n",
            "1/1 [==============================] - 0s 17ms/step - loss: 7.6123 - mae: 7.6123\n",
            "Epoch 58/100\n",
            "1/1 [==============================] - 0s 13ms/step - loss: 7.4943 - mae: 7.4943\n",
            "Epoch 59/100\n",
            "1/1 [==============================] - 0s 13ms/step - loss: 7.3754 - mae: 7.3754\n",
            "Epoch 60/100\n",
            "1/1 [==============================] - 0s 22ms/step - loss: 7.2556 - mae: 7.2556\n",
            "Epoch 61/100\n",
            "1/1 [==============================] - 0s 13ms/step - loss: 7.1349 - mae: 7.1349\n",
            "Epoch 62/100\n",
            "1/1 [==============================] - 0s 26ms/step - loss: 7.0133 - mae: 7.0133\n",
            "Epoch 63/100\n",
            "1/1 [==============================] - 0s 23ms/step - loss: 6.8908 - mae: 6.8908\n",
            "Epoch 64/100\n",
            "1/1 [==============================] - 0s 38ms/step - loss: 6.8305 - mae: 6.8305\n",
            "Epoch 65/100\n",
            "1/1 [==============================] - 0s 33ms/step - loss: 6.8167 - mae: 6.8167\n",
            "Epoch 66/100\n",
            "1/1 [==============================] - 0s 24ms/step - loss: 6.8033 - mae: 6.8033\n",
            "Epoch 67/100\n",
            "1/1 [==============================] - 0s 15ms/step - loss: 6.7900 - mae: 6.7900\n",
            "Epoch 68/100\n",
            "1/1 [==============================] - 0s 14ms/step - loss: 6.7770 - mae: 6.7770\n",
            "Epoch 69/100\n",
            "1/1 [==============================] - 0s 9ms/step - loss: 6.7641 - mae: 6.7641\n",
            "Epoch 70/100\n",
            "1/1 [==============================] - 0s 18ms/step - loss: 6.7514 - mae: 6.7514\n",
            "Epoch 71/100\n",
            "1/1 [==============================] - 0s 28ms/step - loss: 6.7402 - mae: 6.7402\n",
            "Epoch 72/100\n",
            "1/1 [==============================] - 0s 16ms/step - loss: 6.7647 - mae: 6.7647\n",
            "Epoch 73/100\n",
            "1/1 [==============================] - 0s 20ms/step - loss: 6.7792 - mae: 6.7792\n",
            "Epoch 74/100\n",
            "1/1 [==============================] - 0s 24ms/step - loss: 6.7847 - mae: 6.7847\n",
            "Epoch 75/100\n",
            "1/1 [==============================] - 0s 19ms/step - loss: 6.7820 - mae: 6.7820\n",
            "Epoch 76/100\n",
            "1/1 [==============================] - 0s 17ms/step - loss: 6.7720 - mae: 6.7720\n",
            "Epoch 77/100\n",
            "1/1 [==============================] - 0s 17ms/step - loss: 6.7553 - mae: 6.7553\n",
            "Epoch 78/100\n",
            "1/1 [==============================] - 0s 35ms/step - loss: 6.7327 - mae: 6.7327\n",
            "Epoch 79/100\n",
            "1/1 [==============================] - 0s 27ms/step - loss: 6.7048 - mae: 6.7048\n",
            "Epoch 80/100\n",
            "1/1 [==============================] - 0s 28ms/step - loss: 6.6722 - mae: 6.6722\n",
            "Epoch 81/100\n",
            "1/1 [==============================] - 0s 25ms/step - loss: 6.6449 - mae: 6.6449\n",
            "Epoch 82/100\n",
            "1/1 [==============================] - 0s 17ms/step - loss: 6.6371 - mae: 6.6371\n",
            "Epoch 83/100\n",
            "1/1 [==============================] - 0s 24ms/step - loss: 6.6290 - mae: 6.6290\n",
            "Epoch 84/100\n",
            "1/1 [==============================] - 0s 16ms/step - loss: 6.6205 - mae: 6.6205\n",
            "Epoch 85/100\n",
            "1/1 [==============================] - 0s 38ms/step - loss: 6.6119 - mae: 6.6119\n",
            "Epoch 86/100\n",
            "1/1 [==============================] - 0s 25ms/step - loss: 6.6029 - mae: 6.6029\n",
            "Epoch 87/100\n",
            "1/1 [==============================] - 0s 23ms/step - loss: 6.5938 - mae: 6.5938\n",
            "Epoch 88/100\n",
            "1/1 [==============================] - 0s 19ms/step - loss: 6.5844 - mae: 6.5844\n",
            "Epoch 89/100\n",
            "1/1 [==============================] - 0s 10ms/step - loss: 6.5749 - mae: 6.5749\n",
            "Epoch 90/100\n",
            "1/1 [==============================] - 0s 14ms/step - loss: 6.5651 - mae: 6.5651\n",
            "Epoch 91/100\n",
            "1/1 [==============================] - 0s 23ms/step - loss: 6.5552 - mae: 6.5552\n",
            "Epoch 92/100\n",
            "1/1 [==============================] - 0s 29ms/step - loss: 6.5452 - mae: 6.5452\n",
            "Epoch 93/100\n",
            "1/1 [==============================] - 0s 24ms/step - loss: 6.5349 - mae: 6.5349\n",
            "Epoch 94/100\n",
            "1/1 [==============================] - 0s 14ms/step - loss: 6.5246 - mae: 6.5246\n",
            "Epoch 95/100\n",
            "1/1 [==============================] - 0s 16ms/step - loss: 6.5141 - mae: 6.5141\n",
            "Epoch 96/100\n",
            "1/1 [==============================] - 0s 27ms/step - loss: 6.5035 - mae: 6.5035\n",
            "Epoch 97/100\n",
            "1/1 [==============================] - 0s 30ms/step - loss: 6.4927 - mae: 6.4927\n",
            "Epoch 98/100\n",
            "1/1 [==============================] - 0s 41ms/step - loss: 6.4818 - mae: 6.4818\n",
            "Epoch 99/100\n",
            "1/1 [==============================] - 0s 35ms/step - loss: 6.4709 - mae: 6.4709\n",
            "Epoch 100/100\n",
            "1/1 [==============================] - 0s 15ms/step - loss: 6.4598 - mae: 6.4598\n"
          ]
        },
        {
          "output_type": "execute_result",
          "data": {
            "text/plain": [
              "<keras.callbacks.History at 0x7fbd03ed06a0>"
            ]
          },
          "metadata": {},
          "execution_count": 18
        }
      ],
      "source": [
        "# Lets see if we can make another change in getting a better model\n",
        "\n",
        "#1. Create a model (This time with an extra hidden layer with an 100 hidden units(neurons))\n",
        "model = tf.keras.Sequential([\n",
        "    #earlier the activation was relu\n",
        "    tf.keras.layers.Dense(100,activation=None), #one hidden layer\n",
        "    tf.keras.layers.Dense(1) #outer output layer\n",
        "])\n",
        "\n",
        "#2. Compile the model\n",
        "model.compile(loss=tf.keras.losses.mae,\n",
        "              optimizer=tf.keras.optimizers.Adam(lr=0.001),\n",
        "              metrics=[\"mae\"])\n",
        "\n",
        "#3. Fit the model\n",
        "model.fit(tf.expand_dims(X, axis=1),y,epochs=100)\n",
        "#We get even a better model with lesser loss\n"
      ]
    },
    {
      "cell_type": "code",
      "execution_count": 19,
      "metadata": {
        "id": "HC6RMGRNbW7N"
      },
      "outputs": [],
      "source": [
        "#Gives 31.7 . Seems out previous model did better even if our loss and mae is better this time\n",
        "#This is because our model is overfitting. It is loading training data too well, means the error it is producing is really diffrent from what the model is doing while predictions.\n",
        "#Means the known steps to imporve the model does not always imporve the model :( other factors too matter!!!\n",
        "#change the activation from relu to none"
      ]
    },
    {
      "cell_type": "code",
      "execution_count": 20,
      "metadata": {
        "colab": {
          "base_uri": "https://localhost:8080/"
        },
        "id": "FGTVFDOiW1_r",
        "outputId": "a9765187-282d-49f2-bd4f-068c549608ca"
      },
      "outputs": [
        {
          "output_type": "stream",
          "name": "stdout",
          "text": [
            "1/1 [==============================] - 0s 167ms/step\n"
          ]
        },
        {
          "output_type": "execute_result",
          "data": {
            "text/plain": [
              "array([[30.669144]], dtype=float32)"
            ]
          },
          "metadata": {},
          "execution_count": 20
        }
      ],
      "source": [
        "#Lets try to predict\n",
        "pred = model.predict([17.0])\n",
        "pred"
      ]
    },
    {
      "cell_type": "markdown",
      "metadata": {
        "id": "dqOshDxgGA3V"
      },
      "source": [
        "# Ways to Improve the Model\n",
        "\n",
        "1.Adding more layers\n",
        "2.Increase the number of hidden units\n",
        "3.Change the activation functions\n",
        "4.Change the optimization functions\n",
        "5.Change the learning rate\n",
        "6.Fitting on more data\n",
        "7.Fitting for longer (more epochs)\n",
        "\n"
      ]
    },
    {
      "cell_type": "markdown",
      "metadata": {
        "id": "OH8eIUQAYD2F"
      },
      "source": [
        "# Evaluating a model\n",
        "In practice a typical workflow you go through when building neural networks - \n",
        "\n",
        "Build a model -> fit it -> evaluate it -> tweak it -> fit it -> evaluate it -> tweak it"
      ]
    },
    {
      "cell_type": "code",
      "execution_count": 21,
      "metadata": {
        "colab": {
          "base_uri": "https://localhost:8080/"
        },
        "id": "KiCzgcvbcbdT",
        "outputId": "e9d1ad95-e063-4036-d675-d24d1e65b57d"
      },
      "outputs": [
        {
          "output_type": "execute_result",
          "data": {
            "text/plain": [
              "<tf.Tensor: shape=(50,), dtype=int32, numpy=\n",
              "array([-100,  -96,  -92,  -88,  -84,  -80,  -76,  -72,  -68,  -64,  -60,\n",
              "        -56,  -52,  -48,  -44,  -40,  -36,  -32,  -28,  -24,  -20,  -16,\n",
              "        -12,   -8,   -4,    0,    4,    8,   12,   16,   20,   24,   28,\n",
              "         32,   36,   40,   44,   48,   52,   56,   60,   64,   68,   72,\n",
              "         76,   80,   84,   88,   92,   96], dtype=int32)>"
            ]
          },
          "metadata": {},
          "execution_count": 21
        }
      ],
      "source": [
        "# Make a bigger datasets\n",
        "X = tf.range(-100,100,4)\n",
        "X #50 numbers"
      ]
    },
    {
      "cell_type": "code",
      "execution_count": 22,
      "metadata": {
        "colab": {
          "base_uri": "https://localhost:8080/"
        },
        "id": "4mf5u7bHHrSI",
        "outputId": "c2154cc0-4fa6-4f50-bcc7-7bef6f3a0f7d"
      },
      "outputs": [
        {
          "output_type": "execute_result",
          "data": {
            "text/plain": [
              "<tf.Tensor: shape=(50,), dtype=int32, numpy=\n",
              "array([-90, -86, -82, -78, -74, -70, -66, -62, -58, -54, -50, -46, -42,\n",
              "       -38, -34, -30, -26, -22, -18, -14, -10,  -6,  -2,   2,   6,  10,\n",
              "        14,  18,  22,  26,  30,  34,  38,  42,  46,  50,  54,  58,  62,\n",
              "        66,  70,  74,  78,  82,  86,  90,  94,  98, 102, 106], dtype=int32)>"
            ]
          },
          "metadata": {},
          "execution_count": 22
        }
      ],
      "source": [
        "# Make laebels for datasets\n",
        "y = X+10\n",
        "y"
      ]
    },
    {
      "cell_type": "code",
      "execution_count": 23,
      "metadata": {
        "colab": {
          "base_uri": "https://localhost:8080/",
          "height": 447
        },
        "id": "VqKcV4ujH0DU",
        "outputId": "2bd4c338-78d9-400f-86a2-83881ecfe042"
      },
      "outputs": [
        {
          "output_type": "execute_result",
          "data": {
            "text/plain": [
              "[<matplotlib.lines.Line2D at 0x7fbd03896fd0>]"
            ]
          },
          "metadata": {},
          "execution_count": 23
        },
        {
          "output_type": "display_data",
          "data": {
            "text/plain": [
              "<Figure size 640x480 with 1 Axes>"
            ],
            "image/png": "[encoded data removed]"
          },
          "metadata": {}
        }
      ],
      "source": [
        "# Visualise the data\n",
        "import matplotlib.pyplot as plt\n",
        "\n",
        "plt.plot(X,y)"
      ]
    },
    {
      "cell_type": "code",
      "execution_count": 24,
      "metadata": {
        "colab": {
          "base_uri": "https://localhost:8080/",
          "height": 447
        },
        "id": "6QC50HA8H91i",
        "outputId": "586d719e-1d1a-4473-ab8d-895dd31d9a70"
      },
      "outputs": [
        {
          "output_type": "execute_result",
          "data": {
            "text/plain": [
              "<matplotlib.collections.PathCollection at 0x7fbd0380ca30>"
            ]
          },
          "metadata": {},
          "execution_count": 24
        },
        {
          "output_type": "display_data",
          "data": {
            "text/plain": [
              "<Figure size 640x480 with 1 Axes>"
            ],
            "image/png": "[encoded data removed]"
          },
          "metadata": {}
        }
      ],
      "source": [
        "plt.scatter(X,y)"
      ]
    },
    {
      "cell_type": "markdown",
      "metadata": {
        "id": "8D8ScH7XIECW"
      },
      "source": [
        "### The 3 sets...\n",
        "\n",
        "* **Training set**- The model learns form this data, which is typically 70 to 80 percent of the total data\n",
        "* **Validation set** - model getstuned on this data, which is typicall 10-15% of the data available\n",
        "* Test set - the model gets evaluated on this data to test what it has learned, this set is typically 10-15% of the total data available\n",
        "\n",
        "\n",
        "* *Generalization* -  The ability for a machine learning model to perform well on the data it has never seen before"
      ]
    },
    {
      "cell_type": "code",
      "execution_count": 25,
      "metadata": {
        "colab": {
          "base_uri": "https://localhost:8080/"
        },
        "id": "sa5iGSUfI6Bh",
        "outputId": "0490f400-214e-400f-cc89-c01b78f655b2"
      },
      "outputs": [
        {
          "output_type": "execute_result",
          "data": {
            "text/plain": [
              "50"
            ]
          },
          "metadata": {},
          "execution_count": 25
        }
      ],
      "source": [
        "#Check the length of how many samples we have\n",
        "len(X)"
      ]
    },
    {
      "cell_type": "code",
      "execution_count": 26,
      "metadata": {
        "colab": {
          "base_uri": "https://localhost:8080/"
        },
        "id": "d9Xc_DhdJUOm",
        "outputId": "277cda1a-1962-4d1e-cf97-e176922fbfa7"
      },
      "outputs": [
        {
          "output_type": "execute_result",
          "data": {
            "text/plain": [
              "(40, 10, 40, 10)"
            ]
          },
          "metadata": {},
          "execution_count": 26
        }
      ],
      "source": [
        "#split the data into train and test sets\n",
        "\n",
        "X_train = X[:40] #we are working with 50 samples so we take the first 40 samples meand the 80 percent of X \n",
        "y_train = y[:40]\n",
        "\n",
        "X_test = X[40:] #last 10 samples for test (20%)\n",
        "y_test = y[40:]\n",
        "\n",
        "len(X_train),len(X_test),len(y_train),len(y_test)"
      ]
    },
    {
      "cell_type": "markdown",
      "metadata": {
        "id": "an6KPtFWJ6dC"
      },
      "source": [
        "### Visualizing the data\n",
        "\n",
        "Now we've got our data into training and testing sets....let's visualize it"
      ]
    },
    {
      "cell_type": "code",
      "execution_count": 27,
      "metadata": {
        "colab": {
          "base_uri": "https://localhost:8080/",
          "height": 599
        },
        "id": "QQ5GasSRKN2b",
        "outputId": "e8709401-65d0-4c05-be33-7a26c030ccb1"
      },
      "outputs": [
        {
          "output_type": "display_data",
          "data": {
            "text/plain": [
              "<Figure size 1000x700 with 1 Axes>"
            ],
            "image/png": "[encoded data removed]"
          },
          "metadata": {}
        }
      ],
      "source": [
        "plt.figure(figsize=(10,7))\n",
        "#Plot training data in blue\n",
        "plt.scatter(X_train,y_train,c=\"b\",label=\"Training data\")\n",
        "#Plot test data in green\n",
        "plt.scatter(X_test,y_test,c=\"g\",label=\"Testing data\")\n",
        "#Show a legend\n",
        "plt.legend();"
      ]
    },
    {
      "cell_type": "code",
      "execution_count": 28,
      "metadata": {
        "id": "Ja3abEjCKlKe"
      },
      "outputs": [],
      "source": [
        "# Let's have a look at how to build a neural network for our data\n",
        "\n",
        "#1. Create a model\n",
        "model = tf.keras.Sequential([\n",
        "    tf.keras.layers.Dense(1)\n",
        "])\n",
        "\n",
        "#2. Compiling the model\n",
        "model.compile(loss=tf.keras.losses.mae,\n",
        "              optimizer=tf.keras.optimizers.SGD(),\n",
        "              metrics=[\"mae\"])\n",
        "\n",
        "##3. Fit the model\n",
        "#model.fit(tf.expand_dims(X_train, axis=1),y_train, epochs=100)\n"
      ]
    },
    {
      "cell_type": "markdown",
      "metadata": {
        "id": "oG6nYKhwLrSn"
      },
      "source": [
        "### Visualizing the model"
      ]
    },
    {
      "cell_type": "code",
      "execution_count": 28,
      "metadata": {
        "id": "zRmnLjUCLtuF"
      },
      "outputs": [],
      "source": []
    },
    {
      "cell_type": "code",
      "execution_count": 29,
      "metadata": {
        "colab": {
          "base_uri": "https://localhost:8080/"
        },
        "id": "wnvW-HykMQba",
        "outputId": "ba77badf-94d9-4f04-d04d-39fccaae6426"
      },
      "outputs": [
        {
          "output_type": "execute_result",
          "data": {
            "text/plain": [
              "TensorShape([])"
            ]
          },
          "metadata": {},
          "execution_count": 29
        }
      ],
      "source": [
        "X[0].shape #It is a scalar value"
      ]
    },
    {
      "cell_type": "code",
      "execution_count": 30,
      "metadata": {
        "id": "kS6OyA6kLv5T"
      },
      "outputs": [],
      "source": [
        "# Let's create a model which builds automatically by defining the input_shape argument in the fist layer\n",
        "tf.random.set_seed(42)\n",
        "\n",
        "#Create a model (same as above)\n",
        "\n",
        "model = tf.keras.Sequential([\n",
        "    tf.keras.layers.Dense(10, input_shape = [1]), #Input shape varies depending on the number of inputs and outputs\n",
        "    tf.keras.layers.Dense(1)\n",
        "])\n",
        "\n",
        "model.compile(loss=tf.keras.losses.mae,\n",
        "              optimizer=tf.keras.optimizers.SGD(),\n",
        "              metrics=[\"mae\"])\n",
        "\n"
      ]
    },
    {
      "cell_type": "code",
      "execution_count": 31,
      "metadata": {
        "colab": {
          "base_uri": "https://localhost:8080/"
        },
        "id": "28MVnGF_Mmzh",
        "outputId": "ee6461ff-690e-46b7-d9d3-8c3b15daa567"
      },
      "outputs": [
        {
          "output_type": "stream",
          "name": "stdout",
          "text": [
            "Model: \"sequential_4\"\n",
            "_________________________________________________________________\n",
            " Layer (type)                Output Shape              Param #   \n",
            "=================================================================\n",
            " dense_5 (Dense)             (None, 10)                20        \n",
            "                                                                 \n",
            " dense_6 (Dense)             (None, 1)                 11        \n",
            "                                                                 \n",
            "=================================================================\n",
            "Total params: 31\n",
            "Trainable params: 31\n",
            "Non-trainable params: 0\n",
            "_________________________________________________________________\n"
          ]
        }
      ],
      "source": [
        "model.summary()\n",
        "#Thre are 2 params per hidden units"
      ]
    },
    {
      "cell_type": "markdown",
      "metadata": {
        "id": "C5ETIvfoMpwp"
      },
      "source": [
        "* Total params - total numbers of parameters in the model\n",
        "* Trainable parameters - these are the parameters (patterns) the model can update as it trains\n",
        "* Non-Trainable Params - these parameters aren't updated during training (This is typical when you bring in already lern patterns or parameters from other models during **transfer learning**)"
      ]
    },
    {
      "cell_type": "code",
      "execution_count": 32,
      "metadata": {
        "colab": {
          "base_uri": "https://localhost:8080/"
        },
        "id": "PfS6RdMzNJmN",
        "outputId": "bb15e138-ec6a-4e22-a4ba-1880f492aeb4"
      },
      "outputs": [
        {
          "output_type": "execute_result",
          "data": {
            "text/plain": [
              "<keras.callbacks.History at 0x7fbd0097ea00>"
            ]
          },
          "metadata": {},
          "execution_count": 32
        }
      ],
      "source": [
        "#Lets fit our model to the training data\n",
        "model.fit(X_train, y_train, epochs=100, verbose=0) #0 verbose doesnt gives any output, if we set it to 1we can see our model train (default is 1)"
      ]
    },
    {
      "cell_type": "code",
      "execution_count": 33,
      "metadata": {
        "colab": {
          "base_uri": "https://localhost:8080/"
        },
        "id": "jOfjKYPKQDpQ",
        "outputId": "fda98bbd-c1d3-4e27-aaa9-63a7eef0c15a"
      },
      "outputs": [
        {
          "output_type": "stream",
          "name": "stdout",
          "text": [
            "Model: \"sequential_4\"\n",
            "_________________________________________________________________\n",
            " Layer (type)                Output Shape              Param #   \n",
            "=================================================================\n",
            " dense_5 (Dense)             (None, 10)                20        \n",
            "                                                                 \n",
            " dense_6 (Dense)             (None, 1)                 11        \n",
            "                                                                 \n",
            "=================================================================\n",
            "Total params: 31\n",
            "Trainable params: 31\n",
            "Non-trainable params: 0\n",
            "_________________________________________________________________\n"
          ]
        }
      ],
      "source": [
        "# Get a summary of our model\n",
        "model.summary()\n",
        "#Sequential and dense in the summary increases everytime we instanciate the model or call it\n",
        "#also total parameters = 20 (as we have 10 hidedn units)"
      ]
    },
    {
      "cell_type": "code",
      "execution_count": 34,
      "metadata": {
        "id": "Ns_X-EAxQXmJ"
      },
      "outputs": [],
      "source": [
        "#Another way to visualise the model\n",
        "from tensorflow.keras.utils import plot_model\n"
      ]
    },
    {
      "cell_type": "code",
      "execution_count": 35,
      "metadata": {
        "colab": {
          "base_uri": "https://localhost:8080/",
          "height": 272
        },
        "id": "8ELfaxB8Q65W",
        "outputId": "cf0bdaa4-51ae-4deb-dea6-738edb183f78"
      },
      "outputs": [
        {
          "output_type": "execute_result",
          "data": {
            "image/png": "[encoded data removed]",
            "text/plain": [
              "<IPython.core.display.Image object>"
            ]
          },
          "metadata": {},
          "execution_count": 35
        }
      ],
      "source": [
        "plot_model(model=model)"
      ]
    },
    {
      "cell_type": "code",
      "execution_count": 36,
      "metadata": {
        "colab": {
          "base_uri": "https://localhost:8080/",
          "height": 312
        },
        "id": "A5iweEx3RGMW",
        "outputId": "16e4394c-38ac-40ff-9e22-61d973a77d90"
      },
      "outputs": [
        {
          "output_type": "execute_result",
          "data": {
            "image/png": "[encoded data removed]",
            "text/plain": [
              "<IPython.core.display.Image object>"
            ]
          },
          "metadata": {},
          "execution_count": 36
        }
      ],
      "source": [
        "plot_model(model=model,show_shapes=True)"
      ]
    },
    {
      "cell_type": "markdown",
      "metadata": {
        "id": "nmvlkoxDRMYv"
      },
      "source": [
        "### Visualizing our models predictions.\n",
        "\n",
        "* TO visualizing the predictions it is a good idea to plot them against the real labels."
      ]
    },
    {
      "cell_type": "code",
      "execution_count": 37,
      "metadata": {
        "colab": {
          "base_uri": "https://localhost:8080/"
        },
        "id": "cuTk8mH0Tb-_",
        "outputId": "4cf6065a-9ea4-44c8-b7b0-7206cd11d20c"
      },
      "outputs": [
        {
          "output_type": "stream",
          "name": "stdout",
          "text": [
            "1/1 [==============================] - 0s 163ms/step\n"
          ]
        },
        {
          "output_type": "execute_result",
          "data": {
            "text/plain": [
              "array([[ 75.90635 ],\n",
              "       [ 80.85046 ],\n",
              "       [ 85.794556],\n",
              "       [ 90.73867 ],\n",
              "       [ 95.68278 ],\n",
              "       [100.626884],\n",
              "       [105.57099 ],\n",
              "       [110.51508 ],\n",
              "       [115.4592  ],\n",
              "       [120.403305]], dtype=float32)"
            ]
          },
          "metadata": {},
          "execution_count": 37
        }
      ],
      "source": [
        "# Make Some Predictions\n",
        "\n",
        "y_pred = model.predict(X_test)\n",
        "y_pred"
      ]
    },
    {
      "cell_type": "code",
      "execution_count": 38,
      "metadata": {
        "colab": {
          "base_uri": "https://localhost:8080/"
        },
        "id": "qaRGvqukTlj7",
        "outputId": "4c818ad7-b0b9-48a0-b37b-48db1c2bcdbb"
      },
      "outputs": [
        {
          "output_type": "execute_result",
          "data": {
            "text/plain": [
              "<tf.Tensor: shape=(10,), dtype=int32, numpy=array([ 70,  74,  78,  82,  86,  90,  94,  98, 102, 106], dtype=int32)>"
            ]
          },
          "metadata": {},
          "execution_count": 38
        }
      ],
      "source": [
        "y_test"
      ]
    },
    {
      "cell_type": "code",
      "execution_count": 39,
      "metadata": {
        "id": "Qy8mXZLKTq3T"
      },
      "outputs": [],
      "source": [
        "# Lets create a plotting function\n",
        "\n",
        "def plot_predictions(train_data=X_train,train_labels=y_train,test_data=X_test,test_labels=y_test,predictions=y_pred):\n",
        "  plt.figure(figsize=(10,7))\n",
        "  #PLot training data to blue\n",
        "  plt.scatter(train_data,train_labels,c=\"blue\",label=\"Training Data\")\n",
        "  #Plot testing data in green\n",
        "  plt.scatter(test_data,test_labels,c=\"g\",label=\"Testing Data\")\n",
        "  #Plot models predictions in red\n",
        "  plt.scatter(test_data,predictions,c=\"red\",label=\"Predictions\")\n",
        "  #legend\n",
        "  plt.legend();"
      ]
    },
    {
      "cell_type": "code",
      "execution_count": 40,
      "metadata": {
        "colab": {
          "base_uri": "https://localhost:8080/",
          "height": 599
        },
        "id": "j6Qi4MEsVFk3",
        "outputId": "497146c0-c6c7-4fb3-e492-53aa78c18906"
      },
      "outputs": [
        {
          "output_type": "display_data",
          "data": {
            "text/plain": [
              "<Figure size 1000x700 with 1 Axes>"
            ],
            "image/png": "[encoded data removed]"
          },
          "metadata": {}
        }
      ],
      "source": [
        "plot_predictions(train_data=X_train,\n",
        "                 train_labels=y_train,\n",
        "                 test_data=X_test,\n",
        "                 test_labels=y_test,\n",
        "                 predictions=y_pred)\n",
        "#We have some good predictions."
      ]
    },
    {
      "cell_type": "markdown",
      "metadata": {
        "id": "eifwzotrVNQp"
      },
      "source": [
        "## Evaluating our model's predictions with regression evaluation metrics\n",
        "\n",
        "Depending on the problem you are working on, there will be differnt evaluation metrics to evaluate your model's performances.\n",
        "\n",
        "Since we are working on regression, we have two of the main metrics:\n",
        "* MAE - mean absolute error - \"on average how wrong is each of my model's predicions.\n",
        "* MSE - mean square error, \"Square the average errors\""
      ]
    },
    {
      "cell_type": "code",
      "execution_count": 41,
      "metadata": {
        "colab": {
          "base_uri": "https://localhost:8080/"
        },
        "id": "leR2b1sqWMnf",
        "outputId": "7c94dc64-1138-411b-81b2-438320696a3d"
      },
      "outputs": [
        {
          "output_type": "stream",
          "name": "stdout",
          "text": [
            "1/1 [==============================] - 0s 328ms/step - loss: 10.1548 - mae: 10.1548\n"
          ]
        },
        {
          "output_type": "execute_result",
          "data": {
            "text/plain": [
              "[10.154828071594238, 10.154828071594238]"
            ]
          },
          "metadata": {},
          "execution_count": 41
        }
      ],
      "source": [
        "# Evaluate the model on test\n",
        "model.evaluate(X_test,y_test)"
      ]
    },
    {
      "cell_type": "code",
      "execution_count": 42,
      "metadata": {
        "colab": {
          "base_uri": "https://localhost:8080/"
        },
        "id": "wba71tAhXYAz",
        "outputId": "06dd37cd-3d4b-4499-a3d7-6fa129d53792"
      },
      "outputs": [
        {
          "output_type": "execute_result",
          "data": {
            "text/plain": [
              "<tf.Tensor: shape=(10,), dtype=float32, numpy=\n",
              "array([13.656191 , 11.259817 , 10.041089 , 10.147734 , 11.473111 ,\n",
              "       13.9761305, 17.656794 , 22.515083 , 27.459198 , 32.403305 ],\n",
              "      dtype=float32)>"
            ]
          },
          "metadata": {},
          "execution_count": 42
        }
      ],
      "source": [
        "#Calculate the mean_Squared_error\n",
        "mae = tf.metrics.mean_absolute_error(y_true = y_test, \n",
        "                                     y_pred = tf.constant(y_pred))\n",
        "\n",
        "mae "
      ]
    },
    {
      "cell_type": "code",
      "execution_count": 43,
      "metadata": {
        "colab": {
          "base_uri": "https://localhost:8080/"
        },
        "id": "NdbdZSIwXllL",
        "outputId": "c1a0f860-dd01-4efd-903b-50f7790d1c0a"
      },
      "outputs": [
        {
          "output_type": "execute_result",
          "data": {
            "text/plain": [
              "(TensorShape([10]), (10, 1))"
            ]
          },
          "metadata": {},
          "execution_count": 43
        }
      ],
      "source": [
        "#y-test and y-pred are not of same shape\n",
        "y_test.shape, y_pred.shape"
      ]
    },
    {
      "cell_type": "code",
      "execution_count": 44,
      "metadata": {
        "colab": {
          "base_uri": "https://localhost:8080/"
        },
        "id": "1fXK4lFLYoIl",
        "outputId": "eb114c09-3628-423f-d88d-3a563f4e1b08"
      },
      "outputs": [
        {
          "output_type": "execute_result",
          "data": {
            "text/plain": [
              "<tf.Tensor: shape=(10,), dtype=float32, numpy=\n",
              "array([ 75.90635 ,  80.85046 ,  85.794556,  90.73867 ,  95.68278 ,\n",
              "       100.626884, 105.57099 , 110.51508 , 115.4592  , 120.403305],\n",
              "      dtype=float32)>"
            ]
          },
          "metadata": {},
          "execution_count": 44
        }
      ],
      "source": [
        "tf.squeeze(y_pred) #removing the extra one dimension"
      ]
    },
    {
      "cell_type": "code",
      "execution_count": 45,
      "metadata": {
        "colab": {
          "base_uri": "https://localhost:8080/"
        },
        "id": "4r4GrFIFY14S",
        "outputId": "482e4e22-fa7a-4a6c-db83-8d5c5b828e56"
      },
      "outputs": [
        {
          "output_type": "execute_result",
          "data": {
            "text/plain": [
              "<tf.Tensor: shape=(), dtype=float32, numpy=10.154827>"
            ]
          },
          "metadata": {},
          "execution_count": 45
        }
      ],
      "source": [
        "mae = tf.metrics.mean_absolute_error(y_true = y_test, \n",
        "                                     y_pred = tf.constant(tf.squeeze(y_pred)))\n",
        "\n",
        "mae "
      ]
    },
    {
      "cell_type": "code",
      "source": [
        "#Lets make some functions for mae and mse\n",
        "def mae(x,y):\n",
        "  return tf.metrics.mean_absolute_error(y_true=x,\n",
        "                                 y_pred=tf.constant(tf.squeeze(y))).numpy()\n",
        "\n",
        "def mse(x,y):\n",
        "  return tf.metrics.mean_squared_error(y_true=x,\n",
        "                                       y_pred=tf.constant(tf.squeeze(y))).numpy()"
      ],
      "metadata": {
        "id": "8C6WKB3xVWz_"
      },
      "execution_count": 46,
      "outputs": []
    },
    {
      "cell_type": "markdown",
      "source": [
        "## Running experiments to improve our model (BUILDING DIFFRENT MODELS)"
      ],
      "metadata": {
        "id": "1leXadaWY9Cz"
      }
    },
    {
      "cell_type": "markdown",
      "source": [
        "#### Build Model 1"
      ],
      "metadata": {
        "id": "K0YtvrkMSbly"
      }
    },
    {
      "cell_type": "code",
      "source": [
        "#Creating a new model\n",
        "\n",
        "model_1 = tf.keras.Sequential([\n",
        "    tf.keras.layers.Dense(1)\n",
        "])\n",
        "\n",
        "model_1.compile(loss=tf.keras.losses.mae,\n",
        "                optimizer = tf.keras.optimizers.SGD(),\n",
        "                metrics=[\"mae\"])\n",
        "\n",
        "model_1.fit(tf.expand_dims(X_train,axis=1),y_train,epochs=100)"
      ],
      "metadata": {
        "colab": {
          "base_uri": "https://localhost:8080/"
        },
        "id": "IFe6pvXqUOli",
        "outputId": "b55701ba-6102-40b6-9618-367cc4eee8f3"
      },
      "execution_count": 47,
      "outputs": [
        {
          "output_type": "stream",
          "name": "stdout",
          "text": [
            "Epoch 1/100\n",
            "2/2 [==============================] - 1s 10ms/step - loss: 19.3646 - mae: 19.3646\n",
            "Epoch 2/100\n",
            "2/2 [==============================] - 0s 12ms/step - loss: 11.3068 - mae: 11.3068\n",
            "Epoch 3/100\n",
            "2/2 [==============================] - 0s 13ms/step - loss: 11.2090 - mae: 11.2090\n",
            "Epoch 4/100\n",
            "2/2 [==============================] - 0s 13ms/step - loss: 9.5981 - mae: 9.5981\n",
            "Epoch 5/100\n",
            "2/2 [==============================] - 0s 19ms/step - loss: 10.5132 - mae: 10.5132\n",
            "Epoch 6/100\n",
            "2/2 [==============================] - 0s 25ms/step - loss: 9.7336 - mae: 9.7336\n",
            "Epoch 7/100\n",
            "2/2 [==============================] - 0s 21ms/step - loss: 8.8233 - mae: 8.8233\n",
            "Epoch 8/100\n",
            "2/2 [==============================] - 0s 32ms/step - loss: 9.0611 - mae: 9.0611\n",
            "Epoch 9/100\n",
            "2/2 [==============================] - 0s 16ms/step - loss: 19.3935 - mae: 19.3935\n",
            "Epoch 10/100\n",
            "2/2 [==============================] - 0s 15ms/step - loss: 10.4679 - mae: 10.4679\n",
            "Epoch 11/100\n",
            "2/2 [==============================] - 0s 13ms/step - loss: 8.5329 - mae: 8.5329\n",
            "Epoch 12/100\n",
            "2/2 [==============================] - 0s 19ms/step - loss: 10.9628 - mae: 10.9628\n",
            "Epoch 13/100\n",
            "2/2 [==============================] - 0s 13ms/step - loss: 7.5643 - mae: 7.5643\n",
            "Epoch 14/100\n",
            "2/2 [==============================] - 0s 12ms/step - loss: 15.9613 - mae: 15.9613\n",
            "Epoch 15/100\n",
            "2/2 [==============================] - 0s 17ms/step - loss: 13.0375 - mae: 13.0375\n",
            "Epoch 16/100\n",
            "2/2 [==============================] - 0s 16ms/step - loss: 7.9265 - mae: 7.9265\n",
            "Epoch 17/100\n",
            "2/2 [==============================] - 0s 20ms/step - loss: 11.2368 - mae: 11.2368\n",
            "Epoch 18/100\n",
            "2/2 [==============================] - 0s 12ms/step - loss: 10.2670 - mae: 10.2670\n",
            "Epoch 19/100\n",
            "2/2 [==============================] - 0s 8ms/step - loss: 19.4862 - mae: 19.4862\n",
            "Epoch 20/100\n",
            "2/2 [==============================] - 0s 21ms/step - loss: 16.1398 - mae: 16.1398\n",
            "Epoch 21/100\n",
            "2/2 [==============================] - 0s 17ms/step - loss: 12.0403 - mae: 12.0403\n",
            "Epoch 22/100\n",
            "2/2 [==============================] - 0s 31ms/step - loss: 8.6397 - mae: 8.6397\n",
            "Epoch 23/100\n",
            "2/2 [==============================] - 0s 21ms/step - loss: 9.6682 - mae: 9.6682\n",
            "Epoch 24/100\n",
            "2/2 [==============================] - 0s 12ms/step - loss: 8.5704 - mae: 8.5704\n",
            "Epoch 25/100\n",
            "2/2 [==============================] - 0s 15ms/step - loss: 11.5660 - mae: 11.5660\n",
            "Epoch 26/100\n",
            "2/2 [==============================] - 0s 13ms/step - loss: 15.1543 - mae: 15.1543\n",
            "Epoch 27/100\n",
            "2/2 [==============================] - 0s 15ms/step - loss: 12.0409 - mae: 12.0409\n",
            "Epoch 28/100\n",
            "2/2 [==============================] - 0s 20ms/step - loss: 13.3326 - mae: 13.3326\n",
            "Epoch 29/100\n",
            "2/2 [==============================] - 0s 16ms/step - loss: 9.5913 - mae: 9.5913\n",
            "Epoch 30/100\n",
            "2/2 [==============================] - 0s 15ms/step - loss: 17.1158 - mae: 17.1158\n",
            "Epoch 31/100\n",
            "2/2 [==============================] - 0s 13ms/step - loss: 22.9330 - mae: 22.9330\n",
            "Epoch 32/100\n",
            "2/2 [==============================] - 0s 13ms/step - loss: 7.9065 - mae: 7.9065\n",
            "Epoch 33/100\n",
            "2/2 [==============================] - 0s 8ms/step - loss: 14.0883 - mae: 14.0883\n",
            "Epoch 34/100\n",
            "2/2 [==============================] - 0s 14ms/step - loss: 12.3235 - mae: 12.3235\n",
            "Epoch 35/100\n",
            "2/2 [==============================] - 0s 12ms/step - loss: 8.2667 - mae: 8.2667\n",
            "Epoch 36/100\n",
            "2/2 [==============================] - 0s 11ms/step - loss: 10.4971 - mae: 10.4971\n",
            "Epoch 37/100\n",
            "2/2 [==============================] - 0s 10ms/step - loss: 10.1375 - mae: 10.1375\n",
            "Epoch 38/100\n",
            "2/2 [==============================] - 0s 14ms/step - loss: 11.3463 - mae: 11.3463\n",
            "Epoch 39/100\n",
            "2/2 [==============================] - 0s 9ms/step - loss: 14.7106 - mae: 14.7106\n",
            "Epoch 40/100\n",
            "2/2 [==============================] - 0s 28ms/step - loss: 12.8412 - mae: 12.8412\n",
            "Epoch 41/100\n",
            "2/2 [==============================] - 0s 12ms/step - loss: 9.2259 - mae: 9.2259\n",
            "Epoch 42/100\n",
            "2/2 [==============================] - 0s 12ms/step - loss: 11.0209 - mae: 11.0209\n",
            "Epoch 43/100\n",
            "2/2 [==============================] - 0s 7ms/step - loss: 8.3297 - mae: 8.3297\n",
            "Epoch 44/100\n",
            "2/2 [==============================] - 0s 10ms/step - loss: 13.0869 - mae: 13.0869\n",
            "Epoch 45/100\n",
            "2/2 [==============================] - 0s 13ms/step - loss: 13.6266 - mae: 13.6266\n",
            "Epoch 46/100\n",
            "2/2 [==============================] - 0s 15ms/step - loss: 8.2525 - mae: 8.2525\n",
            "Epoch 47/100\n",
            "2/2 [==============================] - 0s 7ms/step - loss: 8.7344 - mae: 8.7344\n",
            "Epoch 48/100\n",
            "2/2 [==============================] - 0s 7ms/step - loss: 10.0408 - mae: 10.0408\n",
            "Epoch 49/100\n",
            "2/2 [==============================] - 0s 12ms/step - loss: 8.5200 - mae: 8.5200\n",
            "Epoch 50/100\n",
            "2/2 [==============================] - 0s 17ms/step - loss: 9.0297 - mae: 9.0297\n",
            "Epoch 51/100\n",
            "2/2 [==============================] - 0s 13ms/step - loss: 9.3730 - mae: 9.3730\n",
            "Epoch 52/100\n",
            "2/2 [==============================] - 0s 14ms/step - loss: 14.0601 - mae: 14.0601\n",
            "Epoch 53/100\n",
            "2/2 [==============================] - 0s 13ms/step - loss: 15.3869 - mae: 15.3869\n",
            "Epoch 54/100\n",
            "2/2 [==============================] - 0s 13ms/step - loss: 10.8950 - mae: 10.8950\n",
            "Epoch 55/100\n",
            "2/2 [==============================] - 0s 12ms/step - loss: 15.4185 - mae: 15.4185\n",
            "Epoch 56/100\n",
            "2/2 [==============================] - 0s 10ms/step - loss: 9.1117 - mae: 9.1117\n",
            "Epoch 57/100\n",
            "2/2 [==============================] - 0s 11ms/step - loss: 9.6921 - mae: 9.6921\n",
            "Epoch 58/100\n",
            "2/2 [==============================] - 0s 11ms/step - loss: 8.9969 - mae: 8.9969\n",
            "Epoch 59/100\n",
            "2/2 [==============================] - 0s 15ms/step - loss: 10.2325 - mae: 10.2325\n",
            "Epoch 60/100\n",
            "2/2 [==============================] - 0s 18ms/step - loss: 8.1592 - mae: 8.1592\n",
            "Epoch 61/100\n",
            "2/2 [==============================] - 0s 16ms/step - loss: 10.0265 - mae: 10.0265\n",
            "Epoch 62/100\n",
            "2/2 [==============================] - 0s 12ms/step - loss: 7.0281 - mae: 7.0281\n",
            "Epoch 63/100\n",
            "2/2 [==============================] - 0s 12ms/step - loss: 12.6656 - mae: 12.6656\n",
            "Epoch 64/100\n",
            "2/2 [==============================] - 0s 13ms/step - loss: 12.6093 - mae: 12.6093\n",
            "Epoch 65/100\n",
            "2/2 [==============================] - 0s 17ms/step - loss: 9.4318 - mae: 9.4318\n",
            "Epoch 66/100\n",
            "2/2 [==============================] - 0s 24ms/step - loss: 11.4978 - mae: 11.4978\n",
            "Epoch 67/100\n",
            "2/2 [==============================] - 0s 10ms/step - loss: 8.0310 - mae: 8.0310\n",
            "Epoch 68/100\n",
            "2/2 [==============================] - 0s 7ms/step - loss: 8.5587 - mae: 8.5587\n",
            "Epoch 69/100\n",
            "2/2 [==============================] - 0s 7ms/step - loss: 12.2547 - mae: 12.2547\n",
            "Epoch 70/100\n",
            "2/2 [==============================] - 0s 14ms/step - loss: 8.9508 - mae: 8.9508\n",
            "Epoch 71/100\n",
            "2/2 [==============================] - 0s 11ms/step - loss: 9.9268 - mae: 9.9268\n",
            "Epoch 72/100\n",
            "2/2 [==============================] - 0s 11ms/step - loss: 9.9646 - mae: 9.9646\n",
            "Epoch 73/100\n",
            "2/2 [==============================] - 0s 8ms/step - loss: 12.4380 - mae: 12.4380\n",
            "Epoch 74/100\n",
            "2/2 [==============================] - 0s 15ms/step - loss: 10.5554 - mae: 10.5554\n",
            "Epoch 75/100\n",
            "2/2 [==============================] - 0s 24ms/step - loss: 9.6244 - mae: 9.6244\n",
            "Epoch 76/100\n",
            "2/2 [==============================] - 0s 34ms/step - loss: 11.0915 - mae: 11.0915\n",
            "Epoch 77/100\n",
            "2/2 [==============================] - 0s 28ms/step - loss: 8.2732 - mae: 8.2732\n",
            "Epoch 78/100\n",
            "2/2 [==============================] - 0s 38ms/step - loss: 8.9659 - mae: 8.9659\n",
            "Epoch 79/100\n",
            "2/2 [==============================] - 0s 21ms/step - loss: 19.7678 - mae: 19.7678\n",
            "Epoch 80/100\n",
            "2/2 [==============================] - 0s 15ms/step - loss: 17.8241 - mae: 17.8241\n",
            "Epoch 81/100\n",
            "2/2 [==============================] - 0s 28ms/step - loss: 7.0627 - mae: 7.0627\n",
            "Epoch 82/100\n",
            "2/2 [==============================] - 0s 16ms/step - loss: 10.4027 - mae: 10.4027\n",
            "Epoch 83/100\n",
            "2/2 [==============================] - 0s 10ms/step - loss: 9.8276 - mae: 9.8276\n",
            "Epoch 84/100\n",
            "2/2 [==============================] - 0s 10ms/step - loss: 7.9232 - mae: 7.9232\n",
            "Epoch 85/100\n",
            "2/2 [==============================] - 0s 17ms/step - loss: 9.4304 - mae: 9.4304\n",
            "Epoch 86/100\n",
            "2/2 [==============================] - 0s 24ms/step - loss: 9.4763 - mae: 9.4763\n",
            "Epoch 87/100\n",
            "2/2 [==============================] - 0s 21ms/step - loss: 11.4195 - mae: 11.4195\n",
            "Epoch 88/100\n",
            "2/2 [==============================] - 0s 12ms/step - loss: 9.9170 - mae: 9.9170\n",
            "Epoch 89/100\n",
            "2/2 [==============================] - 0s 19ms/step - loss: 7.2406 - mae: 7.2406\n",
            "Epoch 90/100\n",
            "2/2 [==============================] - 0s 44ms/step - loss: 12.6756 - mae: 12.6756\n",
            "Epoch 91/100\n",
            "2/2 [==============================] - 0s 35ms/step - loss: 7.2970 - mae: 7.2970\n",
            "Epoch 92/100\n",
            "2/2 [==============================] - 0s 32ms/step - loss: 7.6591 - mae: 7.6591\n",
            "Epoch 93/100\n",
            "2/2 [==============================] - 0s 12ms/step - loss: 7.1070 - mae: 7.1070\n",
            "Epoch 94/100\n",
            "2/2 [==============================] - 0s 14ms/step - loss: 12.5242 - mae: 12.5242\n",
            "Epoch 95/100\n",
            "2/2 [==============================] - 0s 12ms/step - loss: 9.8990 - mae: 9.8990\n",
            "Epoch 96/100\n",
            "2/2 [==============================] - 0s 11ms/step - loss: 9.1341 - mae: 9.1341\n",
            "Epoch 97/100\n",
            "2/2 [==============================] - 0s 13ms/step - loss: 12.0881 - mae: 12.0881\n",
            "Epoch 98/100\n",
            "2/2 [==============================] - 0s 10ms/step - loss: 9.0459 - mae: 9.0459\n",
            "Epoch 99/100\n",
            "2/2 [==============================] - 0s 14ms/step - loss: 8.4906 - mae: 8.4906\n",
            "Epoch 100/100\n",
            "2/2 [==============================] - 0s 16ms/step - loss: 14.4719 - mae: 14.4719\n"
          ]
        },
        {
          "output_type": "execute_result",
          "data": {
            "text/plain": [
              "<keras.callbacks.History at 0x7fbd02edfdf0>"
            ]
          },
          "metadata": {},
          "execution_count": 47
        }
      ]
    },
    {
      "cell_type": "code",
      "source": [
        "# Make and plot predictions for model_1\n",
        "y_preds_1 = model_1.predict(X_test)\n",
        "plot_predictions(predictions=y_preds_1)\n",
        "#Not too good model"
      ],
      "metadata": {
        "colab": {
          "base_uri": "https://localhost:8080/",
          "height": 654
        },
        "id": "aOUXEhr3Uwqc",
        "outputId": "13fc67d9-5566-48ca-f03f-727392bb4817"
      },
      "execution_count": 48,
      "outputs": [
        {
          "output_type": "stream",
          "name": "stderr",
          "text": [
            "WARNING:tensorflow:5 out of the last 5 calls to <function Model.make_predict_function.<locals>.predict_function at 0x7fbd02ed7820> triggered tf.function retracing. Tracing is expensive and the excessive number of tracings could be due to (1) creating @tf.function repeatedly in a loop, (2) passing tensors with different shapes, (3) passing Python objects instead of tensors. For (1), please define your @tf.function outside of the loop. For (2), @tf.function has reduce_retracing=True option that can avoid unnecessary retracing. For (3), please refer to https://www.tensorflow.org/guide/function#controlling_retracing and https://www.tensorflow.org/api_docs/python/tf/function for  more details.\n"
          ]
        },
        {
          "output_type": "stream",
          "name": "stdout",
          "text": [
            "1/1 [==============================] - 0s 48ms/step\n"
          ]
        },
        {
          "output_type": "display_data",
          "data": {
            "text/plain": [
              "<Figure size 1000x700 with 1 Axes>"
            ],
            "image/png": "[encoded data removed]"
          },
          "metadata": {}
        }
      ]
    },
    {
      "cell_type": "code",
      "source": [
        "#Calculate model_! evaluation metrics\n",
        "mae_1 = mae(y_test,y_preds_1)\n",
        "mse_1 = mse(y_test,y_preds_1)\n",
        "\n",
        "mae_1, mse_1"
      ],
      "metadata": {
        "colab": {
          "base_uri": "https://localhost:8080/"
        },
        "id": "S_Wjo2gqVLAF",
        "outputId": "fa3c40ab-51f0-42cd-875a-cd2d262dec28"
      },
      "execution_count": 49,
      "outputs": [
        {
          "output_type": "execute_result",
          "data": {
            "text/plain": [
              "(30.53165, 942.5355)"
            ]
          },
          "metadata": {},
          "execution_count": 49
        }
      ]
    },
    {
      "cell_type": "markdown",
      "source": [
        "### Model_2"
      ],
      "metadata": {
        "id": "FPWHJxgBV9tB"
      }
    },
    {
      "cell_type": "code",
      "source": [
        "\n",
        "model_2 = tf.keras.Sequential([\n",
        "    tf.keras.layers.Dense(10,input_shape=[1]),\n",
        "    tf.keras.layers.Dense(1)\n",
        "])\n",
        "\n",
        "model_2.compile(loss=tf.keras.losses.mae,\n",
        "            optimizer = tf.keras.optimizers.SGD(),\n",
        "            metrics=[\"mae\"])\n",
        "\n",
        "model_2.fit(tf.expand_dims(X_train,axis=1),y_train,epochs=100)"
      ],
      "metadata": {
        "colab": {
          "base_uri": "https://localhost:8080/"
        },
        "id": "aJ2Uzs5JWdhK",
        "outputId": "66088a43-f338-486f-c9f8-a01ff9dfb50b"
      },
      "execution_count": 50,
      "outputs": [
        {
          "output_type": "stream",
          "name": "stdout",
          "text": [
            "Epoch 1/100\n",
            "2/2 [==============================] - 0s 9ms/step - loss: 42.6318 - mae: 42.6318\n",
            "Epoch 2/100\n",
            "2/2 [==============================] - 0s 19ms/step - loss: 32.4933 - mae: 32.4933\n",
            "Epoch 3/100\n",
            "2/2 [==============================] - 0s 9ms/step - loss: 37.3744 - mae: 37.3744\n",
            "Epoch 4/100\n",
            "2/2 [==============================] - 0s 9ms/step - loss: 24.4773 - mae: 24.4773\n",
            "Epoch 5/100\n",
            "2/2 [==============================] - 0s 8ms/step - loss: 14.5449 - mae: 14.5449\n",
            "Epoch 6/100\n",
            "2/2 [==============================] - 0s 7ms/step - loss: 11.6153 - mae: 11.6153\n",
            "Epoch 7/100\n",
            "2/2 [==============================] - 0s 9ms/step - loss: 12.6831 - mae: 12.6831\n",
            "Epoch 8/100\n",
            "2/2 [==============================] - 0s 7ms/step - loss: 11.0597 - mae: 11.0597\n",
            "Epoch 9/100\n",
            "2/2 [==============================] - 0s 8ms/step - loss: 39.8898 - mae: 39.8898\n",
            "Epoch 10/100\n",
            "2/2 [==============================] - 0s 8ms/step - loss: 27.3582 - mae: 27.3582\n",
            "Epoch 11/100\n",
            "2/2 [==============================] - 0s 8ms/step - loss: 11.0286 - mae: 11.0286\n",
            "Epoch 12/100\n",
            "2/2 [==============================] - 0s 7ms/step - loss: 24.3807 - mae: 24.3807\n",
            "Epoch 13/100\n",
            "2/2 [==============================] - 0s 8ms/step - loss: 19.3923 - mae: 19.3923\n",
            "Epoch 14/100\n",
            "2/2 [==============================] - 0s 8ms/step - loss: 23.6628 - mae: 23.6628\n",
            "Epoch 15/100\n",
            "2/2 [==============================] - 0s 8ms/step - loss: 15.7448 - mae: 15.7448\n",
            "Epoch 16/100\n",
            "2/2 [==============================] - 0s 7ms/step - loss: 10.4298 - mae: 10.4298\n",
            "Epoch 17/100\n",
            "2/2 [==============================] - 0s 8ms/step - loss: 19.6641 - mae: 19.6641\n",
            "Epoch 18/100\n",
            "2/2 [==============================] - 0s 8ms/step - loss: 13.2986 - mae: 13.2986\n",
            "Epoch 19/100\n",
            "2/2 [==============================] - 0s 8ms/step - loss: 16.0761 - mae: 16.0761\n",
            "Epoch 20/100\n",
            "2/2 [==============================] - 0s 8ms/step - loss: 10.2093 - mae: 10.2093\n",
            "Epoch 21/100\n",
            "2/2 [==============================] - 0s 8ms/step - loss: 13.7608 - mae: 13.7608\n",
            "Epoch 22/100\n",
            "2/2 [==============================] - 0s 9ms/step - loss: 21.9968 - mae: 21.9968\n",
            "Epoch 23/100\n",
            "2/2 [==============================] - 0s 9ms/step - loss: 10.4484 - mae: 10.4484\n",
            "Epoch 24/100\n",
            "2/2 [==============================] - 0s 12ms/step - loss: 15.7337 - mae: 15.7337\n",
            "Epoch 25/100\n",
            "2/2 [==============================] - 0s 16ms/step - loss: 14.8904 - mae: 14.8904\n",
            "Epoch 26/100\n",
            "2/2 [==============================] - 0s 10ms/step - loss: 19.5034 - mae: 19.5034\n",
            "Epoch 27/100\n",
            "2/2 [==============================] - 0s 8ms/step - loss: 20.5743 - mae: 20.5743\n",
            "Epoch 28/100\n",
            "2/2 [==============================] - 0s 7ms/step - loss: 14.9389 - mae: 14.9389\n",
            "Epoch 29/100\n",
            "2/2 [==============================] - 0s 7ms/step - loss: 9.2661 - mae: 9.2661\n",
            "Epoch 30/100\n",
            "2/2 [==============================] - 0s 8ms/step - loss: 30.3225 - mae: 30.3225\n",
            "Epoch 31/100\n",
            "2/2 [==============================] - 0s 8ms/step - loss: 55.0950 - mae: 55.0950\n",
            "Epoch 32/100\n",
            "2/2 [==============================] - 0s 7ms/step - loss: 9.6966 - mae: 9.6966\n",
            "Epoch 33/100\n",
            "2/2 [==============================] - 0s 7ms/step - loss: 12.3062 - mae: 12.3062\n",
            "Epoch 34/100\n",
            "2/2 [==============================] - 0s 6ms/step - loss: 24.4519 - mae: 24.4519\n",
            "Epoch 35/100\n",
            "2/2 [==============================] - 0s 8ms/step - loss: 11.9619 - mae: 11.9619\n",
            "Epoch 36/100\n",
            "2/2 [==============================] - 0s 8ms/step - loss: 22.2025 - mae: 22.2025\n",
            "Epoch 37/100\n",
            "2/2 [==============================] - 0s 9ms/step - loss: 17.4021 - mae: 17.4021\n",
            "Epoch 38/100\n",
            "2/2 [==============================] - 0s 11ms/step - loss: 10.6812 - mae: 10.6812\n",
            "Epoch 39/100\n",
            "2/2 [==============================] - 0s 11ms/step - loss: 11.1970 - mae: 11.1970\n",
            "Epoch 40/100\n",
            "2/2 [==============================] - 0s 10ms/step - loss: 18.0175 - mae: 18.0175\n",
            "Epoch 41/100\n",
            "2/2 [==============================] - 0s 11ms/step - loss: 10.4194 - mae: 10.4194\n",
            "Epoch 42/100\n",
            "2/2 [==============================] - 0s 9ms/step - loss: 7.2722 - mae: 7.2722\n",
            "Epoch 43/100\n",
            "2/2 [==============================] - 0s 9ms/step - loss: 18.9751 - mae: 18.9751\n",
            "Epoch 44/100\n",
            "2/2 [==============================] - 0s 9ms/step - loss: 20.1359 - mae: 20.1359\n",
            "Epoch 45/100\n",
            "2/2 [==============================] - 0s 9ms/step - loss: 10.1337 - mae: 10.1337\n",
            "Epoch 46/100\n",
            "2/2 [==============================] - 0s 9ms/step - loss: 11.3997 - mae: 11.3997\n",
            "Epoch 47/100\n",
            "2/2 [==============================] - 0s 10ms/step - loss: 9.8149 - mae: 9.8149\n",
            "Epoch 48/100\n",
            "2/2 [==============================] - 0s 9ms/step - loss: 17.5970 - mae: 17.5970\n",
            "Epoch 49/100\n",
            "2/2 [==============================] - 0s 9ms/step - loss: 9.3447 - mae: 9.3447\n",
            "Epoch 50/100\n",
            "2/2 [==============================] - 0s 10ms/step - loss: 13.4001 - mae: 13.4001\n",
            "Epoch 51/100\n",
            "2/2 [==============================] - 0s 9ms/step - loss: 11.4443 - mae: 11.4443\n",
            "Epoch 52/100\n",
            "2/2 [==============================] - 0s 13ms/step - loss: 29.4510 - mae: 29.4510\n",
            "Epoch 53/100\n",
            "2/2 [==============================] - 0s 11ms/step - loss: 16.7800 - mae: 16.7800\n",
            "Epoch 54/100\n",
            "2/2 [==============================] - 0s 9ms/step - loss: 21.7663 - mae: 21.7663\n",
            "Epoch 55/100\n",
            "2/2 [==============================] - 0s 9ms/step - loss: 22.2183 - mae: 22.2183\n",
            "Epoch 56/100\n",
            "2/2 [==============================] - 0s 9ms/step - loss: 11.2598 - mae: 11.2598\n",
            "Epoch 57/100\n",
            "2/2 [==============================] - 0s 9ms/step - loss: 13.2440 - mae: 13.2440\n",
            "Epoch 58/100\n",
            "2/2 [==============================] - 0s 9ms/step - loss: 9.8865 - mae: 9.8865\n",
            "Epoch 59/100\n",
            "2/2 [==============================] - 0s 9ms/step - loss: 13.4368 - mae: 13.4368\n",
            "Epoch 60/100\n",
            "2/2 [==============================] - 0s 8ms/step - loss: 10.9537 - mae: 10.9537\n",
            "Epoch 61/100\n",
            "2/2 [==============================] - 0s 10ms/step - loss: 13.5821 - mae: 13.5821\n",
            "Epoch 62/100\n",
            "2/2 [==============================] - 0s 9ms/step - loss: 17.9161 - mae: 17.9161\n",
            "Epoch 63/100\n",
            "2/2 [==============================] - 0s 9ms/step - loss: 8.7498 - mae: 8.7498\n",
            "Epoch 64/100\n",
            "2/2 [==============================] - 0s 8ms/step - loss: 16.1683 - mae: 16.1683\n",
            "Epoch 65/100\n",
            "2/2 [==============================] - 0s 8ms/step - loss: 10.7605 - mae: 10.7605\n",
            "Epoch 66/100\n",
            "2/2 [==============================] - 0s 9ms/step - loss: 22.2273 - mae: 22.2273\n",
            "Epoch 67/100\n",
            "2/2 [==============================] - 0s 8ms/step - loss: 10.2842 - mae: 10.2842\n",
            "Epoch 68/100\n",
            "2/2 [==============================] - 0s 8ms/step - loss: 13.4950 - mae: 13.4950\n",
            "Epoch 69/100\n",
            "2/2 [==============================] - 0s 8ms/step - loss: 11.4520 - mae: 11.4520\n",
            "Epoch 70/100\n",
            "2/2 [==============================] - 0s 9ms/step - loss: 13.6390 - mae: 13.6390\n",
            "Epoch 71/100\n",
            "2/2 [==============================] - 0s 8ms/step - loss: 15.6550 - mae: 15.6550\n",
            "Epoch 72/100\n",
            "2/2 [==============================] - 0s 8ms/step - loss: 11.8703 - mae: 11.8703\n",
            "Epoch 73/100\n",
            "2/2 [==============================] - 0s 8ms/step - loss: 16.6528 - mae: 16.6528\n",
            "Epoch 74/100\n",
            "2/2 [==============================] - 0s 8ms/step - loss: 24.1892 - mae: 24.1892\n",
            "Epoch 75/100\n",
            "2/2 [==============================] - 0s 9ms/step - loss: 9.6472 - mae: 9.6472\n",
            "Epoch 76/100\n",
            "2/2 [==============================] - 0s 12ms/step - loss: 12.5012 - mae: 12.5012\n",
            "Epoch 77/100\n",
            "2/2 [==============================] - 0s 13ms/step - loss: 16.7480 - mae: 16.7480\n",
            "Epoch 78/100\n",
            "2/2 [==============================] - 0s 14ms/step - loss: 9.0941 - mae: 9.0941\n",
            "Epoch 79/100\n",
            "2/2 [==============================] - 0s 10ms/step - loss: 24.0739 - mae: 24.0739\n",
            "Epoch 80/100\n",
            "2/2 [==============================] - 0s 11ms/step - loss: 26.8761 - mae: 26.8761\n",
            "Epoch 81/100\n",
            "2/2 [==============================] - 0s 11ms/step - loss: 11.7502 - mae: 11.7502\n",
            "Epoch 82/100\n",
            "2/2 [==============================] - 0s 11ms/step - loss: 11.9970 - mae: 11.9970\n",
            "Epoch 83/100\n",
            "2/2 [==============================] - 0s 9ms/step - loss: 17.3868 - mae: 17.3868\n",
            "Epoch 84/100\n",
            "2/2 [==============================] - 0s 10ms/step - loss: 7.2751 - mae: 7.2751\n",
            "Epoch 85/100\n",
            "2/2 [==============================] - 0s 9ms/step - loss: 14.9444 - mae: 14.9444\n",
            "Epoch 86/100\n",
            "2/2 [==============================] - 0s 10ms/step - loss: 15.2721 - mae: 15.2721\n",
            "Epoch 87/100\n",
            "2/2 [==============================] - 0s 7ms/step - loss: 19.0710 - mae: 19.0710\n",
            "Epoch 88/100\n",
            "2/2 [==============================] - 0s 7ms/step - loss: 29.9285 - mae: 29.9285\n",
            "Epoch 89/100\n",
            "2/2 [==============================] - 0s 7ms/step - loss: 10.2094 - mae: 10.2094\n",
            "Epoch 90/100\n",
            "2/2 [==============================] - 0s 7ms/step - loss: 21.6042 - mae: 21.6042\n",
            "Epoch 91/100\n",
            "2/2 [==============================] - 0s 7ms/step - loss: 10.6090 - mae: 10.6090\n",
            "Epoch 92/100\n",
            "2/2 [==============================] - 0s 7ms/step - loss: 18.4663 - mae: 18.4663\n",
            "Epoch 93/100\n",
            "2/2 [==============================] - 0s 11ms/step - loss: 7.4365 - mae: 7.4365\n",
            "Epoch 94/100\n",
            "2/2 [==============================] - 0s 9ms/step - loss: 17.7946 - mae: 17.7946\n",
            "Epoch 95/100\n",
            "2/2 [==============================] - 0s 9ms/step - loss: 11.1512 - mae: 11.1512\n",
            "Epoch 96/100\n",
            "2/2 [==============================] - 0s 10ms/step - loss: 19.4905 - mae: 19.4905\n",
            "Epoch 97/100\n",
            "2/2 [==============================] - 0s 7ms/step - loss: 12.5251 - mae: 12.5251\n",
            "Epoch 98/100\n",
            "2/2 [==============================] - 0s 8ms/step - loss: 10.3159 - mae: 10.3159\n",
            "Epoch 99/100\n",
            "2/2 [==============================] - 0s 13ms/step - loss: 13.8486 - mae: 13.8486\n",
            "Epoch 100/100\n",
            "2/2 [==============================] - 0s 9ms/step - loss: 20.1457 - mae: 20.1457\n"
          ]
        },
        {
          "output_type": "execute_result",
          "data": {
            "text/plain": [
              "<keras.callbacks.History at 0x7fbd150d05b0>"
            ]
          },
          "metadata": {},
          "execution_count": 50
        }
      ]
    },
    {
      "cell_type": "code",
      "source": [
        "y_preds_2 = model_2.predict(X_test)\n",
        "plot_predictions(predictions=y_preds_2)"
      ],
      "metadata": {
        "colab": {
          "base_uri": "https://localhost:8080/",
          "height": 654
        },
        "id": "SJAeB9QmXDfT",
        "outputId": "0287adcf-0820-41a8-a855-991c1b66ee68"
      },
      "execution_count": 51,
      "outputs": [
        {
          "output_type": "stream",
          "name": "stderr",
          "text": [
            "WARNING:tensorflow:6 out of the last 6 calls to <function Model.make_predict_function.<locals>.predict_function at 0x7fbd14fb3d30> triggered tf.function retracing. Tracing is expensive and the excessive number of tracings could be due to (1) creating @tf.function repeatedly in a loop, (2) passing tensors with different shapes, (3) passing Python objects instead of tensors. For (1), please define your @tf.function outside of the loop. For (2), @tf.function has reduce_retracing=True option that can avoid unnecessary retracing. For (3), please refer to https://www.tensorflow.org/guide/function#controlling_retracing and https://www.tensorflow.org/api_docs/python/tf/function for  more details.\n"
          ]
        },
        {
          "output_type": "stream",
          "name": "stdout",
          "text": [
            "1/1 [==============================] - 0s 125ms/step\n"
          ]
        },
        {
          "output_type": "display_data",
          "data": {
            "text/plain": [
              "<Figure size 1000x700 with 1 Axes>"
            ],
            "image/png": "[encoded data removed]"
          },
          "metadata": {}
        }
      ]
    },
    {
      "cell_type": "code",
      "source": [
        "# Calculate model_2 evaluation metrics\n",
        "\n",
        "mae_2 = mae(y_test,y_preds_2)\n",
        "mse_2 = mse(y_test,y_preds_2)\n",
        "mae_2,mse_2"
      ],
      "metadata": {
        "id": "FzE-P-6GXQGD",
        "colab": {
          "base_uri": "https://localhost:8080/"
        },
        "outputId": "b35a0ac9-900f-449e-95f2-d30bf41d3cdd"
      },
      "execution_count": 52,
      "outputs": [
        {
          "output_type": "execute_result",
          "data": {
            "text/plain": [
              "(2.9296317, 11.31662)"
            ]
          },
          "metadata": {},
          "execution_count": 52
        }
      ]
    },
    {
      "cell_type": "markdown",
      "source": [
        "## Build Model 3"
      ],
      "metadata": {
        "id": "Ts_VRdzir8Pu"
      }
    },
    {
      "cell_type": "code",
      "source": [
        "tf.random.set_seed(42)\n",
        "model_3 = tf.keras.Sequential([\n",
        "    tf.keras.layers.Dense(10),\n",
        "    tf.keras.layers.Dense(1),\n",
        "])\n",
        "\n",
        "model_3.compile(loss=tf.keras.losses.mae,\n",
        "                optimizer = tf.keras.optimizers.SGD(),\n",
        "                metrics=[\"mae\"])\n",
        "\n",
        "model_3.fit(tf.expand_dims(X_train, axis=1),y_train,epochs=500)"
      ],
      "metadata": {
        "colab": {
          "base_uri": "https://localhost:8080/"
        },
        "id": "oExVmcKHsCGx",
        "outputId": "bbe11e41-4563-4bed-b9d1-47cb42f7ec45"
      },
      "execution_count": 58,
      "outputs": [
        {
          "output_type": "stream",
          "name": "stdout",
          "text": [
            "Epoch 1/500\n",
            "2/2 [==============================] - 1s 17ms/step - loss: 44.6013 - mae: 44.6013\n",
            "Epoch 2/500\n",
            "2/2 [==============================] - 0s 11ms/step - loss: 29.9773 - mae: 29.9773\n",
            "Epoch 3/500\n",
            "2/2 [==============================] - 0s 12ms/step - loss: 34.7200 - mae: 34.7200\n",
            "Epoch 4/500\n",
            "2/2 [==============================] - 0s 13ms/step - loss: 28.9212 - mae: 28.9212\n",
            "Epoch 5/500\n",
            "2/2 [==============================] - 0s 10ms/step - loss: 15.6731 - mae: 15.6731\n",
            "Epoch 6/500\n",
            "2/2 [==============================] - 0s 9ms/step - loss: 12.4258 - mae: 12.4258\n",
            "Epoch 7/500\n",
            "2/2 [==============================] - 0s 12ms/step - loss: 11.6966 - mae: 11.6966\n",
            "Epoch 8/500\n",
            "2/2 [==============================] - 0s 9ms/step - loss: 12.0792 - mae: 12.0792\n",
            "Epoch 9/500\n",
            "2/2 [==============================] - 0s 9ms/step - loss: 37.8579 - mae: 37.8579\n",
            "Epoch 10/500\n",
            "2/2 [==============================] - 0s 10ms/step - loss: 25.4695 - mae: 25.4695\n",
            "Epoch 11/500\n",
            "2/2 [==============================] - 0s 11ms/step - loss: 10.2474 - mae: 10.2474\n",
            "Epoch 12/500\n",
            "2/2 [==============================] - 0s 13ms/step - loss: 25.3354 - mae: 25.3354\n",
            "Epoch 13/500\n",
            "2/2 [==============================] - 0s 13ms/step - loss: 16.9637 - mae: 16.9637\n",
            "Epoch 14/500\n",
            "2/2 [==============================] - 0s 10ms/step - loss: 25.8805 - mae: 25.8805\n",
            "Epoch 15/500\n",
            "2/2 [==============================] - 0s 9ms/step - loss: 17.9606 - mae: 17.9606\n",
            "Epoch 16/500\n",
            "2/2 [==============================] - 0s 10ms/step - loss: 7.3440 - mae: 7.3440\n",
            "Epoch 17/500\n",
            "2/2 [==============================] - 0s 10ms/step - loss: 10.8703 - mae: 10.8703\n",
            "Epoch 18/500\n",
            "2/2 [==============================] - 0s 10ms/step - loss: 19.5400 - mae: 19.5400\n",
            "Epoch 19/500\n",
            "2/2 [==============================] - 0s 9ms/step - loss: 10.3471 - mae: 10.3471\n",
            "Epoch 20/500\n",
            "2/2 [==============================] - 0s 7ms/step - loss: 17.7046 - mae: 17.7046\n",
            "Epoch 21/500\n",
            "2/2 [==============================] - 0s 9ms/step - loss: 15.9041 - mae: 15.9041\n",
            "Epoch 22/500\n",
            "2/2 [==============================] - 0s 9ms/step - loss: 14.2072 - mae: 14.2072\n",
            "Epoch 23/500\n",
            "2/2 [==============================] - 0s 9ms/step - loss: 8.7619 - mae: 8.7619\n",
            "Epoch 24/500\n",
            "2/2 [==============================] - 0s 9ms/step - loss: 11.0467 - mae: 11.0467\n",
            "Epoch 25/500\n",
            "2/2 [==============================] - 0s 12ms/step - loss: 12.6740 - mae: 12.6740\n",
            "Epoch 26/500\n",
            "2/2 [==============================] - 0s 7ms/step - loss: 26.1698 - mae: 26.1698\n",
            "Epoch 27/500\n",
            "2/2 [==============================] - 0s 7ms/step - loss: 11.7350 - mae: 11.7350\n",
            "Epoch 28/500\n",
            "2/2 [==============================] - 0s 7ms/step - loss: 30.7724 - mae: 30.7724\n",
            "Epoch 29/500\n",
            "2/2 [==============================] - 0s 7ms/step - loss: 9.2777 - mae: 9.2777\n",
            "Epoch 30/500\n",
            "2/2 [==============================] - 0s 7ms/step - loss: 31.1735 - mae: 31.1735\n",
            "Epoch 31/500\n",
            "2/2 [==============================] - 0s 6ms/step - loss: 29.6316 - mae: 29.6316\n",
            "Epoch 32/500\n",
            "2/2 [==============================] - 0s 7ms/step - loss: 10.4473 - mae: 10.4473\n",
            "Epoch 33/500\n",
            "2/2 [==============================] - 0s 7ms/step - loss: 15.4935 - mae: 15.4935\n",
            "Epoch 34/500\n",
            "2/2 [==============================] - 0s 7ms/step - loss: 12.5911 - mae: 12.5911\n",
            "Epoch 35/500\n",
            "2/2 [==============================] - 0s 7ms/step - loss: 9.1915 - mae: 9.1915\n",
            "Epoch 36/500\n",
            "2/2 [==============================] - 0s 7ms/step - loss: 16.4781 - mae: 16.4781\n",
            "Epoch 37/500\n",
            "2/2 [==============================] - 0s 7ms/step - loss: 11.0804 - mae: 11.0804\n",
            "Epoch 38/500\n",
            "2/2 [==============================] - 0s 7ms/step - loss: 18.2101 - mae: 18.2101\n",
            "Epoch 39/500\n",
            "2/2 [==============================] - 0s 8ms/step - loss: 19.1420 - mae: 19.1420\n",
            "Epoch 40/500\n",
            "2/2 [==============================] - 0s 7ms/step - loss: 20.5078 - mae: 20.5078\n",
            "Epoch 41/500\n",
            "2/2 [==============================] - 0s 7ms/step - loss: 14.8072 - mae: 14.8072\n",
            "Epoch 42/500\n",
            "2/2 [==============================] - 0s 11ms/step - loss: 12.2028 - mae: 12.2028\n",
            "Epoch 43/500\n",
            "2/2 [==============================] - 0s 8ms/step - loss: 10.6915 - mae: 10.6915\n",
            "Epoch 44/500\n",
            "2/2 [==============================] - 0s 7ms/step - loss: 32.3008 - mae: 32.3008\n",
            "Epoch 45/500\n",
            "2/2 [==============================] - 0s 9ms/step - loss: 12.4710 - mae: 12.4710\n",
            "Epoch 46/500\n",
            "2/2 [==============================] - 0s 6ms/step - loss: 17.5420 - mae: 17.5420\n",
            "Epoch 47/500\n",
            "2/2 [==============================] - 0s 9ms/step - loss: 15.7428 - mae: 15.7428\n",
            "Epoch 48/500\n",
            "2/2 [==============================] - 0s 7ms/step - loss: 8.3648 - mae: 8.3648\n",
            "Epoch 49/500\n",
            "2/2 [==============================] - 0s 9ms/step - loss: 13.9717 - mae: 13.9717\n",
            "Epoch 50/500\n",
            "2/2 [==============================] - 0s 7ms/step - loss: 12.8160 - mae: 12.8160\n",
            "Epoch 51/500\n",
            "2/2 [==============================] - 0s 7ms/step - loss: 14.8276 - mae: 14.8276\n",
            "Epoch 52/500\n",
            "2/2 [==============================] - 0s 7ms/step - loss: 18.7141 - mae: 18.7141\n",
            "Epoch 53/500\n",
            "2/2 [==============================] - 0s 8ms/step - loss: 24.1564 - mae: 24.1564\n",
            "Epoch 54/500\n",
            "2/2 [==============================] - 0s 7ms/step - loss: 23.2064 - mae: 23.2064\n",
            "Epoch 55/500\n",
            "2/2 [==============================] - 0s 7ms/step - loss: 24.0624 - mae: 24.0624\n",
            "Epoch 56/500\n",
            "2/2 [==============================] - 0s 7ms/step - loss: 11.1647 - mae: 11.1647\n",
            "Epoch 57/500\n",
            "2/2 [==============================] - 0s 6ms/step - loss: 13.1239 - mae: 13.1239\n",
            "Epoch 58/500\n",
            "2/2 [==============================] - 0s 7ms/step - loss: 9.8132 - mae: 9.8132\n",
            "Epoch 59/500\n",
            "2/2 [==============================] - 0s 7ms/step - loss: 13.3155 - mae: 13.3155\n",
            "Epoch 60/500\n",
            "2/2 [==============================] - 0s 7ms/step - loss: 10.8736 - mae: 10.8736\n",
            "Epoch 61/500\n",
            "2/2 [==============================] - 0s 7ms/step - loss: 13.4809 - mae: 13.4809\n",
            "Epoch 62/500\n",
            "2/2 [==============================] - 0s 7ms/step - loss: 17.5257 - mae: 17.5257\n",
            "Epoch 63/500\n",
            "2/2 [==============================] - 0s 7ms/step - loss: 9.1603 - mae: 9.1603\n",
            "Epoch 64/500\n",
            "2/2 [==============================] - 0s 7ms/step - loss: 18.3981 - mae: 18.3981\n",
            "Epoch 65/500\n",
            "2/2 [==============================] - 0s 7ms/step - loss: 10.1162 - mae: 10.1162\n",
            "Epoch 66/500\n",
            "2/2 [==============================] - 0s 7ms/step - loss: 24.2696 - mae: 24.2696\n",
            "Epoch 67/500\n",
            "2/2 [==============================] - 0s 6ms/step - loss: 10.8883 - mae: 10.8883\n",
            "Epoch 68/500\n",
            "2/2 [==============================] - 0s 7ms/step - loss: 10.7693 - mae: 10.7693\n",
            "Epoch 69/500\n",
            "2/2 [==============================] - 0s 7ms/step - loss: 23.2628 - mae: 23.2628\n",
            "Epoch 70/500\n",
            "2/2 [==============================] - 0s 7ms/step - loss: 8.8098 - mae: 8.8098\n",
            "Epoch 71/500\n",
            "2/2 [==============================] - 0s 7ms/step - loss: 15.9737 - mae: 15.9737\n",
            "Epoch 72/500\n",
            "2/2 [==============================] - 0s 13ms/step - loss: 8.1346 - mae: 8.1346\n",
            "Epoch 73/500\n",
            "2/2 [==============================] - 0s 7ms/step - loss: 9.4618 - mae: 9.4618\n",
            "Epoch 74/500\n",
            "2/2 [==============================] - 0s 6ms/step - loss: 28.1518 - mae: 28.1518\n",
            "Epoch 75/500\n",
            "2/2 [==============================] - 0s 8ms/step - loss: 10.1969 - mae: 10.1969\n",
            "Epoch 76/500\n",
            "2/2 [==============================] - 0s 7ms/step - loss: 13.1480 - mae: 13.1480\n",
            "Epoch 77/500\n",
            "2/2 [==============================] - 0s 7ms/step - loss: 18.4013 - mae: 18.4013\n",
            "Epoch 78/500\n",
            "2/2 [==============================] - 0s 7ms/step - loss: 9.0123 - mae: 9.0123\n",
            "Epoch 79/500\n",
            "2/2 [==============================] - 0s 7ms/step - loss: 23.4551 - mae: 23.4551\n",
            "Epoch 80/500\n",
            "2/2 [==============================] - 0s 7ms/step - loss: 26.1288 - mae: 26.1288\n",
            "Epoch 81/500\n",
            "2/2 [==============================] - 0s 7ms/step - loss: 11.3924 - mae: 11.3924\n",
            "Epoch 82/500\n",
            "2/2 [==============================] - 0s 7ms/step - loss: 12.4879 - mae: 12.4879\n",
            "Epoch 83/500\n",
            "2/2 [==============================] - 0s 7ms/step - loss: 17.1723 - mae: 17.1723\n",
            "Epoch 84/500\n",
            "2/2 [==============================] - 0s 7ms/step - loss: 6.5862 - mae: 6.5862\n",
            "Epoch 85/500\n",
            "2/2 [==============================] - 0s 6ms/step - loss: 20.3128 - mae: 20.3128\n",
            "Epoch 86/500\n",
            "2/2 [==============================] - 0s 8ms/step - loss: 10.1662 - mae: 10.1662\n",
            "Epoch 87/500\n",
            "2/2 [==============================] - 0s 8ms/step - loss: 24.3597 - mae: 24.3597\n",
            "Epoch 88/500\n",
            "2/2 [==============================] - 0s 7ms/step - loss: 19.0238 - mae: 19.0238\n",
            "Epoch 89/500\n",
            "2/2 [==============================] - 0s 7ms/step - loss: 7.1590 - mae: 7.1590\n",
            "Epoch 90/500\n",
            "2/2 [==============================] - 0s 7ms/step - loss: 18.2488 - mae: 18.2488\n",
            "Epoch 91/500\n",
            "2/2 [==============================] - 0s 8ms/step - loss: 13.2982 - mae: 13.2982\n",
            "Epoch 92/500\n",
            "2/2 [==============================] - 0s 8ms/step - loss: 14.8453 - mae: 14.8453\n",
            "Epoch 93/500\n",
            "2/2 [==============================] - 0s 8ms/step - loss: 11.6398 - mae: 11.6398\n",
            "Epoch 94/500\n",
            "2/2 [==============================] - 0s 8ms/step - loss: 16.1964 - mae: 16.1964\n",
            "Epoch 95/500\n",
            "2/2 [==============================] - 0s 7ms/step - loss: 15.5386 - mae: 15.5386\n",
            "Epoch 96/500\n",
            "2/2 [==============================] - 0s 8ms/step - loss: 15.0719 - mae: 15.0719\n",
            "Epoch 97/500\n",
            "2/2 [==============================] - 0s 8ms/step - loss: 10.9011 - mae: 10.9011\n",
            "Epoch 98/500\n",
            "2/2 [==============================] - 0s 8ms/step - loss: 14.3613 - mae: 14.3613\n",
            "Epoch 99/500\n",
            "2/2 [==============================] - 0s 7ms/step - loss: 13.3795 - mae: 13.3795\n",
            "Epoch 100/500\n",
            "2/2 [==============================] - 0s 6ms/step - loss: 19.9980 - mae: 19.9980\n",
            "Epoch 101/500\n",
            "2/2 [==============================] - 0s 7ms/step - loss: 22.5160 - mae: 22.5160\n",
            "Epoch 102/500\n",
            "2/2 [==============================] - 0s 7ms/step - loss: 11.2727 - mae: 11.2727\n",
            "Epoch 103/500\n",
            "2/2 [==============================] - 0s 7ms/step - loss: 9.3562 - mae: 9.3562\n",
            "Epoch 104/500\n",
            "2/2 [==============================] - 0s 7ms/step - loss: 25.1452 - mae: 25.1452\n",
            "Epoch 105/500\n",
            "2/2 [==============================] - 0s 9ms/step - loss: 12.4081 - mae: 12.4081\n",
            "Epoch 106/500\n",
            "2/2 [==============================] - 0s 7ms/step - loss: 9.3923 - mae: 9.3923\n",
            "Epoch 107/500\n",
            "2/2 [==============================] - 0s 8ms/step - loss: 23.1589 - mae: 23.1589\n",
            "Epoch 108/500\n",
            "2/2 [==============================] - 0s 9ms/step - loss: 8.2678 - mae: 8.2678\n",
            "Epoch 109/500\n",
            "2/2 [==============================] - 0s 7ms/step - loss: 13.9998 - mae: 13.9998\n",
            "Epoch 110/500\n",
            "2/2 [==============================] - 0s 7ms/step - loss: 10.6389 - mae: 10.6389\n",
            "Epoch 111/500\n",
            "2/2 [==============================] - 0s 7ms/step - loss: 16.9627 - mae: 16.9627\n",
            "Epoch 112/500\n",
            "2/2 [==============================] - 0s 7ms/step - loss: 8.2626 - mae: 8.2626\n",
            "Epoch 113/500\n",
            "2/2 [==============================] - 0s 7ms/step - loss: 19.6411 - mae: 19.6411\n",
            "Epoch 114/500\n",
            "2/2 [==============================] - 0s 7ms/step - loss: 17.3509 - mae: 17.3509\n",
            "Epoch 115/500\n",
            "2/2 [==============================] - 0s 7ms/step - loss: 11.2162 - mae: 11.2162\n",
            "Epoch 116/500\n",
            "2/2 [==============================] - 0s 7ms/step - loss: 23.5051 - mae: 23.5051\n",
            "Epoch 117/500\n",
            "2/2 [==============================] - 0s 7ms/step - loss: 9.7124 - mae: 9.7124\n",
            "Epoch 118/500\n",
            "2/2 [==============================] - 0s 7ms/step - loss: 10.7893 - mae: 10.7893\n",
            "Epoch 119/500\n",
            "2/2 [==============================] - 0s 7ms/step - loss: 8.0877 - mae: 8.0877\n",
            "Epoch 120/500\n",
            "2/2 [==============================] - 0s 7ms/step - loss: 29.8339 - mae: 29.8339\n",
            "Epoch 121/500\n",
            "2/2 [==============================] - 0s 7ms/step - loss: 8.1181 - mae: 8.1181\n",
            "Epoch 122/500\n",
            "2/2 [==============================] - 0s 8ms/step - loss: 28.4093 - mae: 28.4093\n",
            "Epoch 123/500\n",
            "2/2 [==============================] - 0s 7ms/step - loss: 33.0225 - mae: 33.0225\n",
            "Epoch 124/500\n",
            "2/2 [==============================] - 0s 7ms/step - loss: 19.7311 - mae: 19.7311\n",
            "Epoch 125/500\n",
            "2/2 [==============================] - 0s 7ms/step - loss: 7.0502 - mae: 7.0502\n",
            "Epoch 126/500\n",
            "2/2 [==============================] - 0s 7ms/step - loss: 21.8852 - mae: 21.8852\n",
            "Epoch 127/500\n",
            "2/2 [==============================] - 0s 10ms/step - loss: 8.0287 - mae: 8.0287\n",
            "Epoch 128/500\n",
            "2/2 [==============================] - 0s 7ms/step - loss: 21.1161 - mae: 21.1161\n",
            "Epoch 129/500\n",
            "2/2 [==============================] - 0s 7ms/step - loss: 9.0600 - mae: 9.0600\n",
            "Epoch 130/500\n",
            "2/2 [==============================] - 0s 7ms/step - loss: 24.0907 - mae: 24.0907\n",
            "Epoch 131/500\n",
            "2/2 [==============================] - 0s 7ms/step - loss: 9.8028 - mae: 9.8028\n",
            "Epoch 132/500\n",
            "2/2 [==============================] - 0s 7ms/step - loss: 18.3306 - mae: 18.3306\n",
            "Epoch 133/500\n",
            "2/2 [==============================] - 0s 7ms/step - loss: 7.6213 - mae: 7.6213\n",
            "Epoch 134/500\n",
            "2/2 [==============================] - 0s 6ms/step - loss: 18.5882 - mae: 18.5882\n",
            "Epoch 135/500\n",
            "2/2 [==============================] - 0s 7ms/step - loss: 10.5726 - mae: 10.5726\n",
            "Epoch 136/500\n",
            "2/2 [==============================] - 0s 7ms/step - loss: 18.2653 - mae: 18.2653\n",
            "Epoch 137/500\n",
            "2/2 [==============================] - 0s 7ms/step - loss: 23.1482 - mae: 23.1482\n",
            "Epoch 138/500\n",
            "2/2 [==============================] - 0s 7ms/step - loss: 9.1559 - mae: 9.1559\n",
            "Epoch 139/500\n",
            "2/2 [==============================] - 0s 7ms/step - loss: 8.9388 - mae: 8.9388\n",
            "Epoch 140/500\n",
            "2/2 [==============================] - 0s 7ms/step - loss: 16.4335 - mae: 16.4335\n",
            "Epoch 141/500\n",
            "2/2 [==============================] - 0s 8ms/step - loss: 8.4565 - mae: 8.4565\n",
            "Epoch 142/500\n",
            "2/2 [==============================] - 0s 8ms/step - loss: 36.8016 - mae: 36.8016\n",
            "Epoch 143/500\n",
            "2/2 [==============================] - 0s 7ms/step - loss: 25.4832 - mae: 25.4832\n",
            "Epoch 144/500\n",
            "2/2 [==============================] - 0s 7ms/step - loss: 9.5737 - mae: 9.5737\n",
            "Epoch 145/500\n",
            "2/2 [==============================] - 0s 7ms/step - loss: 26.6511 - mae: 26.6511\n",
            "Epoch 146/500\n",
            "2/2 [==============================] - 0s 7ms/step - loss: 8.7025 - mae: 8.7025\n",
            "Epoch 147/500\n",
            "2/2 [==============================] - 0s 8ms/step - loss: 15.6805 - mae: 15.6805\n",
            "Epoch 148/500\n",
            "2/2 [==============================] - 0s 7ms/step - loss: 18.3826 - mae: 18.3826\n",
            "Epoch 149/500\n",
            "2/2 [==============================] - 0s 7ms/step - loss: 8.1755 - mae: 8.1755\n",
            "Epoch 150/500\n",
            "2/2 [==============================] - 0s 7ms/step - loss: 7.5096 - mae: 7.5096\n",
            "Epoch 151/500\n",
            "2/2 [==============================] - 0s 7ms/step - loss: 18.1767 - mae: 18.1767\n",
            "Epoch 152/500\n",
            "2/2 [==============================] - 0s 7ms/step - loss: 10.2805 - mae: 10.2805\n",
            "Epoch 153/500\n",
            "2/2 [==============================] - 0s 9ms/step - loss: 29.3608 - mae: 29.3608\n",
            "Epoch 154/500\n",
            "2/2 [==============================] - 0s 7ms/step - loss: 10.6311 - mae: 10.6311\n",
            "Epoch 155/500\n",
            "2/2 [==============================] - 0s 7ms/step - loss: 15.5219 - mae: 15.5219\n",
            "Epoch 156/500\n",
            "2/2 [==============================] - 0s 7ms/step - loss: 17.1563 - mae: 17.1563\n",
            "Epoch 157/500\n",
            "2/2 [==============================] - 0s 7ms/step - loss: 32.4686 - mae: 32.4686\n",
            "Epoch 158/500\n",
            "2/2 [==============================] - 0s 7ms/step - loss: 10.6372 - mae: 10.6372\n",
            "Epoch 159/500\n",
            "2/2 [==============================] - 0s 7ms/step - loss: 8.8897 - mae: 8.8897\n",
            "Epoch 160/500\n",
            "2/2 [==============================] - 0s 8ms/step - loss: 21.8585 - mae: 21.8585\n",
            "Epoch 161/500\n",
            "2/2 [==============================] - 0s 8ms/step - loss: 11.1021 - mae: 11.1021\n",
            "Epoch 162/500\n",
            "2/2 [==============================] - 0s 7ms/step - loss: 21.3850 - mae: 21.3850\n",
            "Epoch 163/500\n",
            "2/2 [==============================] - 0s 8ms/step - loss: 18.8678 - mae: 18.8678\n",
            "Epoch 164/500\n",
            "2/2 [==============================] - 0s 7ms/step - loss: 12.7089 - mae: 12.7089\n",
            "Epoch 165/500\n",
            "2/2 [==============================] - 0s 8ms/step - loss: 12.7345 - mae: 12.7345\n",
            "Epoch 166/500\n",
            "2/2 [==============================] - 0s 7ms/step - loss: 18.9127 - mae: 18.9127\n",
            "Epoch 167/500\n",
            "2/2 [==============================] - 0s 8ms/step - loss: 26.8034 - mae: 26.8034\n",
            "Epoch 168/500\n",
            "2/2 [==============================] - 0s 8ms/step - loss: 9.9942 - mae: 9.9942\n",
            "Epoch 169/500\n",
            "2/2 [==============================] - 0s 10ms/step - loss: 23.0462 - mae: 23.0462\n",
            "Epoch 170/500\n",
            "2/2 [==============================] - 0s 10ms/step - loss: 10.0945 - mae: 10.0945\n",
            "Epoch 171/500\n",
            "2/2 [==============================] - 0s 11ms/step - loss: 17.8529 - mae: 17.8529\n",
            "Epoch 172/500\n",
            "2/2 [==============================] - 0s 7ms/step - loss: 29.3112 - mae: 29.3112\n",
            "Epoch 173/500\n",
            "2/2 [==============================] - 0s 8ms/step - loss: 16.9159 - mae: 16.9159\n",
            "Epoch 174/500\n",
            "2/2 [==============================] - 0s 8ms/step - loss: 11.1902 - mae: 11.1902\n",
            "Epoch 175/500\n",
            "2/2 [==============================] - 0s 9ms/step - loss: 27.4668 - mae: 27.4668\n",
            "Epoch 176/500\n",
            "2/2 [==============================] - 0s 8ms/step - loss: 8.4370 - mae: 8.4370\n",
            "Epoch 177/500\n",
            "2/2 [==============================] - 0s 7ms/step - loss: 9.3969 - mae: 9.3969\n",
            "Epoch 178/500\n",
            "2/2 [==============================] - 0s 7ms/step - loss: 18.5118 - mae: 18.5118\n",
            "Epoch 179/500\n",
            "2/2 [==============================] - 0s 7ms/step - loss: 10.4462 - mae: 10.4462\n",
            "Epoch 180/500\n",
            "2/2 [==============================] - 0s 7ms/step - loss: 7.9998 - mae: 7.9998\n",
            "Epoch 181/500\n",
            "2/2 [==============================] - 0s 7ms/step - loss: 17.6911 - mae: 17.6911\n",
            "Epoch 182/500\n",
            "2/2 [==============================] - 0s 12ms/step - loss: 11.1777 - mae: 11.1777\n",
            "Epoch 183/500\n",
            "2/2 [==============================] - 0s 8ms/step - loss: 12.3550 - mae: 12.3550\n",
            "Epoch 184/500\n",
            "2/2 [==============================] - 0s 7ms/step - loss: 27.2348 - mae: 27.2348\n",
            "Epoch 185/500\n",
            "2/2 [==============================] - 0s 8ms/step - loss: 7.5933 - mae: 7.5933\n",
            "Epoch 186/500\n",
            "2/2 [==============================] - 0s 7ms/step - loss: 16.0032 - mae: 16.0032\n",
            "Epoch 187/500\n",
            "2/2 [==============================] - 0s 7ms/step - loss: 8.5985 - mae: 8.5985\n",
            "Epoch 188/500\n",
            "2/2 [==============================] - 0s 8ms/step - loss: 28.7008 - mae: 28.7008\n",
            "Epoch 189/500\n",
            "2/2 [==============================] - 0s 7ms/step - loss: 13.1908 - mae: 13.1908\n",
            "Epoch 190/500\n",
            "2/2 [==============================] - 0s 7ms/step - loss: 18.3363 - mae: 18.3363\n",
            "Epoch 191/500\n",
            "2/2 [==============================] - 0s 7ms/step - loss: 13.7695 - mae: 13.7695\n",
            "Epoch 192/500\n",
            "2/2 [==============================] - 0s 7ms/step - loss: 13.7381 - mae: 13.7381\n",
            "Epoch 193/500\n",
            "2/2 [==============================] - 0s 8ms/step - loss: 28.6075 - mae: 28.6075\n",
            "Epoch 194/500\n",
            "2/2 [==============================] - 0s 7ms/step - loss: 7.0790 - mae: 7.0790\n",
            "Epoch 195/500\n",
            "2/2 [==============================] - 0s 7ms/step - loss: 7.0907 - mae: 7.0907\n",
            "Epoch 196/500\n",
            "2/2 [==============================] - 0s 7ms/step - loss: 22.0628 - mae: 22.0628\n",
            "Epoch 197/500\n",
            "2/2 [==============================] - 0s 7ms/step - loss: 20.7349 - mae: 20.7349\n",
            "Epoch 198/500\n",
            "2/2 [==============================] - 0s 10ms/step - loss: 12.4192 - mae: 12.4192\n",
            "Epoch 199/500\n",
            "2/2 [==============================] - 0s 8ms/step - loss: 17.8128 - mae: 17.8128\n",
            "Epoch 200/500\n",
            "2/2 [==============================] - 0s 7ms/step - loss: 13.6614 - mae: 13.6614\n",
            "Epoch 201/500\n",
            "2/2 [==============================] - 0s 7ms/step - loss: 5.5151 - mae: 5.5151\n",
            "Epoch 202/500\n",
            "2/2 [==============================] - 0s 7ms/step - loss: 13.6124 - mae: 13.6124\n",
            "Epoch 203/500\n",
            "2/2 [==============================] - 0s 8ms/step - loss: 9.4166 - mae: 9.4166\n",
            "Epoch 204/500\n",
            "2/2 [==============================] - 0s 8ms/step - loss: 20.7984 - mae: 20.7984\n",
            "Epoch 205/500\n",
            "2/2 [==============================] - 0s 7ms/step - loss: 9.5209 - mae: 9.5209\n",
            "Epoch 206/500\n",
            "2/2 [==============================] - 0s 7ms/step - loss: 11.1576 - mae: 11.1576\n",
            "Epoch 207/500\n",
            "2/2 [==============================] - 0s 7ms/step - loss: 17.6837 - mae: 17.6837\n",
            "Epoch 208/500\n",
            "2/2 [==============================] - 0s 8ms/step - loss: 14.3952 - mae: 14.3952\n",
            "Epoch 209/500\n",
            "2/2 [==============================] - 0s 8ms/step - loss: 16.7101 - mae: 16.7101\n",
            "Epoch 210/500\n",
            "2/2 [==============================] - 0s 7ms/step - loss: 18.2251 - mae: 18.2251\n",
            "Epoch 211/500\n",
            "2/2 [==============================] - 0s 11ms/step - loss: 9.9687 - mae: 9.9687\n",
            "Epoch 212/500\n",
            "2/2 [==============================] - 0s 8ms/step - loss: 18.6958 - mae: 18.6958\n",
            "Epoch 213/500\n",
            "2/2 [==============================] - 0s 6ms/step - loss: 14.9590 - mae: 14.9590\n",
            "Epoch 214/500\n",
            "2/2 [==============================] - 0s 7ms/step - loss: 14.5400 - mae: 14.5400\n",
            "Epoch 215/500\n",
            "2/2 [==============================] - 0s 7ms/step - loss: 23.1915 - mae: 23.1915\n",
            "Epoch 216/500\n",
            "2/2 [==============================] - 0s 8ms/step - loss: 13.5666 - mae: 13.5666\n",
            "Epoch 217/500\n",
            "2/2 [==============================] - 0s 7ms/step - loss: 10.0443 - mae: 10.0443\n",
            "Epoch 218/500\n",
            "2/2 [==============================] - 0s 7ms/step - loss: 12.4450 - mae: 12.4450\n",
            "Epoch 219/500\n",
            "2/2 [==============================] - 0s 8ms/step - loss: 5.8642 - mae: 5.8642\n",
            "Epoch 220/500\n",
            "2/2 [==============================] - 0s 7ms/step - loss: 10.1894 - mae: 10.1894\n",
            "Epoch 221/500\n",
            "2/2 [==============================] - 0s 8ms/step - loss: 28.8203 - mae: 28.8203\n",
            "Epoch 222/500\n",
            "2/2 [==============================] - 0s 7ms/step - loss: 27.9923 - mae: 27.9923\n",
            "Epoch 223/500\n",
            "2/2 [==============================] - 0s 7ms/step - loss: 10.0938 - mae: 10.0938\n",
            "Epoch 224/500\n",
            "2/2 [==============================] - 0s 7ms/step - loss: 14.6438 - mae: 14.6438\n",
            "Epoch 225/500\n",
            "2/2 [==============================] - 0s 8ms/step - loss: 16.6629 - mae: 16.6629\n",
            "Epoch 226/500\n",
            "2/2 [==============================] - 0s 8ms/step - loss: 15.8834 - mae: 15.8834\n",
            "Epoch 227/500\n",
            "2/2 [==============================] - 0s 7ms/step - loss: 16.1038 - mae: 16.1038\n",
            "Epoch 228/500\n",
            "2/2 [==============================] - 0s 7ms/step - loss: 13.8801 - mae: 13.8801\n",
            "Epoch 229/500\n",
            "2/2 [==============================] - 0s 6ms/step - loss: 18.0030 - mae: 18.0030\n",
            "Epoch 230/500\n",
            "2/2 [==============================] - 0s 13ms/step - loss: 15.5929 - mae: 15.5929\n",
            "Epoch 231/500\n",
            "2/2 [==============================] - 0s 12ms/step - loss: 21.1302 - mae: 21.1302\n",
            "Epoch 232/500\n",
            "2/2 [==============================] - 0s 13ms/step - loss: 25.4412 - mae: 25.4412\n",
            "Epoch 233/500\n",
            "2/2 [==============================] - 0s 8ms/step - loss: 16.4574 - mae: 16.4574\n",
            "Epoch 234/500\n",
            "2/2 [==============================] - 0s 7ms/step - loss: 7.3515 - mae: 7.3515\n",
            "Epoch 235/500\n",
            "2/2 [==============================] - 0s 7ms/step - loss: 17.0953 - mae: 17.0953\n",
            "Epoch 236/500\n",
            "2/2 [==============================] - 0s 8ms/step - loss: 7.2052 - mae: 7.2052\n",
            "Epoch 237/500\n",
            "2/2 [==============================] - 0s 8ms/step - loss: 9.2951 - mae: 9.2951\n",
            "Epoch 238/500\n",
            "2/2 [==============================] - 0s 6ms/step - loss: 8.1647 - mae: 8.1647\n",
            "Epoch 239/500\n",
            "2/2 [==============================] - 0s 8ms/step - loss: 17.1054 - mae: 17.1054\n",
            "Epoch 240/500\n",
            "2/2 [==============================] - 0s 8ms/step - loss: 8.9275 - mae: 8.9275\n",
            "Epoch 241/500\n",
            "2/2 [==============================] - 0s 8ms/step - loss: 13.2168 - mae: 13.2168\n",
            "Epoch 242/500\n",
            "2/2 [==============================] - 0s 8ms/step - loss: 8.8435 - mae: 8.8435\n",
            "Epoch 243/500\n",
            "2/2 [==============================] - 0s 7ms/step - loss: 18.8169 - mae: 18.8169\n",
            "Epoch 244/500\n",
            "2/2 [==============================] - 0s 8ms/step - loss: 14.0779 - mae: 14.0779\n",
            "Epoch 245/500\n",
            "2/2 [==============================] - 0s 7ms/step - loss: 14.7030 - mae: 14.7030\n",
            "Epoch 246/500\n",
            "2/2 [==============================] - 0s 7ms/step - loss: 15.8350 - mae: 15.8350\n",
            "Epoch 247/500\n",
            "2/2 [==============================] - 0s 7ms/step - loss: 17.7205 - mae: 17.7205\n",
            "Epoch 248/500\n",
            "2/2 [==============================] - 0s 7ms/step - loss: 13.2760 - mae: 13.2760\n",
            "Epoch 249/500\n",
            "2/2 [==============================] - 0s 7ms/step - loss: 14.5416 - mae: 14.5416\n",
            "Epoch 250/500\n",
            "2/2 [==============================] - 0s 7ms/step - loss: 23.2788 - mae: 23.2788\n",
            "Epoch 251/500\n",
            "2/2 [==============================] - 0s 7ms/step - loss: 9.3222 - mae: 9.3222\n",
            "Epoch 252/500\n",
            "2/2 [==============================] - 0s 7ms/step - loss: 36.4934 - mae: 36.4934\n",
            "Epoch 253/500\n",
            "2/2 [==============================] - 0s 8ms/step - loss: 21.7105 - mae: 21.7105\n",
            "Epoch 254/500\n",
            "2/2 [==============================] - 0s 8ms/step - loss: 7.3099 - mae: 7.3099\n",
            "Epoch 255/500\n",
            "2/2 [==============================] - 0s 7ms/step - loss: 24.5719 - mae: 24.5719\n",
            "Epoch 256/500\n",
            "2/2 [==============================] - 0s 7ms/step - loss: 12.3813 - mae: 12.3813\n",
            "Epoch 257/500\n",
            "2/2 [==============================] - 0s 7ms/step - loss: 10.5568 - mae: 10.5568\n",
            "Epoch 258/500\n",
            "2/2 [==============================] - 0s 7ms/step - loss: 14.1389 - mae: 14.1389\n",
            "Epoch 259/500\n",
            "2/2 [==============================] - 0s 7ms/step - loss: 11.2387 - mae: 11.2387\n",
            "Epoch 260/500\n",
            "2/2 [==============================] - 0s 8ms/step - loss: 31.4619 - mae: 31.4619\n",
            "Epoch 261/500\n",
            "2/2 [==============================] - 0s 7ms/step - loss: 11.1478 - mae: 11.1478\n",
            "Epoch 262/500\n",
            "2/2 [==============================] - 0s 7ms/step - loss: 10.0078 - mae: 10.0078\n",
            "Epoch 263/500\n",
            "2/2 [==============================] - 0s 7ms/step - loss: 8.9372 - mae: 8.9372\n",
            "Epoch 264/500\n",
            "2/2 [==============================] - 0s 7ms/step - loss: 21.3729 - mae: 21.3729\n",
            "Epoch 265/500\n",
            "2/2 [==============================] - 0s 8ms/step - loss: 11.4955 - mae: 11.4955\n",
            "Epoch 266/500\n",
            "2/2 [==============================] - 0s 7ms/step - loss: 13.3403 - mae: 13.3403\n",
            "Epoch 267/500\n",
            "2/2 [==============================] - 0s 10ms/step - loss: 11.1115 - mae: 11.1115\n",
            "Epoch 268/500\n",
            "2/2 [==============================] - 0s 7ms/step - loss: 19.2192 - mae: 19.2192\n",
            "Epoch 269/500\n",
            "2/2 [==============================] - 0s 7ms/step - loss: 40.5190 - mae: 40.5190\n",
            "Epoch 270/500\n",
            "2/2 [==============================] - 0s 6ms/step - loss: 12.8331 - mae: 12.8331\n",
            "Epoch 271/500\n",
            "2/2 [==============================] - 0s 7ms/step - loss: 14.7851 - mae: 14.7851\n",
            "Epoch 272/500\n",
            "2/2 [==============================] - 0s 7ms/step - loss: 28.5453 - mae: 28.5453\n",
            "Epoch 273/500\n",
            "2/2 [==============================] - 0s 6ms/step - loss: 7.3425 - mae: 7.3425\n",
            "Epoch 274/500\n",
            "2/2 [==============================] - 0s 7ms/step - loss: 6.3656 - mae: 6.3656\n",
            "Epoch 275/500\n",
            "2/2 [==============================] - 0s 7ms/step - loss: 36.7246 - mae: 36.7246\n",
            "Epoch 276/500\n",
            "2/2 [==============================] - 0s 7ms/step - loss: 8.2827 - mae: 8.2827\n",
            "Epoch 277/500\n",
            "2/2 [==============================] - 0s 7ms/step - loss: 27.5730 - mae: 27.5730\n",
            "Epoch 278/500\n",
            "2/2 [==============================] - 0s 8ms/step - loss: 10.7120 - mae: 10.7120\n",
            "Epoch 279/500\n",
            "2/2 [==============================] - 0s 6ms/step - loss: 16.1363 - mae: 16.1363\n",
            "Epoch 280/500\n",
            "2/2 [==============================] - 0s 7ms/step - loss: 21.2900 - mae: 21.2900\n",
            "Epoch 281/500\n",
            "2/2 [==============================] - 0s 7ms/step - loss: 23.6633 - mae: 23.6633\n",
            "Epoch 282/500\n",
            "2/2 [==============================] - 0s 7ms/step - loss: 8.2347 - mae: 8.2347\n",
            "Epoch 283/500\n",
            "2/2 [==============================] - 0s 8ms/step - loss: 8.4317 - mae: 8.4317\n",
            "Epoch 284/500\n",
            "2/2 [==============================] - 0s 8ms/step - loss: 26.4978 - mae: 26.4978\n",
            "Epoch 285/500\n",
            "2/2 [==============================] - 0s 8ms/step - loss: 14.1360 - mae: 14.1360\n",
            "Epoch 286/500\n",
            "2/2 [==============================] - 0s 7ms/step - loss: 6.0151 - mae: 6.0151\n",
            "Epoch 287/500\n",
            "2/2 [==============================] - 0s 7ms/step - loss: 19.0082 - mae: 19.0082\n",
            "Epoch 288/500\n",
            "2/2 [==============================] - 0s 7ms/step - loss: 32.8481 - mae: 32.8481\n",
            "Epoch 289/500\n",
            "2/2 [==============================] - 0s 7ms/step - loss: 8.3876 - mae: 8.3876\n",
            "Epoch 290/500\n",
            "2/2 [==============================] - 0s 7ms/step - loss: 16.8810 - mae: 16.8810\n",
            "Epoch 291/500\n",
            "2/2 [==============================] - 0s 7ms/step - loss: 17.2535 - mae: 17.2535\n",
            "Epoch 292/500\n",
            "2/2 [==============================] - 0s 7ms/step - loss: 10.8891 - mae: 10.8891\n",
            "Epoch 293/500\n",
            "2/2 [==============================] - 0s 8ms/step - loss: 14.5773 - mae: 14.5773\n",
            "Epoch 294/500\n",
            "2/2 [==============================] - 0s 7ms/step - loss: 21.8143 - mae: 21.8143\n",
            "Epoch 295/500\n",
            "2/2 [==============================] - 0s 7ms/step - loss: 19.9564 - mae: 19.9564\n",
            "Epoch 296/500\n",
            "2/2 [==============================] - 0s 8ms/step - loss: 7.0022 - mae: 7.0022\n",
            "Epoch 297/500\n",
            "2/2 [==============================] - 0s 7ms/step - loss: 9.0142 - mae: 9.0142\n",
            "Epoch 298/500\n",
            "2/2 [==============================] - 0s 7ms/step - loss: 24.2668 - mae: 24.2668\n",
            "Epoch 299/500\n",
            "2/2 [==============================] - 0s 8ms/step - loss: 17.8554 - mae: 17.8554\n",
            "Epoch 300/500\n",
            "2/2 [==============================] - 0s 7ms/step - loss: 7.0197 - mae: 7.0197\n",
            "Epoch 301/500\n",
            "2/2 [==============================] - 0s 7ms/step - loss: 25.3326 - mae: 25.3326\n",
            "Epoch 302/500\n",
            "2/2 [==============================] - 0s 7ms/step - loss: 9.4552 - mae: 9.4552\n",
            "Epoch 303/500\n",
            "2/2 [==============================] - 0s 10ms/step - loss: 14.4214 - mae: 14.4214\n",
            "Epoch 304/500\n",
            "2/2 [==============================] - 0s 7ms/step - loss: 10.8364 - mae: 10.8364\n",
            "Epoch 305/500\n",
            "2/2 [==============================] - 0s 7ms/step - loss: 12.6532 - mae: 12.6532\n",
            "Epoch 306/500\n",
            "2/2 [==============================] - 0s 7ms/step - loss: 8.2803 - mae: 8.2803\n",
            "Epoch 307/500\n",
            "2/2 [==============================] - 0s 7ms/step - loss: 13.0955 - mae: 13.0955\n",
            "Epoch 308/500\n",
            "2/2 [==============================] - 0s 7ms/step - loss: 8.1436 - mae: 8.1436\n",
            "Epoch 309/500\n",
            "2/2 [==============================] - 0s 7ms/step - loss: 11.7450 - mae: 11.7450\n",
            "Epoch 310/500\n",
            "2/2 [==============================] - 0s 8ms/step - loss: 6.3498 - mae: 6.3498\n",
            "Epoch 311/500\n",
            "2/2 [==============================] - 0s 7ms/step - loss: 4.9851 - mae: 4.9851\n",
            "Epoch 312/500\n",
            "2/2 [==============================] - 0s 7ms/step - loss: 29.2852 - mae: 29.2852\n",
            "Epoch 313/500\n",
            "2/2 [==============================] - 0s 7ms/step - loss: 8.9621 - mae: 8.9621\n",
            "Epoch 314/500\n",
            "2/2 [==============================] - 0s 7ms/step - loss: 6.5056 - mae: 6.5056\n",
            "Epoch 315/500\n",
            "2/2 [==============================] - 0s 8ms/step - loss: 23.9004 - mae: 23.9004\n",
            "Epoch 316/500\n",
            "2/2 [==============================] - 0s 7ms/step - loss: 16.2647 - mae: 16.2647\n",
            "Epoch 317/500\n",
            "2/2 [==============================] - 0s 6ms/step - loss: 20.9040 - mae: 20.9040\n",
            "Epoch 318/500\n",
            "2/2 [==============================] - 0s 6ms/step - loss: 7.8781 - mae: 7.8781\n",
            "Epoch 319/500\n",
            "2/2 [==============================] - 0s 11ms/step - loss: 17.8289 - mae: 17.8289\n",
            "Epoch 320/500\n",
            "2/2 [==============================] - 0s 11ms/step - loss: 10.1411 - mae: 10.1411\n",
            "Epoch 321/500\n",
            "2/2 [==============================] - 0s 9ms/step - loss: 8.2539 - mae: 8.2539\n",
            "Epoch 322/500\n",
            "2/2 [==============================] - 0s 9ms/step - loss: 4.2625 - mae: 4.2625\n",
            "Epoch 323/500\n",
            "2/2 [==============================] - 0s 9ms/step - loss: 14.6635 - mae: 14.6635\n",
            "Epoch 324/500\n",
            "2/2 [==============================] - 0s 9ms/step - loss: 18.8523 - mae: 18.8523\n",
            "Epoch 325/500\n",
            "2/2 [==============================] - 0s 12ms/step - loss: 17.6095 - mae: 17.6095\n",
            "Epoch 326/500\n",
            "2/2 [==============================] - 0s 11ms/step - loss: 24.0092 - mae: 24.0092\n",
            "Epoch 327/500\n",
            "2/2 [==============================] - 0s 8ms/step - loss: 10.3315 - mae: 10.3315\n",
            "Epoch 328/500\n",
            "2/2 [==============================] - 0s 8ms/step - loss: 13.1121 - mae: 13.1121\n",
            "Epoch 329/500\n",
            "2/2 [==============================] - 0s 8ms/step - loss: 15.9708 - mae: 15.9708\n",
            "Epoch 330/500\n",
            "2/2 [==============================] - 0s 8ms/step - loss: 14.3162 - mae: 14.3162\n",
            "Epoch 331/500\n",
            "2/2 [==============================] - 0s 8ms/step - loss: 25.7458 - mae: 25.7458\n",
            "Epoch 332/500\n",
            "2/2 [==============================] - 0s 7ms/step - loss: 17.2063 - mae: 17.2063\n",
            "Epoch 333/500\n",
            "2/2 [==============================] - 0s 7ms/step - loss: 8.4866 - mae: 8.4866\n",
            "Epoch 334/500\n",
            "2/2 [==============================] - 0s 7ms/step - loss: 13.4230 - mae: 13.4230\n",
            "Epoch 335/500\n",
            "2/2 [==============================] - 0s 6ms/step - loss: 13.0601 - mae: 13.0601\n",
            "Epoch 336/500\n",
            "2/2 [==============================] - 0s 7ms/step - loss: 32.5539 - mae: 32.5539\n",
            "Epoch 337/500\n",
            "2/2 [==============================] - 0s 7ms/step - loss: 11.0840 - mae: 11.0840\n",
            "Epoch 338/500\n",
            "2/2 [==============================] - 0s 6ms/step - loss: 20.0501 - mae: 20.0501\n",
            "Epoch 339/500\n",
            "2/2 [==============================] - 0s 6ms/step - loss: 34.0425 - mae: 34.0425\n",
            "Epoch 340/500\n",
            "2/2 [==============================] - 0s 7ms/step - loss: 8.6276 - mae: 8.6276\n",
            "Epoch 341/500\n",
            "2/2 [==============================] - 0s 7ms/step - loss: 21.7510 - mae: 21.7510\n",
            "Epoch 342/500\n",
            "2/2 [==============================] - 0s 7ms/step - loss: 13.9982 - mae: 13.9982\n",
            "Epoch 343/500\n",
            "2/2 [==============================] - 0s 7ms/step - loss: 11.5225 - mae: 11.5225\n",
            "Epoch 344/500\n",
            "2/2 [==============================] - 0s 6ms/step - loss: 10.6500 - mae: 10.6500\n",
            "Epoch 345/500\n",
            "2/2 [==============================] - 0s 7ms/step - loss: 30.8105 - mae: 30.8105\n",
            "Epoch 346/500\n",
            "2/2 [==============================] - 0s 6ms/step - loss: 10.5720 - mae: 10.5720\n",
            "Epoch 347/500\n",
            "2/2 [==============================] - 0s 6ms/step - loss: 25.4203 - mae: 25.4203\n",
            "Epoch 348/500\n",
            "2/2 [==============================] - 0s 6ms/step - loss: 13.6159 - mae: 13.6159\n",
            "Epoch 349/500\n",
            "2/2 [==============================] - 0s 7ms/step - loss: 12.9036 - mae: 12.9036\n",
            "Epoch 350/500\n",
            "2/2 [==============================] - 0s 6ms/step - loss: 15.3470 - mae: 15.3470\n",
            "Epoch 351/500\n",
            "2/2 [==============================] - 0s 6ms/step - loss: 32.7971 - mae: 32.7971\n",
            "Epoch 352/500\n",
            "2/2 [==============================] - 0s 6ms/step - loss: 13.8409 - mae: 13.8409\n",
            "Epoch 353/500\n",
            "2/2 [==============================] - 0s 7ms/step - loss: 17.8134 - mae: 17.8134\n",
            "Epoch 354/500\n",
            "2/2 [==============================] - 0s 7ms/step - loss: 11.3592 - mae: 11.3592\n",
            "Epoch 355/500\n",
            "2/2 [==============================] - 0s 8ms/step - loss: 26.8124 - mae: 26.8124\n",
            "Epoch 356/500\n",
            "2/2 [==============================] - 0s 10ms/step - loss: 9.6808 - mae: 9.6808\n",
            "Epoch 357/500\n",
            "2/2 [==============================] - 0s 7ms/step - loss: 17.0641 - mae: 17.0641\n",
            "Epoch 358/500\n",
            "2/2 [==============================] - 0s 7ms/step - loss: 15.7231 - mae: 15.7231\n",
            "Epoch 359/500\n",
            "2/2 [==============================] - 0s 8ms/step - loss: 11.7029 - mae: 11.7029\n",
            "Epoch 360/500\n",
            "2/2 [==============================] - 0s 7ms/step - loss: 20.2658 - mae: 20.2658\n",
            "Epoch 361/500\n",
            "2/2 [==============================] - 0s 8ms/step - loss: 11.0129 - mae: 11.0129\n",
            "Epoch 362/500\n",
            "2/2 [==============================] - 0s 8ms/step - loss: 6.8046 - mae: 6.8046\n",
            "Epoch 363/500\n",
            "2/2 [==============================] - 0s 8ms/step - loss: 24.0135 - mae: 24.0135\n",
            "Epoch 364/500\n",
            "2/2 [==============================] - 0s 11ms/step - loss: 29.7805 - mae: 29.7805\n",
            "Epoch 365/500\n",
            "2/2 [==============================] - 0s 7ms/step - loss: 8.3432 - mae: 8.3432\n",
            "Epoch 366/500\n",
            "2/2 [==============================] - 0s 6ms/step - loss: 6.0776 - mae: 6.0776\n",
            "Epoch 367/500\n",
            "2/2 [==============================] - 0s 6ms/step - loss: 34.9597 - mae: 34.9597\n",
            "Epoch 368/500\n",
            "2/2 [==============================] - 0s 6ms/step - loss: 7.4011 - mae: 7.4011\n",
            "Epoch 369/500\n",
            "2/2 [==============================] - 0s 6ms/step - loss: 9.2314 - mae: 9.2314\n",
            "Epoch 370/500\n",
            "2/2 [==============================] - 0s 7ms/step - loss: 10.9480 - mae: 10.9480\n",
            "Epoch 371/500\n",
            "2/2 [==============================] - 0s 6ms/step - loss: 9.0107 - mae: 9.0107\n",
            "Epoch 372/500\n",
            "2/2 [==============================] - 0s 7ms/step - loss: 7.6813 - mae: 7.6813\n",
            "Epoch 373/500\n",
            "2/2 [==============================] - 0s 7ms/step - loss: 25.0286 - mae: 25.0286\n",
            "Epoch 374/500\n",
            "2/2 [==============================] - 0s 8ms/step - loss: 13.2857 - mae: 13.2857\n",
            "Epoch 375/500\n",
            "2/2 [==============================] - 0s 8ms/step - loss: 11.8231 - mae: 11.8231\n",
            "Epoch 376/500\n",
            "2/2 [==============================] - 0s 6ms/step - loss: 14.1044 - mae: 14.1044\n",
            "Epoch 377/500\n",
            "2/2 [==============================] - 0s 6ms/step - loss: 15.6879 - mae: 15.6879\n",
            "Epoch 378/500\n",
            "2/2 [==============================] - 0s 7ms/step - loss: 16.9958 - mae: 16.9958\n",
            "Epoch 379/500\n",
            "2/2 [==============================] - 0s 6ms/step - loss: 19.4791 - mae: 19.4791\n",
            "Epoch 380/500\n",
            "2/2 [==============================] - 0s 7ms/step - loss: 15.8413 - mae: 15.8413\n",
            "Epoch 381/500\n",
            "2/2 [==============================] - 0s 8ms/step - loss: 11.4263 - mae: 11.4263\n",
            "Epoch 382/500\n",
            "2/2 [==============================] - 0s 7ms/step - loss: 16.3099 - mae: 16.3099\n",
            "Epoch 383/500\n",
            "2/2 [==============================] - 0s 7ms/step - loss: 22.0523 - mae: 22.0523\n",
            "Epoch 384/500\n",
            "2/2 [==============================] - 0s 7ms/step - loss: 7.7857 - mae: 7.7857\n",
            "Epoch 385/500\n",
            "2/2 [==============================] - 0s 7ms/step - loss: 10.5790 - mae: 10.5790\n",
            "Epoch 386/500\n",
            "2/2 [==============================] - 0s 7ms/step - loss: 19.0317 - mae: 19.0317\n",
            "Epoch 387/500\n",
            "2/2 [==============================] - 0s 10ms/step - loss: 26.6377 - mae: 26.6377\n",
            "Epoch 388/500\n",
            "2/2 [==============================] - 0s 9ms/step - loss: 10.1718 - mae: 10.1718\n",
            "Epoch 389/500\n",
            "2/2 [==============================] - 0s 10ms/step - loss: 5.1745 - mae: 5.1745\n",
            "Epoch 390/500\n",
            "2/2 [==============================] - 0s 17ms/step - loss: 18.9556 - mae: 18.9556\n",
            "Epoch 391/500\n",
            "2/2 [==============================] - 0s 10ms/step - loss: 9.2891 - mae: 9.2891\n",
            "Epoch 392/500\n",
            "2/2 [==============================] - 0s 7ms/step - loss: 14.3634 - mae: 14.3634\n",
            "Epoch 393/500\n",
            "2/2 [==============================] - 0s 7ms/step - loss: 15.3661 - mae: 15.3661\n",
            "Epoch 394/500\n",
            "2/2 [==============================] - 0s 6ms/step - loss: 14.7179 - mae: 14.7179\n",
            "Epoch 395/500\n",
            "2/2 [==============================] - 0s 8ms/step - loss: 24.9236 - mae: 24.9236\n",
            "Epoch 396/500\n",
            "2/2 [==============================] - 0s 11ms/step - loss: 19.2860 - mae: 19.2860\n",
            "Epoch 397/500\n",
            "2/2 [==============================] - 0s 7ms/step - loss: 11.5397 - mae: 11.5397\n",
            "Epoch 398/500\n",
            "2/2 [==============================] - 0s 6ms/step - loss: 19.1553 - mae: 19.1553\n",
            "Epoch 399/500\n",
            "2/2 [==============================] - 0s 8ms/step - loss: 26.0891 - mae: 26.0891\n",
            "Epoch 400/500\n",
            "2/2 [==============================] - 0s 7ms/step - loss: 15.7345 - mae: 15.7345\n",
            "Epoch 401/500\n",
            "2/2 [==============================] - 0s 8ms/step - loss: 14.6268 - mae: 14.6268\n",
            "Epoch 402/500\n",
            "2/2 [==============================] - 0s 8ms/step - loss: 24.2231 - mae: 24.2231\n",
            "Epoch 403/500\n",
            "2/2 [==============================] - 0s 7ms/step - loss: 16.5328 - mae: 16.5328\n",
            "Epoch 404/500\n",
            "2/2 [==============================] - 0s 7ms/step - loss: 9.1716 - mae: 9.1716\n",
            "Epoch 405/500\n",
            "2/2 [==============================] - 0s 7ms/step - loss: 10.4505 - mae: 10.4505\n",
            "Epoch 406/500\n",
            "2/2 [==============================] - 0s 9ms/step - loss: 7.3625 - mae: 7.3625\n",
            "Epoch 407/500\n",
            "2/2 [==============================] - 0s 7ms/step - loss: 13.4839 - mae: 13.4839\n",
            "Epoch 408/500\n",
            "2/2 [==============================] - 0s 6ms/step - loss: 5.5915 - mae: 5.5915\n",
            "Epoch 409/500\n",
            "2/2 [==============================] - 0s 7ms/step - loss: 29.8594 - mae: 29.8594\n",
            "Epoch 410/500\n",
            "2/2 [==============================] - 0s 7ms/step - loss: 9.9261 - mae: 9.9261\n",
            "Epoch 411/500\n",
            "2/2 [==============================] - 0s 11ms/step - loss: 14.7809 - mae: 14.7809\n",
            "Epoch 412/500\n",
            "2/2 [==============================] - 0s 10ms/step - loss: 21.5869 - mae: 21.5869\n",
            "Epoch 413/500\n",
            "2/2 [==============================] - 0s 7ms/step - loss: 13.0671 - mae: 13.0671\n",
            "Epoch 414/500\n",
            "2/2 [==============================] - 0s 6ms/step - loss: 8.3011 - mae: 8.3011\n",
            "Epoch 415/500\n",
            "2/2 [==============================] - 0s 7ms/step - loss: 11.7067 - mae: 11.7067\n",
            "Epoch 416/500\n",
            "2/2 [==============================] - 0s 7ms/step - loss: 25.6445 - mae: 25.6445\n",
            "Epoch 417/500\n",
            "2/2 [==============================] - 0s 9ms/step - loss: 15.6786 - mae: 15.6786\n",
            "Epoch 418/500\n",
            "2/2 [==============================] - 0s 9ms/step - loss: 12.5979 - mae: 12.5979\n",
            "Epoch 419/500\n",
            "2/2 [==============================] - 0s 7ms/step - loss: 15.7377 - mae: 15.7377\n",
            "Epoch 420/500\n",
            "2/2 [==============================] - 0s 7ms/step - loss: 24.4539 - mae: 24.4539\n",
            "Epoch 421/500\n",
            "2/2 [==============================] - 0s 7ms/step - loss: 18.2103 - mae: 18.2103\n",
            "Epoch 422/500\n",
            "2/2 [==============================] - 0s 8ms/step - loss: 8.6535 - mae: 8.6535\n",
            "Epoch 423/500\n",
            "2/2 [==============================] - 0s 7ms/step - loss: 24.6603 - mae: 24.6603\n",
            "Epoch 424/500\n",
            "2/2 [==============================] - 0s 7ms/step - loss: 16.8246 - mae: 16.8246\n",
            "Epoch 425/500\n",
            "2/2 [==============================] - 0s 6ms/step - loss: 7.3226 - mae: 7.3226\n",
            "Epoch 426/500\n",
            "2/2 [==============================] - 0s 7ms/step - loss: 21.0069 - mae: 21.0069\n",
            "Epoch 427/500\n",
            "2/2 [==============================] - 0s 7ms/step - loss: 6.5011 - mae: 6.5011\n",
            "Epoch 428/500\n",
            "2/2 [==============================] - 0s 6ms/step - loss: 13.4575 - mae: 13.4575\n",
            "Epoch 429/500\n",
            "2/2 [==============================] - 0s 7ms/step - loss: 11.1849 - mae: 11.1849\n",
            "Epoch 430/500\n",
            "2/2 [==============================] - 0s 6ms/step - loss: 12.0848 - mae: 12.0848\n",
            "Epoch 431/500\n",
            "2/2 [==============================] - 0s 7ms/step - loss: 9.0928 - mae: 9.0928\n",
            "Epoch 432/500\n",
            "2/2 [==============================] - 0s 7ms/step - loss: 15.6128 - mae: 15.6128\n",
            "Epoch 433/500\n",
            "2/2 [==============================] - 0s 6ms/step - loss: 11.9579 - mae: 11.9579\n",
            "Epoch 434/500\n",
            "2/2 [==============================] - 0s 11ms/step - loss: 30.4776 - mae: 30.4776\n",
            "Epoch 435/500\n",
            "2/2 [==============================] - 0s 11ms/step - loss: 10.5260 - mae: 10.5260\n",
            "Epoch 436/500\n",
            "2/2 [==============================] - 0s 8ms/step - loss: 28.9712 - mae: 28.9712\n",
            "Epoch 437/500\n",
            "2/2 [==============================] - 0s 10ms/step - loss: 8.6928 - mae: 8.6928\n",
            "Epoch 438/500\n",
            "2/2 [==============================] - 0s 7ms/step - loss: 12.7511 - mae: 12.7511\n",
            "Epoch 439/500\n",
            "2/2 [==============================] - 0s 6ms/step - loss: 33.7296 - mae: 33.7296\n",
            "Epoch 440/500\n",
            "2/2 [==============================] - 0s 7ms/step - loss: 15.1703 - mae: 15.1703\n",
            "Epoch 441/500\n",
            "2/2 [==============================] - 0s 6ms/step - loss: 17.5350 - mae: 17.5350\n",
            "Epoch 442/500\n",
            "2/2 [==============================] - 0s 6ms/step - loss: 22.4272 - mae: 22.4272\n",
            "Epoch 443/500\n",
            "2/2 [==============================] - 0s 6ms/step - loss: 23.2899 - mae: 23.2899\n",
            "Epoch 444/500\n",
            "2/2 [==============================] - 0s 5ms/step - loss: 10.7583 - mae: 10.7583\n",
            "Epoch 445/500\n",
            "2/2 [==============================] - 0s 6ms/step - loss: 14.9821 - mae: 14.9821\n",
            "Epoch 446/500\n",
            "2/2 [==============================] - 0s 8ms/step - loss: 18.0923 - mae: 18.0923\n",
            "Epoch 447/500\n",
            "2/2 [==============================] - 0s 6ms/step - loss: 5.3304 - mae: 5.3304\n",
            "Epoch 448/500\n",
            "2/2 [==============================] - 0s 9ms/step - loss: 10.1338 - mae: 10.1338\n",
            "Epoch 449/500\n",
            "2/2 [==============================] - 0s 7ms/step - loss: 14.0698 - mae: 14.0698\n",
            "Epoch 450/500\n",
            "2/2 [==============================] - 0s 6ms/step - loss: 16.8388 - mae: 16.8388\n",
            "Epoch 451/500\n",
            "2/2 [==============================] - 0s 6ms/step - loss: 14.3149 - mae: 14.3149\n",
            "Epoch 452/500\n",
            "2/2 [==============================] - 0s 7ms/step - loss: 30.6755 - mae: 30.6755\n",
            "Epoch 453/500\n",
            "2/2 [==============================] - 0s 8ms/step - loss: 8.3914 - mae: 8.3914\n",
            "Epoch 454/500\n",
            "2/2 [==============================] - 0s 7ms/step - loss: 27.5771 - mae: 27.5771\n",
            "Epoch 455/500\n",
            "2/2 [==============================] - 0s 9ms/step - loss: 10.1188 - mae: 10.1188\n",
            "Epoch 456/500\n",
            "2/2 [==============================] - 0s 7ms/step - loss: 14.5304 - mae: 14.5304\n",
            "Epoch 457/500\n",
            "2/2 [==============================] - 0s 6ms/step - loss: 17.6798 - mae: 17.6798\n",
            "Epoch 458/500\n",
            "2/2 [==============================] - 0s 7ms/step - loss: 13.9972 - mae: 13.9972\n",
            "Epoch 459/500\n",
            "2/2 [==============================] - 0s 8ms/step - loss: 25.8755 - mae: 25.8755\n",
            "Epoch 460/500\n",
            "2/2 [==============================] - 0s 7ms/step - loss: 15.1122 - mae: 15.1122\n",
            "Epoch 461/500\n",
            "2/2 [==============================] - 0s 7ms/step - loss: 11.8945 - mae: 11.8945\n",
            "Epoch 462/500\n",
            "2/2 [==============================] - 0s 9ms/step - loss: 13.2593 - mae: 13.2593\n",
            "Epoch 463/500\n",
            "2/2 [==============================] - 0s 7ms/step - loss: 29.4344 - mae: 29.4344\n",
            "Epoch 464/500\n",
            "2/2 [==============================] - 0s 7ms/step - loss: 3.2345 - mae: 3.2345\n",
            "Epoch 465/500\n",
            "2/2 [==============================] - 0s 8ms/step - loss: 40.4646 - mae: 40.4646\n",
            "Epoch 466/500\n",
            "2/2 [==============================] - 0s 7ms/step - loss: 18.4930 - mae: 18.4930\n",
            "Epoch 467/500\n",
            "2/2 [==============================] - 0s 6ms/step - loss: 8.6259 - mae: 8.6259\n",
            "Epoch 468/500\n",
            "2/2 [==============================] - 0s 8ms/step - loss: 6.6457 - mae: 6.6457\n",
            "Epoch 469/500\n",
            "2/2 [==============================] - 0s 8ms/step - loss: 29.6165 - mae: 29.6165\n",
            "Epoch 470/500\n",
            "2/2 [==============================] - 0s 7ms/step - loss: 15.4185 - mae: 15.4185\n",
            "Epoch 471/500\n",
            "2/2 [==============================] - 0s 7ms/step - loss: 12.3527 - mae: 12.3527\n",
            "Epoch 472/500\n",
            "2/2 [==============================] - 0s 7ms/step - loss: 15.4405 - mae: 15.4405\n",
            "Epoch 473/500\n",
            "2/2 [==============================] - 0s 7ms/step - loss: 19.3928 - mae: 19.3928\n",
            "Epoch 474/500\n",
            "2/2 [==============================] - 0s 8ms/step - loss: 38.7332 - mae: 38.7332\n",
            "Epoch 475/500\n",
            "2/2 [==============================] - 0s 7ms/step - loss: 15.6629 - mae: 15.6629\n",
            "Epoch 476/500\n",
            "2/2 [==============================] - 0s 7ms/step - loss: 13.4927 - mae: 13.4927\n",
            "Epoch 477/500\n",
            "2/2 [==============================] - 0s 6ms/step - loss: 29.8593 - mae: 29.8593\n",
            "Epoch 478/500\n",
            "2/2 [==============================] - 0s 11ms/step - loss: 4.8313 - mae: 4.8313\n",
            "Epoch 479/500\n",
            "2/2 [==============================] - 0s 11ms/step - loss: 13.0171 - mae: 13.0171\n",
            "Epoch 480/500\n",
            "2/2 [==============================] - 0s 7ms/step - loss: 19.1888 - mae: 19.1888\n",
            "Epoch 481/500\n",
            "2/2 [==============================] - 0s 6ms/step - loss: 13.2303 - mae: 13.2303\n",
            "Epoch 482/500\n",
            "2/2 [==============================] - 0s 6ms/step - loss: 6.3426 - mae: 6.3426\n",
            "Epoch 483/500\n",
            "2/2 [==============================] - 0s 6ms/step - loss: 11.9673 - mae: 11.9673\n",
            "Epoch 484/500\n",
            "2/2 [==============================] - 0s 6ms/step - loss: 14.4787 - mae: 14.4787\n",
            "Epoch 485/500\n",
            "2/2 [==============================] - 0s 6ms/step - loss: 10.4598 - mae: 10.4598\n",
            "Epoch 486/500\n",
            "2/2 [==============================] - 0s 5ms/step - loss: 17.9187 - mae: 17.9187\n",
            "Epoch 487/500\n",
            "2/2 [==============================] - 0s 6ms/step - loss: 10.8743 - mae: 10.8743\n",
            "Epoch 488/500\n",
            "2/2 [==============================] - 0s 6ms/step - loss: 27.0041 - mae: 27.0041\n",
            "Epoch 489/500\n",
            "2/2 [==============================] - 0s 5ms/step - loss: 5.3766 - mae: 5.3766\n",
            "Epoch 490/500\n",
            "2/2 [==============================] - 0s 6ms/step - loss: 6.1037 - mae: 6.1037\n",
            "Epoch 491/500\n",
            "2/2 [==============================] - 0s 6ms/step - loss: 19.1613 - mae: 19.1613\n",
            "Epoch 492/500\n",
            "2/2 [==============================] - 0s 7ms/step - loss: 6.8145 - mae: 6.8145\n",
            "Epoch 493/500\n",
            "2/2 [==============================] - 0s 6ms/step - loss: 18.7341 - mae: 18.7341\n",
            "Epoch 494/500\n",
            "2/2 [==============================] - 0s 7ms/step - loss: 19.1904 - mae: 19.1904\n",
            "Epoch 495/500\n",
            "2/2 [==============================] - 0s 7ms/step - loss: 5.6766 - mae: 5.6766\n",
            "Epoch 496/500\n",
            "2/2 [==============================] - 0s 8ms/step - loss: 5.9286 - mae: 5.9286\n",
            "Epoch 497/500\n",
            "2/2 [==============================] - 0s 7ms/step - loss: 12.4291 - mae: 12.4291\n",
            "Epoch 498/500\n",
            "2/2 [==============================] - 0s 9ms/step - loss: 6.3276 - mae: 6.3276\n",
            "Epoch 499/500\n",
            "2/2 [==============================] - 0s 7ms/step - loss: 15.7258 - mae: 15.7258\n",
            "Epoch 500/500\n",
            "2/2 [==============================] - 0s 6ms/step - loss: 14.3508 - mae: 14.3508\n"
          ]
        },
        {
          "output_type": "execute_result",
          "data": {
            "text/plain": [
              "<keras.callbacks.History at 0x7fbcfb2bb730>"
            ]
          },
          "metadata": {},
          "execution_count": 58
        }
      ]
    },
    {
      "cell_type": "code",
      "source": [
        "y_preds_3 = model_3.predict(X_test)\n",
        "plot_predictions(predictions=y_preds_3)\n",
        "#Our model was trained for too long - means longer epochs doesnot means always that it will be better."
      ],
      "metadata": {
        "colab": {
          "base_uri": "https://localhost:8080/",
          "height": 616
        },
        "id": "4XKTpuOGseUf",
        "outputId": "074d4b55-bc9a-440f-8bc9-1ecca41b83d1"
      },
      "execution_count": 59,
      "outputs": [
        {
          "output_type": "stream",
          "name": "stdout",
          "text": [
            "1/1 [==============================] - 0s 56ms/step\n"
          ]
        },
        {
          "output_type": "display_data",
          "data": {
            "text/plain": [
              "<Figure size 1000x700 with 1 Axes>"
            ],
            "image/png": "[encoded data removed]"
          },
          "metadata": {}
        }
      ]
    },
    {
      "cell_type": "code",
      "source": [
        "mae_3 = mae(y_test, y_preds_3)\n",
        "mse_3 = mse(y_test,y_preds_3)\n",
        "mae_3,mse_3"
      ],
      "metadata": {
        "colab": {
          "base_uri": "https://localhost:8080/"
        },
        "id": "x_M2KHUPs1ta",
        "outputId": "fbae4da0-bc75-4982-f2ed-62b179b27275"
      },
      "execution_count": 60,
      "outputs": [
        {
          "output_type": "execute_result",
          "data": {
            "text/plain": [
              "(67.788994, 4679.687)"
            ]
          },
          "metadata": {},
          "execution_count": 60
        }
      ]
    },
    {
      "cell_type": "markdown",
      "source": [
        "# Comparing the results of our experiments"
      ],
      "metadata": {
        "id": "Lqse8c6attrq"
      }
    },
    {
      "cell_type": "code",
      "source": [
        "# Lets compare our models results using pandas DataFrame\n",
        "import pandas as pd\n",
        "\n",
        "model_results = [[\"model_1\",mae_1,mse_1],\n",
        "                 [\"model_2\",mae_2,mse_2],\n",
        "                 [\"model_3\",mae_3,mse_3]]\n",
        "\n",
        "\n",
        "all_results = pd.DataFrame(model_results,columns=[\"model\",\"mae\",\"mse\"])\n",
        "all_results"
      ],
      "metadata": {
        "colab": {
          "base_uri": "https://localhost:8080/",
          "height": 143
        },
        "id": "VchPLGC_t23n",
        "outputId": "d5056bc5-97be-4998-872c-720fffde37ff"
      },
      "execution_count": 61,
      "outputs": [
        {
          "output_type": "execute_result",
          "data": {
            "text/plain": [
              "     model        mae          mse\n",
              "0  model_1  30.531651   942.535522\n",
              "1  model_2   2.929632    11.316620\n",
              "2  model_3  67.788994  4679.687012"
            ],
            "text/html": [
              "\n",
              "  <div id=\"df-a0e067d3-5c46-4cf9-bfc6-4bd9d47497f6\">\n",
              "    <div class=\"colab-df-container\">\n",
              "      <div>\n",
              "<style scoped>\n",
              "    .dataframe tbody tr th:only-of-type {\n",
              "        vertical-align: middle;\n",
              "    }\n",
              "\n",
              "    .dataframe tbody tr th {\n",
              "        vertical-align: top;\n",
              "    }\n",
              "\n",
              "    .dataframe thead th {\n",
              "        text-align: right;\n",
              "    }\n",
              "</style>\n",
              "<table border=\"1\" class=\"dataframe\">\n",
              "  <thead>\n",
              "    <tr style=\"text-align: right;\">\n",
              "      <th></th>\n",
              "      <th>model</th>\n",
              "      <th>mae</th>\n",
              "      <th>mse</th>\n",
              "    </tr>\n",
              "  </thead>\n",
              "  <tbody>\n",
              "    <tr>\n",
              "      <th>0</th>\n",
              "      <td>model_1</td>\n",
              "      <td>30.531651</td>\n",
              "      <td>942.535522</td>\n",
              "    </tr>\n",
              "    <tr>\n",
              "      <th>1</th>\n",
              "      <td>model_2</td>\n",
              "      <td>2.929632</td>\n",
              "      <td>11.316620</td>\n",
              "    </tr>\n",
              "    <tr>\n",
              "      <th>2</th>\n",
              "      <td>model_3</td>\n",
              "      <td>67.788994</td>\n",
              "      <td>4679.687012</td>\n",
              "    </tr>\n",
              "  </tbody>\n",
              "</table>\n",
              "</div>\n",
              "      <button class=\"colab-df-convert\" onclick=\"convertToInteractive('df-a0e067d3-5c46-4cf9-bfc6-4bd9d47497f6')\"\n",
              "              title=\"Convert this dataframe to an interactive table.\"\n",
              "              style=\"display:none;\">\n",
              "        \n",
              "  <svg xmlns=\"http://www.w3.org/2000/svg\" height=\"24px\"viewBox=\"0 0 24 24\"\n",
              "       width=\"24px\">\n",
              "    <path d=\"M0 0h24v24H0V0z\" fill=\"none\"/>\n",
              "    <path d=\"M18.56 5.44l.94 2.06.94-2.06 2.06-.94-2.06-.94-.94-2.06-.94 2.06-2.06.94zm-11 1L8.5 8.5l.94-2.06 2.06-.94-2.06-.94L8.5 2.5l-.94 2.06-2.06.94zm10 10l.94 2.06.94-2.06 2.06-.94-2.06-.94-.94-2.06-.94 2.06-2.06.94z\"/><path d=\"M17.41 7.96l-1.37-1.37c-.4-.4-.92-.59-1.43-.59-.52 0-1.04.2-1.43.59L10.3 9.45l-7.72 7.72c-.78.78-.78 2.05 0 2.83L4 21.41c.39.39.9.59 1.41.59.51 0 1.02-.2 1.41-.59l7.78-7.78 2.81-2.81c.8-.78.8-2.07 0-2.86zM5.41 20L4 18.59l7.72-7.72 1.47 1.35L5.41 20z\"/>\n",
              "  </svg>\n",
              "      </button>\n",
              "      \n",
              "  <style>\n",
              "    .colab-df-container {\n",
              "      display:flex;\n",
              "      flex-wrap:wrap;\n",
              "      gap: 12px;\n",
              "    }\n",
              "\n",
              "    .colab-df-convert {\n",
              "      background-color: #E8F0FE;\n",
              "      border: none;\n",
              "      border-radius: 50%;\n",
              "      cursor: pointer;\n",
              "      display: none;\n",
              "      fill: #1967D2;\n",
              "      height: 32px;\n",
              "      padding: 0 0 0 0;\n",
              "      width: 32px;\n",
              "    }\n",
              "\n",
              "    .colab-df-convert:hover {\n",
              "      background-color: #E2EBFA;\n",
              "      box-shadow: 0px 1px 2px rgba(60, 64, 67, 0.3), 0px 1px 3px 1px rgba(60, 64, 67, 0.15);\n",
              "      fill: #174EA6;\n",
              "    }\n",
              "\n",
              "    [theme=dark] .colab-df-convert {\n",
              "      background-color: #3B4455;\n",
              "      fill: #D2E3FC;\n",
              "    }\n",
              "\n",
              "    [theme=dark] .colab-df-convert:hover {\n",
              "      background-color: #434B5C;\n",
              "      box-shadow: 0px 1px 3px 1px rgba(0, 0, 0, 0.15);\n",
              "      filter: drop-shadow(0px 1px 2px rgba(0, 0, 0, 0.3));\n",
              "      fill: #FFFFFF;\n",
              "    }\n",
              "  </style>\n",
              "\n",
              "      <script>\n",
              "        const buttonEl =\n",
              "          document.querySelector('#df-a0e067d3-5c46-4cf9-bfc6-4bd9d47497f6 button.colab-df-convert');\n",
              "        buttonEl.style.display =\n",
              "          google.colab.kernel.accessAllowed ? 'block' : 'none';\n",
              "\n",
              "        async function convertToInteractive(key) {\n",
              "          const element = document.querySelector('#df-a0e067d3-5c46-4cf9-bfc6-4bd9d47497f6');\n",
              "          const dataTable =\n",
              "            await google.colab.kernel.invokeFunction('convertToInteractive',\n",
              "                                                     [key], {});\n",
              "          if (!dataTable) return;\n",
              "\n",
              "          const docLinkHtml = 'Like what you see? Visit the ' +\n",
              "            '<a target=\"_blank\" href=https://colab.research.google.com/notebooks/data_table.ipynb>data table notebook</a>'\n",
              "            + ' to learn more about interactive tables.';\n",
              "          element.innerHTML = '';\n",
              "          dataTable['output_type'] = 'display_data';\n",
              "          await google.colab.output.renderOutput(dataTable, element);\n",
              "          const docLink = document.createElement('div');\n",
              "          docLink.innerHTML = docLinkHtml;\n",
              "          element.appendChild(docLink);\n",
              "        }\n",
              "      </script>\n",
              "    </div>\n",
              "  </div>\n",
              "  "
            ]
          },
          "metadata": {},
          "execution_count": 61
        }
      ]
    },
    {
      "cell_type": "markdown",
      "source": [
        "## Tracking your experiments\n",
        "\n",
        "* One really good habits in ML is to track the results of your experiments.\n",
        "* There are tools to help us\n"
      ],
      "metadata": {
        "id": "Nj_nkGGguhpO"
      }
    },
    {
      "cell_type": "markdown",
      "source": [
        "## Saving our model\n",
        "\n",
        "* Saving our moedl alows us to use them outside colab or wherever they are trained such as a web app or mobile app.\n",
        "\n",
        "* There are 2 main formats\n",
        "1. Save Model Format\n",
        "2. The HDF5 format "
      ],
      "metadata": {
        "id": "jek_qCRdv_l4"
      }
    },
    {
      "cell_type": "code",
      "source": [
        "# Save a model using saved model format\n",
        "model_2.save(\"first_neuralnetwork_model\")"
      ],
      "metadata": {
        "colab": {
          "base_uri": "https://localhost:8080/"
        },
        "id": "fkcloCfOwI3I",
        "outputId": "f076a630-e501-4514-bb60-a7b675c8bbdf"
      },
      "execution_count": 62,
      "outputs": [
        {
          "output_type": "stream",
          "name": "stderr",
          "text": [
            "WARNING:absl:Found untraced functions such as _update_step_xla while saving (showing 1 of 1). These functions will not be directly callable after loading.\n"
          ]
        }
      ]
    },
    {
      "cell_type": "code",
      "source": [
        "#Save model to HDF5 format\n",
        "model_2.save(\"HDF5.h5\")"
      ],
      "metadata": {
        "id": "oByEtH4-w3-6"
      },
      "execution_count": 63,
      "outputs": []
    },
    {
      "cell_type": "code",
      "source": [
        "#Loading our model (SAVEDFORMAT)\n",
        "new_model_saved_format = tf.keras.models.load_model(\"/content/first_neuralnetwork_model\")\n",
        "new_model_saved_format.summary()"
      ],
      "metadata": {
        "colab": {
          "base_uri": "https://localhost:8080/"
        },
        "id": "GnhmtERCy1K2",
        "outputId": "73b1ad0f-9b14-4dc1-e290-8a93d4ec4706"
      },
      "execution_count": 64,
      "outputs": [
        {
          "output_type": "stream",
          "name": "stdout",
          "text": [
            "Model: \"sequential_6\"\n",
            "_________________________________________________________________\n",
            " Layer (type)                Output Shape              Param #   \n",
            "=================================================================\n",
            " dense_8 (Dense)             (None, 10)                20        \n",
            "                                                                 \n",
            " dense_9 (Dense)             (None, 1)                 11        \n",
            "                                                                 \n",
            "=================================================================\n",
            "Total params: 31\n",
            "Trainable params: 31\n",
            "Non-trainable params: 0\n",
            "_________________________________________________________________\n"
          ]
        }
      ]
    },
    {
      "cell_type": "code",
      "source": [
        "model_2.summary() #The same model"
      ],
      "metadata": {
        "colab": {
          "base_uri": "https://localhost:8080/"
        },
        "id": "HHZDBN90znvw",
        "outputId": "faa30bbb-9bd7-408e-84ec-f38fbfb80ef7"
      },
      "execution_count": 65,
      "outputs": [
        {
          "output_type": "stream",
          "name": "stdout",
          "text": [
            "Model: \"sequential_6\"\n",
            "_________________________________________________________________\n",
            " Layer (type)                Output Shape              Param #   \n",
            "=================================================================\n",
            " dense_8 (Dense)             (None, 10)                20        \n",
            "                                                                 \n",
            " dense_9 (Dense)             (None, 1)                 11        \n",
            "                                                                 \n",
            "=================================================================\n",
            "Total params: 31\n",
            "Trainable params: 31\n",
            "Non-trainable params: 0\n",
            "_________________________________________________________________\n"
          ]
        }
      ]
    },
    {
      "cell_type": "code",
      "source": [],
      "metadata": {
        "id": "JS1ECcAxzrlB"
      },
      "execution_count": null,
      "outputs": []
    }
  ],
  "metadata": {
    "colab": {
      "provenance": [],
      "authorship_tag": "ABX9TyN8WorunvcrX53CH2bU7qPg",
      "include_colab_link": true
    },
    "kernelspec": {
      "display_name": "Python 3",
      "name": "python3"
    },
    "language_info": {
      "name": "python"
    }
  },
  "nbformat": 4,
  "nbformat_minor": 0
}