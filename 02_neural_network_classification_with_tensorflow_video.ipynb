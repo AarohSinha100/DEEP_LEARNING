{
  "cells": [
    {
      "cell_type": "markdown",
      "metadata": {
        "id": "view-in-github",
        "colab_type": "text"
      },
      "source": [
        "<a href=\"https://colab.research.google.com/github/AarohSinha100/DEEP_LEARNING/blob/main/02_neural_network_classification_with_tensorflow_video.ipynb\" target=\"_parent\"><img src=\"https://colab.research.google.com/assets/colab-badge.svg\" alt=\"Open In Colab\"/></a>"
      ]
    },
    {
      "cell_type": "markdown",
      "metadata": {
        "id": "sofmEgBSJd1y"
      },
      "source": [
        "# Introduction to Neural Network Clssification with TensorFlow\n",
        "\n",
        "In this notebook we are going to learn how to write neural networks for classification with Tensorflow.\n",
        "\n",
        "Classification is type of problem, where you try to classify something as one thing or another.\n",
        "\n",
        "A few types of classification\n",
        "* Binary Calssification\n",
        "* Multiclass classification\n",
        "* Multilabel classification"
      ]
    },
    {
      "cell_type": "markdown",
      "metadata": {
        "id": "f8LC6sXQKmf9"
      },
      "source": [
        "# Creating data to view and fit"
      ]
    },
    {
      "cell_type": "code",
      "execution_count": null,
      "metadata": {
        "id": "4_3CnyRMKp90"
      },
      "outputs": [],
      "source": [
        "from sklearn.datasets import make_circles\n",
        "\n",
        "# Make 1000 examples\n",
        "n_samples = 1000\n",
        "\n",
        "# Create circles\n",
        "X, y = make_circles(n_samples,\n",
        "                    noise=0.03,\n",
        "                    random_state=42) # Random state is so that every time we get ssame data (Reproducability)"
      ]
    },
    {
      "cell_type": "code",
      "execution_count": null,
      "metadata": {
        "colab": {
          "base_uri": "https://localhost:8080/"
        },
        "id": "1oKplAbgLKvk",
        "outputId": "2fd9533b-f4ff-4971-e3c2-2006e8bc1f1d"
      },
      "outputs": [
        {
          "data": {
            "text/plain": [
              "array([[ 0.75424625,  0.23148074],\n",
              "       [-0.75615888,  0.15325888],\n",
              "       [-0.81539193,  0.17328203],\n",
              "       ...,\n",
              "       [-0.13690036, -0.81001183],\n",
              "       [ 0.67036156, -0.76750154],\n",
              "       [ 0.28105665,  0.96382443]])"
            ]
          },
          "execution_count": 2,
          "metadata": {},
          "output_type": "execute_result"
        }
      ],
      "source": [
        "# Check out the features\n",
        "X"
      ]
    },
    {
      "cell_type": "code",
      "execution_count": null,
      "metadata": {
        "colab": {
          "base_uri": "https://localhost:8080/"
        },
        "id": "7SKY2uRFLMXL",
        "outputId": "27b4e409-9aa7-4235-d713-1ed061943a7e"
      },
      "outputs": [
        {
          "data": {
            "text/plain": [
              "array([1, 1, 1, 1, 0, 1, 1, 1, 1, 0])"
            ]
          },
          "execution_count": 3,
          "metadata": {},
          "output_type": "execute_result"
        }
      ],
      "source": [
        "# Check the labels\n",
        "y[:10]"
      ]
    },
    {
      "cell_type": "markdown",
      "metadata": {
        "id": "0R9JcJfQLl9y"
      },
      "source": [
        "Our data is little hard to understand lets visualize it."
      ]
    },
    {
      "cell_type": "code",
      "execution_count": null,
      "metadata": {
        "colab": {
          "base_uri": "https://localhost:8080/",
          "height": 206
        },
        "id": "I7Bb0PhSLPjd",
        "outputId": "8ffaf624-f4c3-42c7-d749-896310fedfe7"
      },
      "outputs": [
        {
          "data": {
            "text/html": [
              "\n",
              "  <div id=\"df-8e46f826-de6d-4994-bae8-a46fc075ae49\">\n",
              "    <div class=\"colab-df-container\">\n",
              "      <div>\n",
              "<style scoped>\n",
              "    .dataframe tbody tr th:only-of-type {\n",
              "        vertical-align: middle;\n",
              "    }\n",
              "\n",
              "    .dataframe tbody tr th {\n",
              "        vertical-align: top;\n",
              "    }\n",
              "\n",
              "    .dataframe thead th {\n",
              "        text-align: right;\n",
              "    }\n",
              "</style>\n",
              "<table border=\"1\" class=\"dataframe\">\n",
              "  <thead>\n",
              "    <tr style=\"text-align: right;\">\n",
              "      <th></th>\n",
              "      <th>X0</th>\n",
              "      <th>X1</th>\n",
              "      <th>label</th>\n",
              "    </tr>\n",
              "  </thead>\n",
              "  <tbody>\n",
              "    <tr>\n",
              "      <th>0</th>\n",
              "      <td>0.754246</td>\n",
              "      <td>0.231481</td>\n",
              "      <td>1</td>\n",
              "    </tr>\n",
              "    <tr>\n",
              "      <th>1</th>\n",
              "      <td>-0.756159</td>\n",
              "      <td>0.153259</td>\n",
              "      <td>1</td>\n",
              "    </tr>\n",
              "    <tr>\n",
              "      <th>2</th>\n",
              "      <td>-0.815392</td>\n",
              "      <td>0.173282</td>\n",
              "      <td>1</td>\n",
              "    </tr>\n",
              "    <tr>\n",
              "      <th>3</th>\n",
              "      <td>-0.393731</td>\n",
              "      <td>0.692883</td>\n",
              "      <td>1</td>\n",
              "    </tr>\n",
              "    <tr>\n",
              "      <th>4</th>\n",
              "      <td>0.442208</td>\n",
              "      <td>-0.896723</td>\n",
              "      <td>0</td>\n",
              "    </tr>\n",
              "  </tbody>\n",
              "</table>\n",
              "</div>\n",
              "      <button class=\"colab-df-convert\" onclick=\"convertToInteractive('df-8e46f826-de6d-4994-bae8-a46fc075ae49')\"\n",
              "              title=\"Convert this dataframe to an interactive table.\"\n",
              "              style=\"display:none;\">\n",
              "        \n",
              "  <svg xmlns=\"http://www.w3.org/2000/svg\" height=\"24px\"viewBox=\"0 0 24 24\"\n",
              "       width=\"24px\">\n",
              "    <path d=\"M0 0h24v24H0V0z\" fill=\"none\"/>\n",
              "    <path d=\"M18.56 5.44l.94 2.06.94-2.06 2.06-.94-2.06-.94-.94-2.06-.94 2.06-2.06.94zm-11 1L8.5 8.5l.94-2.06 2.06-.94-2.06-.94L8.5 2.5l-.94 2.06-2.06.94zm10 10l.94 2.06.94-2.06 2.06-.94-2.06-.94-.94-2.06-.94 2.06-2.06.94z\"/><path d=\"M17.41 7.96l-1.37-1.37c-.4-.4-.92-.59-1.43-.59-.52 0-1.04.2-1.43.59L10.3 9.45l-7.72 7.72c-.78.78-.78 2.05 0 2.83L4 21.41c.39.39.9.59 1.41.59.51 0 1.02-.2 1.41-.59l7.78-7.78 2.81-2.81c.8-.78.8-2.07 0-2.86zM5.41 20L4 18.59l7.72-7.72 1.47 1.35L5.41 20z\"/>\n",
              "  </svg>\n",
              "      </button>\n",
              "      \n",
              "  <style>\n",
              "    .colab-df-container {\n",
              "      display:flex;\n",
              "      flex-wrap:wrap;\n",
              "      gap: 12px;\n",
              "    }\n",
              "\n",
              "    .colab-df-convert {\n",
              "      background-color: #E8F0FE;\n",
              "      border: none;\n",
              "      border-radius: 50%;\n",
              "      cursor: pointer;\n",
              "      display: none;\n",
              "      fill: #1967D2;\n",
              "      height: 32px;\n",
              "      padding: 0 0 0 0;\n",
              "      width: 32px;\n",
              "    }\n",
              "\n",
              "    .colab-df-convert:hover {\n",
              "      background-color: #E2EBFA;\n",
              "      box-shadow: 0px 1px 2px rgba(60, 64, 67, 0.3), 0px 1px 3px 1px rgba(60, 64, 67, 0.15);\n",
              "      fill: #174EA6;\n",
              "    }\n",
              "\n",
              "    [theme=dark] .colab-df-convert {\n",
              "      background-color: #3B4455;\n",
              "      fill: #D2E3FC;\n",
              "    }\n",
              "\n",
              "    [theme=dark] .colab-df-convert:hover {\n",
              "      background-color: #434B5C;\n",
              "      box-shadow: 0px 1px 3px 1px rgba(0, 0, 0, 0.15);\n",
              "      filter: drop-shadow(0px 1px 2px rgba(0, 0, 0, 0.3));\n",
              "      fill: #FFFFFF;\n",
              "    }\n",
              "  </style>\n",
              "\n",
              "      <script>\n",
              "        const buttonEl =\n",
              "          document.querySelector('#df-8e46f826-de6d-4994-bae8-a46fc075ae49 button.colab-df-convert');\n",
              "        buttonEl.style.display =\n",
              "          google.colab.kernel.accessAllowed ? 'block' : 'none';\n",
              "\n",
              "        async function convertToInteractive(key) {\n",
              "          const element = document.querySelector('#df-8e46f826-de6d-4994-bae8-a46fc075ae49');\n",
              "          const dataTable =\n",
              "            await google.colab.kernel.invokeFunction('convertToInteractive',\n",
              "                                                     [key], {});\n",
              "          if (!dataTable) return;\n",
              "\n",
              "          const docLinkHtml = 'Like what you see? Visit the ' +\n",
              "            '<a target=\"_blank\" href=https://colab.research.google.com/notebooks/data_table.ipynb>data table notebook</a>'\n",
              "            + ' to learn more about interactive tables.';\n",
              "          element.innerHTML = '';\n",
              "          dataTable['output_type'] = 'display_data';\n",
              "          await google.colab.output.renderOutput(dataTable, element);\n",
              "          const docLink = document.createElement('div');\n",
              "          docLink.innerHTML = docLinkHtml;\n",
              "          element.appendChild(docLink);\n",
              "        }\n",
              "      </script>\n",
              "    </div>\n",
              "  </div>\n",
              "  "
            ],
            "text/plain": [
              "         X0        X1  label\n",
              "0  0.754246  0.231481      1\n",
              "1 -0.756159  0.153259      1\n",
              "2 -0.815392  0.173282      1\n",
              "3 -0.393731  0.692883      1\n",
              "4  0.442208 -0.896723      0"
            ]
          },
          "execution_count": 4,
          "metadata": {},
          "output_type": "execute_result"
        }
      ],
      "source": [
        "import pandas as pd\n",
        "\n",
        "circles = pd.DataFrame({\"X0\":X[:,0],\"X1\":X[:,1],\"label\":y}) #ZEROTH AXIS FROM X , FIRST AXIS OF X, THE THE LABELS (1 AND 0) \n",
        "circles.head()"
      ]
    },
    {
      "cell_type": "code",
      "execution_count": null,
      "metadata": {
        "colab": {
          "base_uri": "https://localhost:8080/",
          "height": 430
        },
        "id": "d3OLSY5lLztt",
        "outputId": "4056d469-40ed-4f04-af20-153ae4b8cd0e"
      },
      "outputs": [
        {
          "data": {
            "image/png": "[encoded data removed]",
            "text/plain": [
              "<Figure size 640x480 with 1 Axes>"
            ]
          },
          "metadata": {},
          "output_type": "display_data"
        }
      ],
      "source": [
        "# Visualize with a plot\n",
        "import matplotlib.pyplot as plt\n",
        "\n",
        "plt.scatter(X[:,0],X[:,1],c=y, cmap=plt.cm.RdYlBu);\n",
        "#Our data makes a large circle with a smaler circle in 2d."
      ]
    },
    {
      "cell_type": "markdown",
      "metadata": {
        "id": "QFNcdOF8MWEC"
      },
      "source": [
        "In this model we are going to build a model to classify between red and blue dots of circles. We basically want our model to build kind of a line between the red and blue circle. 0 and 1 means red and blue in our circles[\"labels\"]"
      ]
    },
    {
      "cell_type": "markdown",
      "metadata": {
        "id": "eQqEUsoOMNBN"
      },
      "source": [
        "## Input and output Shapes"
      ]
    },
    {
      "cell_type": "code",
      "execution_count": null,
      "metadata": {
        "colab": {
          "base_uri": "https://localhost:8080/"
        },
        "id": "PndbEwRmNTY0",
        "outputId": "94a6d4dc-5a77-4111-8945-c0859dcde031"
      },
      "outputs": [
        {
          "data": {
            "text/plain": [
              "((1000, 2), (1000,))"
            ]
          },
          "execution_count": 6,
          "metadata": {},
          "output_type": "execute_result"
        }
      ],
      "source": [
        "# Check the shapes of our features and labels.\n",
        "\n",
        "X.shape, y.shape\n",
        "#Y has only one value so desent has a second dimension"
      ]
    },
    {
      "cell_type": "code",
      "execution_count": null,
      "metadata": {
        "colab": {
          "base_uri": "https://localhost:8080/"
        },
        "id": "vLJFH2KdNXP5",
        "outputId": "6d75b481-9dcd-4126-8300-87f119e1de45"
      },
      "outputs": [
        {
          "data": {
            "text/plain": [
              "(1000, 1000)"
            ]
          },
          "execution_count": 7,
          "metadata": {},
          "output_type": "execute_result"
        }
      ],
      "source": [
        "# How many samples are we working with\n",
        "len(X) , len(y)"
      ]
    },
    {
      "cell_type": "code",
      "execution_count": null,
      "metadata": {
        "colab": {
          "base_uri": "https://localhost:8080/"
        },
        "id": "z19VPC0mNh0c",
        "outputId": "37cad090-72e6-4558-d38f-d316ccfacd0d"
      },
      "outputs": [
        {
          "data": {
            "text/plain": [
              "(array([0.75424625, 0.23148074]), 1)"
            ]
          },
          "execution_count": 8,
          "metadata": {},
          "output_type": "execute_result"
        }
      ],
      "source": [
        "# View the first example of features and labels\n",
        "X[0], y[0]"
      ]
    },
    {
      "cell_type": "markdown",
      "metadata": {
        "id": "JnivPEmCNnOp"
      },
      "source": [
        "## Steps in modelling"
      ]
    },
    {
      "cell_type": "code",
      "execution_count": null,
      "metadata": {
        "id": "qoipbJO3QDCM"
      },
      "outputs": [],
      "source": [
        "import tensorflow as tf"
      ]
    },
    {
      "cell_type": "code",
      "execution_count": null,
      "metadata": {
        "colab": {
          "base_uri": "https://localhost:8080/"
        },
        "id": "rlyhCiHrNw1j",
        "outputId": "da350f06-85a6-4b17-c4b7-0afd25703c26"
      },
      "outputs": [
        {
          "name": "stdout",
          "output_type": "stream",
          "text": [
            "Epoch 1/5\n",
            "32/32 [==============================] - 1s 2ms/step - loss: 5.4624 - accuracy: 0.4830\n",
            "Epoch 2/5\n",
            "32/32 [==============================] - 0s 1ms/step - loss: 4.8413 - accuracy: 0.4900\n",
            "Epoch 3/5\n",
            "32/32 [==============================] - 0s 2ms/step - loss: 3.6884 - accuracy: 0.5180\n",
            "Epoch 4/5\n",
            "32/32 [==============================] - 0s 2ms/step - loss: 0.8155 - accuracy: 0.5000\n",
            "Epoch 5/5\n",
            "32/32 [==============================] - 0s 1ms/step - loss: 0.7218 - accuracy: 0.5010\n"
          ]
        },
        {
          "data": {
            "text/plain": [
              "<keras.callbacks.History at 0x7f5d012b6fa0>"
            ]
          },
          "execution_count": 10,
          "metadata": {},
          "output_type": "execute_result"
        }
      ],
      "source": [
        "# Set the random seed\n",
        "tf.random.set_seed(42)\n",
        "\n",
        "#1. Create the model using the Sequential API\n",
        "model_1 = tf.keras.Sequential([\n",
        "    tf.keras.layers.Dense(1)\n",
        "])\n",
        "\n",
        "#2. Compile (Note this is Binnary classification as there is 1 and 0)\n",
        "model_1.compile(loss = tf.keras.losses.binary_crossentropy, #BinaryCrossentropy because this is a binary classification problem.\n",
        "                optimizer=tf.keras.optimizers.SGD(),\n",
        "                metrics=[\"accuracy\"])\n",
        "\n",
        "#3. Fit the model\n",
        "model_1.fit(X,y,epochs=5) #As first model, later we will do more experimentation"
      ]
    },
    {
      "cell_type": "code",
      "execution_count": null,
      "metadata": {
        "id": "b1_7pGcjP_0z"
      },
      "outputs": [],
      "source": [
        "#accuracy: 0.5000 means in prediction, our model is only 50% right. (Its basically just guessing :( ))"
      ]
    },
    {
      "cell_type": "code",
      "execution_count": null,
      "metadata": {
        "colab": {
          "base_uri": "https://localhost:8080/"
        },
        "id": "cf1vemVXRZzM",
        "outputId": "f80232bc-ac4d-42cf-d4ae-e3ac58cc7d4d"
      },
      "outputs": [
        {
          "name": "stdout",
          "output_type": "stream",
          "text": [
            "32/32 [==============================] - 1s 3ms/step - loss: 0.6935 - accuracy: 0.5000\n"
          ]
        },
        {
          "data": {
            "text/plain": [
              "[0.6934831142425537, 0.5]"
            ]
          },
          "execution_count": 12,
          "metadata": {},
          "output_type": "execute_result"
        }
      ],
      "source": [
        "# Lets try and improve our model by training for longer\n",
        "model_1.fit(X,y,epochs=200,verbose=0)\n",
        "model_1.evaluate(X,y)\n",
        "# Only 50% accuracy for 200 epochs?? lets now add a new layer"
      ]
    },
    {
      "cell_type": "code",
      "execution_count": null,
      "metadata": {
        "id": "e9KiiZ0PRiH2"
      },
      "outputs": [],
      "source": [
        "#Set the random seed\n",
        "tf.random.set_seed(42)\n",
        "\n",
        "#1. Create a model\n",
        "model_2 = tf.keras.Sequential([\n",
        "    tf.keras.layers.Dense(1),\n",
        "    tf.keras.layers.Dense(1)\n",
        "])\n",
        "\n",
        "#2. Compile the model\n",
        "model_2.compile(loss=tf.keras.losses.binary_crossentropy, #BinaryCrossentropy because this is a binary classification problem.\n",
        "                optimizer=tf.keras.optimizers.SGD(),\n",
        "                metrics=[\"accuracy\"])\n",
        "\n",
        "#3.Fit the model\n",
        "model_2.fit(X,y,epochs=100,verbose=0)"
      ]
    },
    {
      "cell_type": "code",
      "execution_count": null,
      "metadata": {
        "id": "BouReRwoSOt_"
      },
      "outputs": [],
      "source": [
        "#4. Evaluate the model\n",
        "model_2.evaluate(X,y) #Note that we are evaluating on the same data. It is not a good practice always use training and testing :)"
      ]
    },
    {
      "cell_type": "code",
      "execution_count": null,
      "metadata": {
        "id": "3sZNebZeSdrx"
      },
      "outputs": [],
      "source": [
        "#WHy are we getting same 50 accuracy\n",
        "# Lets look at the number of red and blue circles\n",
        "circles[\"label\"].value_counts()"
      ]
    },
    {
      "cell_type": "markdown",
      "metadata": {
        "id": "B0m7ram-SwoY"
      },
      "source": [
        "# Improving our model\n",
        "\n",
        "Lets look into our bag of tricks on how we can improve our model.\n",
        "\n",
        "1. **Create a model** - Add more layers or increase the number of hidden units within the layers\n",
        "2. **Compile a model** - We might want to choose a diffrent optimization function such as Adam instead of SGD\n",
        "3. **Fitting the model** - Perhaps we might fit our model for more epochs (leave it training for longer)"
      ]
    },
    {
      "cell_type": "code",
      "execution_count": null,
      "metadata": {
        "id": "ObCOKz9sTfpO"
      },
      "outputs": [],
      "source": [
        "# Set the random seed\n",
        "tf.random.set_seed(42)\n",
        "\n",
        "#1. Create a model (this time 3 layers)\n",
        "model_3 = tf.keras.Sequential([\n",
        "    tf.keras.layers.Dense(100), #Add 100 dense neuraons\n",
        "    tf.keras.layers.Dense(10), #Add another layers with 10 neurons\n",
        "    tf.keras.layers.Dense(1)\n",
        "])\n",
        "\n",
        "#2. Compile the model\n",
        "model_3.compile(loss=tf.keras.losses.binary_crossentropy,\n",
        "                optimizer=tf.keras.optimizers.Adam(),\n",
        "                metrics=[\"accuracy\"])\n",
        "\n",
        "#3. Fit the model\n",
        "model_3.fit(X,y,epochs=100,verbose=0)\n"
      ]
    },
    {
      "cell_type": "code",
      "execution_count": null,
      "metadata": {
        "id": "zaAxN6lRU3xC"
      },
      "outputs": [],
      "source": [
        "#4. Evaluate the model\n",
        "model_3.evaluate(X,y) #We are still getting 50 accuracy??????...bro why :("
      ]
    },
    {
      "cell_type": "markdown",
      "metadata": {
        "id": "8MKdGyAnU_l2"
      },
      "source": [
        "# Creating a function to visualize our models prediction to plot predictions on the data scatterplot (to check the decission boundary)\n",
        "\n",
        "* Take in a trained model\n",
        "* Create a meshgrid of diffrent X values\n",
        "* Make predictions across a meshgrid\n",
        "* Plot the predictions as well as lines between zones (where each unique class falls)"
      ]
    },
    {
      "cell_type": "code",
      "execution_count": null,
      "metadata": {
        "id": "updTfG6CWOJ-"
      },
      "outputs": [],
      "source": [
        "import numpy as np\n",
        "def plot_decission_boundary(model, X, y):\n",
        "  # Define the axis boundaries of the plot and create a meshgird\n",
        "  x_min, x_max = X[:,0].min() - 0.1, X[:,0].max() +0.1 # 0.1 to get bit of a margin\n",
        "  y_min, y_max =  X[:,1].min() - 0.1, X[:,1].max() +0.1\n",
        "  xx, yy = np.meshgrid(np.linspace(x_min,x_max,100),\n",
        "                       np.linspace(y_min,y_max,100)) #Linspace returns evenly spaced numbers over a specified interval. (with size=100)\n",
        "  #Create a X value (we're going to make predictions on these)\n",
        "  x_in = np.c_[xx.ravel(), yy.ravel()] #._c translates slice objects to concatenate along the second axis (Stack 2d arrays together)\n",
        "\n",
        "  #Make Predictions\n",
        "  y_pred = model.predict(x_in)\n",
        "\n",
        "  #Check for the multiclass class\n",
        "  if len(y_pred[0]) >1:\n",
        "    print(\"doing multiclass classification\")\n",
        "    #We have to reshape our predictions to make them ready\n",
        "    y_pred = np.argmax(y_pred, axis=1).reshape(xx.shape)\n",
        "  else:\n",
        "    print(\"doing binary classification\")\n",
        "    y_pred = np.round(y_pred).reshape(xx.shape)\n",
        "\n",
        "  #Plot the decission boundary\n",
        "  plt.contourf(xx,yy,y_pred,cmap=plt.cm.RdYlBu,alpha=0.7)\n",
        "  plt.scatter(X[:,0],X[:,1],c=y,s=40,cmap=plt.cm.RdYlBu)\n",
        "  plt.xlim(xx.min(),xx.max())\n",
        "  plt.ylim(yy.min(),yy.max())\n"
      ]
    },
    {
      "cell_type": "code",
      "execution_count": null,
      "metadata": {
        "colab": {
          "background_save": true
        },
        "id": "sA8PdMsNW9VH",
        "outputId": "5fd8a9fd-d670-427b-c05e-f4323ab8549b"
      },
      "outputs": [
        {
          "name": "stdout",
          "output_type": "stream",
          "text": [
            "313/313 [==============================] - 1s 3ms/step\n",
            "doing binary classification\n"
          ]
        },
        {
          "data": {
            "image/png": "[encoded data removed]",
            "text/plain": [
              "<Figure size 640x480 with 1 Axes>"
            ]
          },
          "metadata": {},
          "output_type": "display_data"
        }
      ],
      "source": [
        "plot_decission_boundary(model=model_3,\n",
        "                        X=X,\n",
        "                        y=tf.expand_dims(y,axis=1))\n",
        "#The line down there is our predictions.....we wanted a circle."
      ]
    },
    {
      "cell_type": "code",
      "execution_count": null,
      "metadata": {
        "colab": {
          "background_save": true
        },
        "id": "RZEUpgPuZQKA",
        "outputId": "8753c9df-a368-4635-8ac4-3b4d4f2e79c2"
      },
      "outputs": [
        {
          "name": "stdout",
          "output_type": "stream",
          "text": [
            "Epoch 1/100\n"
          ]
        },
        {
          "ename": "ValueError",
          "evalue": "ignored",
          "output_type": "error",
          "traceback": [
            "\u001b[0;31m---------------------------------------------------------------------------\u001b[0m",
            "\u001b[0;31mValueError\u001b[0m                                Traceback (most recent call last)",
            "\u001b[0;32m<ipython-input-20-f9991e9c546c>\u001b[0m in \u001b[0;36m<cell line: 17>\u001b[0;34m()\u001b[0m\n\u001b[1;32m     15\u001b[0m \u001b[0;34m\u001b[0m\u001b[0m\n\u001b[1;32m     16\u001b[0m \u001b[0;31m#Fit our model to the regression data\u001b[0m\u001b[0;34m\u001b[0m\u001b[0;34m\u001b[0m\u001b[0m\n\u001b[0;32m---> 17\u001b[0;31m \u001b[0mmodel_3\u001b[0m\u001b[0;34m.\u001b[0m\u001b[0mfit\u001b[0m\u001b[0;34m(\u001b[0m\u001b[0mtf\u001b[0m\u001b[0;34m.\u001b[0m\u001b[0mexpand_dims\u001b[0m\u001b[0;34m(\u001b[0m\u001b[0mX_reg_train\u001b[0m\u001b[0;34m,\u001b[0m\u001b[0maxis\u001b[0m\u001b[0;34m=\u001b[0m\u001b[0;34m-\u001b[0m\u001b[0;36m1\u001b[0m\u001b[0;34m)\u001b[0m\u001b[0;34m,\u001b[0m\u001b[0my_reg_train\u001b[0m\u001b[0;34m,\u001b[0m\u001b[0mepochs\u001b[0m\u001b[0;34m=\u001b[0m\u001b[0;36m100\u001b[0m\u001b[0;34m)\u001b[0m\u001b[0;34m\u001b[0m\u001b[0;34m\u001b[0m\u001b[0m\n\u001b[0m",
            "\u001b[0;32m/usr/local/lib/python3.9/dist-packages/keras/utils/traceback_utils.py\u001b[0m in \u001b[0;36merror_handler\u001b[0;34m(*args, **kwargs)\u001b[0m\n\u001b[1;32m     68\u001b[0m             \u001b[0;31m# To get the full stack trace, call:\u001b[0m\u001b[0;34m\u001b[0m\u001b[0;34m\u001b[0m\u001b[0m\n\u001b[1;32m     69\u001b[0m             \u001b[0;31m# `tf.debugging.disable_traceback_filtering()`\u001b[0m\u001b[0;34m\u001b[0m\u001b[0;34m\u001b[0m\u001b[0m\n\u001b[0;32m---> 70\u001b[0;31m             \u001b[0;32mraise\u001b[0m \u001b[0me\u001b[0m\u001b[0;34m.\u001b[0m\u001b[0mwith_traceback\u001b[0m\u001b[0;34m(\u001b[0m\u001b[0mfiltered_tb\u001b[0m\u001b[0;34m)\u001b[0m \u001b[0;32mfrom\u001b[0m \u001b[0;32mNone\u001b[0m\u001b[0;34m\u001b[0m\u001b[0;34m\u001b[0m\u001b[0m\n\u001b[0m\u001b[1;32m     71\u001b[0m         \u001b[0;32mfinally\u001b[0m\u001b[0;34m:\u001b[0m\u001b[0;34m\u001b[0m\u001b[0;34m\u001b[0m\u001b[0m\n\u001b[1;32m     72\u001b[0m             \u001b[0;32mdel\u001b[0m \u001b[0mfiltered_tb\u001b[0m\u001b[0;34m\u001b[0m\u001b[0;34m\u001b[0m\u001b[0m\n",
            "\u001b[0;32m/usr/local/lib/python3.9/dist-packages/keras/engine/training.py\u001b[0m in \u001b[0;36mtf__train_function\u001b[0;34m(iterator)\u001b[0m\n\u001b[1;32m     13\u001b[0m                 \u001b[0;32mtry\u001b[0m\u001b[0;34m:\u001b[0m\u001b[0;34m\u001b[0m\u001b[0;34m\u001b[0m\u001b[0m\n\u001b[1;32m     14\u001b[0m                     \u001b[0mdo_return\u001b[0m \u001b[0;34m=\u001b[0m \u001b[0;32mTrue\u001b[0m\u001b[0;34m\u001b[0m\u001b[0;34m\u001b[0m\u001b[0m\n\u001b[0;32m---> 15\u001b[0;31m                     \u001b[0mretval_\u001b[0m \u001b[0;34m=\u001b[0m \u001b[0mag__\u001b[0m\u001b[0;34m.\u001b[0m\u001b[0mconverted_call\u001b[0m\u001b[0;34m(\u001b[0m\u001b[0mag__\u001b[0m\u001b[0;34m.\u001b[0m\u001b[0mld\u001b[0m\u001b[0;34m(\u001b[0m\u001b[0mstep_function\u001b[0m\u001b[0;34m)\u001b[0m\u001b[0;34m,\u001b[0m \u001b[0;34m(\u001b[0m\u001b[0mag__\u001b[0m\u001b[0;34m.\u001b[0m\u001b[0mld\u001b[0m\u001b[0;34m(\u001b[0m\u001b[0mself\u001b[0m\u001b[0;34m)\u001b[0m\u001b[0;34m,\u001b[0m \u001b[0mag__\u001b[0m\u001b[0;34m.\u001b[0m\u001b[0mld\u001b[0m\u001b[0;34m(\u001b[0m\u001b[0miterator\u001b[0m\u001b[0;34m)\u001b[0m\u001b[0;34m)\u001b[0m\u001b[0;34m,\u001b[0m \u001b[0;32mNone\u001b[0m\u001b[0;34m,\u001b[0m \u001b[0mfscope\u001b[0m\u001b[0;34m)\u001b[0m\u001b[0;34m\u001b[0m\u001b[0;34m\u001b[0m\u001b[0m\n\u001b[0m\u001b[1;32m     16\u001b[0m                 \u001b[0;32mexcept\u001b[0m\u001b[0;34m:\u001b[0m\u001b[0;34m\u001b[0m\u001b[0;34m\u001b[0m\u001b[0m\n\u001b[1;32m     17\u001b[0m                     \u001b[0mdo_return\u001b[0m \u001b[0;34m=\u001b[0m \u001b[0;32mFalse\u001b[0m\u001b[0;34m\u001b[0m\u001b[0;34m\u001b[0m\u001b[0m\n",
            "\u001b[0;31mValueError\u001b[0m: in user code:\n\n    File \"/usr/local/lib/python3.9/dist-packages/keras/engine/training.py\", line 1284, in train_function  *\n        return step_function(self, iterator)\n    File \"/usr/local/lib/python3.9/dist-packages/keras/engine/training.py\", line 1268, in step_function  **\n        outputs = model.distribute_strategy.run(run_step, args=(data,))\n    File \"/usr/local/lib/python3.9/dist-packages/keras/engine/training.py\", line 1249, in run_step  **\n        outputs = model.train_step(data)\n    File \"/usr/local/lib/python3.9/dist-packages/keras/engine/training.py\", line 1050, in train_step\n        y_pred = self(x, training=True)\n    File \"/usr/local/lib/python3.9/dist-packages/keras/utils/traceback_utils.py\", line 70, in error_handler\n        raise e.with_traceback(filtered_tb) from None\n    File \"/usr/local/lib/python3.9/dist-packages/keras/engine/input_spec.py\", line 280, in assert_input_compatibility\n        raise ValueError(\n\n    ValueError: Exception encountered when calling layer 'sequential_2' (type Sequential).\n    \n    Input 0 of layer \"dense_3\" is incompatible with the layer: expected axis -1 of input shape to have value 2, but received input with shape (None, 1)\n    \n    Call arguments received by layer 'sequential_2' (type Sequential):\n      • inputs=tf.Tensor(shape=(None, 1), dtype=int32)\n      • training=True\n      • mask=None\n"
          ]
        }
      ],
      "source": [
        "# Lets see if our model can be used for reression problem\n",
        "\n",
        "tf.random.set_seed(42)\n",
        "\n",
        "#Create some regression data\n",
        "X_regression = tf.range(0,1000,5)\n",
        "y_regression = tf.range(100,1100,5) # Y = x+100\n",
        "\n",
        "#Split our regression data into training and test sets\n",
        "X_reg_train = X_regression[:150]\n",
        "X_reg_test = X_regression[150:]\n",
        "\n",
        "y_reg_train = y_regression[:150]\n",
        "y_reg_test = y_regression[150:]\n",
        "\n",
        "#Fit our model to the regression data\n",
        "model_3.fit(tf.expand_dims(X_reg_train,axis=-1),y_reg_train,epochs=100)"
      ]
    },
    {
      "cell_type": "markdown",
      "metadata": {
        "id": "haqA8Tw-cvwm"
      },
      "source": [
        "Oh... wait we compiled our model for a binary classification problem\n",
        "\n",
        "But... we re now now working on regression problem, lets change this model to suit our data"
      ]
    },
    {
      "cell_type": "code",
      "execution_count": null,
      "metadata": {
        "colab": {
          "background_save": true
        },
        "id": "zmfZjRtVbnLi"
      },
      "outputs": [],
      "source": [
        "# Setup the random seed\n",
        "tf.random.set_seed(42)\n",
        "\n",
        "#1. Create the model\n",
        "model_3 = tf.keras.Sequential([\n",
        "    tf.keras.layers.Dense(100),\n",
        "    tf.keras.layers.Dense(10),\n",
        "    tf.keras.layers.Dense(1)\n",
        "])\n",
        "\n",
        "#Compile this time with a regression specfic loss function\n",
        "model_3.compile(loss=tf.keras.losses.mae,\n",
        "                optimizer=tf.keras.optimizers.Adam(),\n",
        "                metrics=[\"mae\"])\n",
        "\n",
        "#Fit the model\n",
        "model_3.fit(tf.expand_dims(X_reg_train,axis=-1),y_reg_train,epochs=100)"
      ]
    },
    {
      "cell_type": "code",
      "execution_count": null,
      "metadata": {
        "colab": {
          "background_save": true
        },
        "id": "ZArH3xmVdcBU"
      },
      "outputs": [],
      "source": [
        "\n",
        "# Make predictions with our trained model\n",
        "y_reg_preds = model_3.predict(X_reg_test)\n",
        "\n",
        "#Plot the models predictions against our regression data\n",
        "plt.figure(figsize=(10,7))\n",
        "plt.scatter(X_reg_train, y_reg_train, c=\"b\",label=\"Training data\")\n",
        "plt.scatter(X_reg_test, y_reg_test, c=\"g\",label=\"Test Data\")\n",
        "plt.scatter(X_reg_test,y_reg_preds,c=\"r\",label=\"Predictions\")\n",
        "plt.legend();"
      ]
    },
    {
      "cell_type": "markdown",
      "metadata": {
        "id": "d1-cgEYBdlh4"
      },
      "source": [
        "## The missing peice: Non Linearity (One of the most important concepts in neural networks)"
      ]
    },
    {
      "cell_type": "code",
      "execution_count": null,
      "metadata": {
        "colab": {
          "background_save": true
        },
        "id": "vaTW-cSTAn-y"
      },
      "outputs": [],
      "source": [
        "# Set the random seed\n",
        "tf.random.set_seed(42)\n",
        "\n",
        "#1. Create the model\n",
        "model_4 = tf.keras.Sequential([\n",
        "    tf.keras.layers.Dense(1,activation=tf.keras.activations.linear)\n",
        "])\n",
        "\n",
        "#2. Comile the model\n",
        "model_4.compile(loss=tf.keras.losses.binary_crossentropy,\n",
        "                optimizer=tf.keras.optimizers.Adam(lr=0.001),\n",
        "                metrics=[\"accuracy\"])\n",
        "\n",
        "#3.Fit the model\n",
        "history = model_4.fit(X,y,epochs=100)"
      ]
    },
    {
      "cell_type": "code",
      "execution_count": null,
      "metadata": {
        "colab": {
          "background_save": true
        },
        "id": "Bv4rOGKWBd03"
      },
      "outputs": [],
      "source": [
        "plt.scatter(X[:,0],X[:,1],c=y,cmap=plt.cm.RdYlBu);"
      ]
    },
    {
      "cell_type": "code",
      "execution_count": null,
      "metadata": {
        "colab": {
          "background_save": true
        },
        "id": "7BVgRkR3B_LV"
      },
      "outputs": [],
      "source": [
        "# Check the decission boundary for the latest model\n",
        "plot_decission_boundary(model=model_4,\n",
        "                         X=X,\n",
        "                         y=y)"
      ]
    },
    {
      "cell_type": "markdown",
      "metadata": {
        "id": "p0X86uQZDC1P"
      },
      "source": [
        "Lets try build our first neural network with a non linear activation function"
      ]
    },
    {
      "cell_type": "code",
      "execution_count": null,
      "metadata": {
        "colab": {
          "background_save": true
        },
        "id": "xmKszbYXCTO2"
      },
      "outputs": [],
      "source": [
        "tf.random.set_seed(42)\n",
        "\n",
        "#Non linear activation\n",
        "model_5 = tf.keras.Sequential([\n",
        "    tf.keras.layers.Dense(1,activation=tf.keras.activations.relu)\n",
        "])\n",
        "\n",
        "model_5.compile(loss=tf.keras.losses.binary_crossentropy,\n",
        "                optimizer=tf.keras.optimizers.Adam(lr=0.001),\n",
        "                metrics=[\"accuracy\"])\n",
        "\n",
        "history = model_5.fit(X,y,epochs=100)"
      ]
    },
    {
      "cell_type": "code",
      "execution_count": null,
      "metadata": {
        "colab": {
          "background_save": true
        },
        "id": "g4U-i3xEDoAR"
      },
      "outputs": [],
      "source": [
        "# Time to replicate multilayer neural network from tensorflow playground\n",
        "tf.random.set_seed(42)\n",
        "\n",
        "model_6 = tf.keras.Sequential([\n",
        "    tf.keras.layers.Dense(4,activation=\"relu\"),\n",
        "    tf.keras.layers.Dense(4,activation=\"relu\"),\n",
        "    tf.keras.layers.Dense(1)\n",
        "])\n",
        "\n",
        "model_6.compile(loss=\"binary_crossentropy\",\n",
        "                optimizer=tf.keras.optimizers.Adam(lr=0.001),\n",
        "                metrics=[\"accuracy\"])\n",
        "\n",
        "history = model_6.fit(X,y,epochs=200)"
      ]
    },
    {
      "cell_type": "code",
      "execution_count": null,
      "metadata": {
        "colab": {
          "background_save": true
        },
        "id": "TLX7_8BzFShF"
      },
      "outputs": [],
      "source": [
        "plot_decission_boundary(model_6,X,y)"
      ]
    },
    {
      "cell_type": "code",
      "execution_count": null,
      "metadata": {
        "colab": {
          "background_save": true
        },
        "id": "-0-Fa9IkF4cG"
      },
      "outputs": [],
      "source": [
        "# Okayy again improving our model\n",
        "\n",
        "tf.random.set_seed(42)\n",
        "\n",
        "model_7 = tf.keras.Sequential([\n",
        "    tf.keras.layers.Dense(4,activation=\"relu\"),\n",
        "    tf.keras.layers.Dense(4,activation=\"relu\"),\n",
        "    tf.keras.layers.Dense(1,activation=\"sigmoid\") #OUTPUT ACTIVATION IS USUALLY SIGMOID AND HIDDEN(ABOVE 2 ARE HIDDEN) ARE RELU\n",
        "])\n",
        "\n",
        "model_7.compile(loss=\"binary_crossentropy\",\n",
        "                optimizer=tf.keras.optimizers.Adam(lr=0.001),\n",
        "                metrics=[\"accuracy\"])\n",
        "\n",
        "history = model_7.fit(X,y, epochs=100)"
      ]
    },
    {
      "cell_type": "code",
      "execution_count": null,
      "metadata": {
        "colab": {
          "background_save": true
        },
        "id": "sylhsL7-jA_N"
      },
      "outputs": [],
      "source": [
        "# We are getting like 98 accuracy\n",
        "\n",
        "#Lets evaluate\n",
        "model_7.evaluate(X,y)"
      ]
    },
    {
      "cell_type": "code",
      "execution_count": null,
      "metadata": {
        "colab": {
          "background_save": true
        },
        "id": "cdLdxFJHjPcs"
      },
      "outputs": [],
      "source": [
        "# Visualize\n",
        "plot_decission_boundary(model_7,X,y)\n",
        "#Mannnnnnn We Are Getting A Good Decisiion Boundary....except a few points"
      ]
    },
    {
      "cell_type": "markdown",
      "metadata": {
        "id": "ydrC1J_ojpAQ"
      },
      "source": [
        "Means Sigmoid is ideal for the output layer in classification and non linear stuff.\n",
        "\n",
        "\n",
        "***But the model trains and tests on the same data***\n",
        "\n",
        "***----The combination of non-linear(straingt lines) and non=linear lines functions is one of the key fundamental of neural networks----***\n",
        "\n",
        "Now we have discussed the concept of linear and non linearfunction now lets see them in action"
      ]
    },
    {
      "cell_type": "code",
      "execution_count": null,
      "metadata": {
        "colab": {
          "background_save": true
        },
        "id": "r5UwGMP4jX2B"
      },
      "outputs": [],
      "source": [
        "# Create a toy tensor (similiar to data we pass in our model)\n",
        "A = tf.cast(tf.range(-10,10),tf.float32)\n",
        "A"
      ]
    },
    {
      "cell_type": "code",
      "execution_count": null,
      "metadata": {
        "colab": {
          "background_save": true
        },
        "id": "CEbf9O4Mjhqt"
      },
      "outputs": [],
      "source": [
        "# Visualize our toy tensor\n",
        "plt.plot(A)"
      ]
    },
    {
      "cell_type": "markdown",
      "metadata": {
        "id": "YvV1qXHGmNXa"
      },
      "source": [
        "## Visualizing the SIGMOID FUNCTION"
      ]
    },
    {
      "cell_type": "code",
      "execution_count": null,
      "metadata": {
        "colab": {
          "background_save": true
        },
        "id": "hKOZvF3elCu9"
      },
      "outputs": [],
      "source": [
        "# Replicate the formula of sigmoid function... sigmoid(x) = 1/(1+exp(-x))\n",
        "def sigmoid(x):\n",
        "  return 1 / (1 + tf.exp(-x))\n",
        "\n",
        "#Use the sigmoid function on toy tensor A\n",
        "sigmoid(A)\n"
      ]
    },
    {
      "cell_type": "code",
      "execution_count": null,
      "metadata": {
        "colab": {
          "background_save": true
        },
        "id": "8pKD1YWSlzTd"
      },
      "outputs": [],
      "source": [
        "#Lets plot our toy tensor transformed by sigmoid\n",
        "plt.plot(sigmoid(A))"
      ]
    },
    {
      "cell_type": "markdown",
      "metadata": {
        "id": "Z21G1UDWl7qI"
      },
      "source": [
        "## VISUALISING THE RELU\n",
        "\n",
        "* ###### relu gives max(x,0) means (0 for x>0 and x for x<=0)"
      ]
    },
    {
      "cell_type": "code",
      "execution_count": null,
      "metadata": {
        "colab": {
          "background_save": true
        },
        "id": "_UOBS3bfmSgX"
      },
      "outputs": [],
      "source": [
        "def relu(x):\n",
        "  return tf.maximum(0,x)\n",
        "\n",
        "#Lets pass our toy tensor to our custom relu function\n",
        "A, relu(A) #Look relu makes all negetive to 0"
      ]
    },
    {
      "cell_type": "code",
      "execution_count": null,
      "metadata": {
        "colab": {
          "background_save": true
        },
        "id": "_v2e0bmQmqif"
      },
      "outputs": [],
      "source": [
        "# Lets plot our toy tensor on relu \n",
        "plt.plot(relu(A))"
      ]
    },
    {
      "cell_type": "markdown",
      "metadata": {
        "id": "ECDnLu7KnGsu"
      },
      "source": [
        "# Visualising the Linear Activation function\n",
        "\n",
        "* #####Returns the input unmodified :)"
      ]
    },
    {
      "cell_type": "code",
      "execution_count": null,
      "metadata": {
        "colab": {
          "background_save": true
        },
        "id": "N23SQJn1nXHZ"
      },
      "outputs": [],
      "source": [
        "#Lets try the linear\n",
        "tf.keras.activations.linear(A) #Just returns the tensor"
      ]
    },
    {
      "cell_type": "code",
      "execution_count": null,
      "metadata": {
        "colab": {
          "background_save": true
        },
        "id": "8bEJ70ymnis6"
      },
      "outputs": [],
      "source": [
        "plt.plot(tf.keras.activations.linear(A))"
      ]
    },
    {
      "cell_type": "code",
      "execution_count": null,
      "metadata": {
        "colab": {
          "background_save": true
        },
        "id": "WloOD4BinrQw"
      },
      "outputs": [],
      "source": [
        "#Does A even change\n",
        "A == tf.keras.activations.linear(A) #All of the elements remain the same."
      ]
    },
    {
      "cell_type": "markdown",
      "metadata": {
        "id": "qNHLdERDnvey"
      },
      "source": [
        "## Evaluating and improving our classifications\n",
        "\n",
        "* We must train our models on training and testing datasets"
      ]
    },
    {
      "cell_type": "code",
      "execution_count": null,
      "metadata": {
        "colab": {
          "background_save": true
        },
        "id": "F9cXgLdIogQi"
      },
      "outputs": [],
      "source": [
        "# Check the examples number\n",
        "len(X) #And this data is in random order"
      ]
    },
    {
      "cell_type": "code",
      "execution_count": null,
      "metadata": {
        "colab": {
          "background_save": true
        },
        "id": "TEpmQpkAs2OZ"
      },
      "outputs": [],
      "source": [
        "\n",
        "X_train, y_train = X[:800], y[:800]\n",
        "X_test, y_test = X[800:] , y[800:]\n",
        "\n",
        "X_train.shape, X_test.shape,y_train.shape, y_test.shape\n"
      ]
    },
    {
      "cell_type": "code",
      "execution_count": null,
      "metadata": {
        "colab": {
          "background_save": true
        },
        "id": "Ft_vePLHtOhp"
      },
      "outputs": [],
      "source": [
        "#Lets recreate a model to fit on training data and evaluate on testing data\n",
        "tf.random.set_seed(42)\n",
        "\n",
        "model_8 = tf.keras.Sequential([\n",
        "    tf.keras.layers.Dense(4,activation=\"relu\"),\n",
        "    tf.keras.layers.Dense(4,activation=\"relu\"),\n",
        "    tf.keras.layers.Dense(1,activation=\"sigmoid\")\n",
        "])\n",
        "\n",
        "model_8.compile(loss=\"binary_crossentropy\",\n",
        "                optimizer=tf.keras.optimizers.Adam(lr=0.01),\n",
        "                metrics=[\"accuracy\"]\n",
        ")\n",
        "\n",
        "history = model_8.fit(X_train,y_train,epochs=25)"
      ]
    },
    {
      "cell_type": "code",
      "execution_count": null,
      "metadata": {
        "colab": {
          "background_save": true
        },
        "id": "7-uer7jDuQZC"
      },
      "outputs": [],
      "source": [
        "#Evaluate the model on the test datasets\n",
        "model_8.evaluate(X_test,y_test)"
      ]
    },
    {
      "cell_type": "markdown",
      "metadata": {
        "id": "vVOvGbImugMC"
      },
      "source": [
        "## Plot the loss (or training) curves\n"
      ]
    },
    {
      "cell_type": "code",
      "execution_count": null,
      "metadata": {
        "colab": {
          "background_save": true
        },
        "id": "8Hxdw13Lu4ko"
      },
      "outputs": [],
      "source": [
        "# Convert the history object into DataFrame\n",
        "pd.DataFrame(history) #History keeps record of models analytics basically"
      ]
    },
    {
      "cell_type": "code",
      "execution_count": null,
      "metadata": {
        "colab": {
          "background_save": true
        },
        "id": "B5zvHlpPNe-7"
      },
      "outputs": [],
      "source": [
        "pd.DataFrame(history).plot()\n",
        "plt.title(\"MODEL 8 LOSS CURVE\")"
      ]
    },
    {
      "cell_type": "code",
      "execution_count": null,
      "metadata": {
        "colab": {
          "background_save": true
        },
        "id": "cJ9zDLSmPKtT"
      },
      "outputs": [],
      "source": [
        "## Using callbacks to eva"
      ]
    }
  ],
  "metadata": {
    "colab": {
      "provenance": [],
      "authorship_tag": "ABX9TyNpbGbO5zbwx2prGkLlI+Tm",
      "include_colab_link": true
    },
    "kernelspec": {
      "display_name": "Python 3",
      "name": "python3"
    },
    "language_info": {
      "name": "python"
    }
  },
  "nbformat": 4,
  "nbformat_minor": 0
}